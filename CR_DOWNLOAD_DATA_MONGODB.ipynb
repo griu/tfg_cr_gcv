{
 "cells": [
  {
   "cell_type": "markdown",
   "metadata": {},
   "source": [
    "# Annex: Complete analysis"
   ]
  },
  {
   "cell_type": "markdown",
   "metadata": {},
   "source": [
    "## Set the frame to work"
   ]
  },
  {
   "cell_type": "markdown",
   "metadata": {},
   "source": [
    "#### First of all we have to create both a Jupyter notebook and a MongoDB server to be able to write and have a storage for the data."
   ]
  },
  {
   "cell_type": "code",
   "execution_count": 1,
   "metadata": {},
   "outputs": [],
   "source": [
    "import pandas as pd\n",
    "import numpy as np\n",
    "import matplotlib.image as mpimg\n",
    "import matplotlib.pylab as plt\n",
    "from matplotlib.offsetbox import (OffsetImage,AnnotationBbox)\n",
    "match = lambda a, b: [ b.index(x) if x in b else None for x in a ]\n"
   ]
  },
  {
   "cell_type": "code",
   "execution_count": 228,
   "metadata": {},
   "outputs": [],
   "source": [
    "# MONGODB\n",
    "# importing mongodb library\n",
    "from pymongo import MongoClient\n",
    "# conecting to mongo server from a client\n",
    "client = MongoClient()"
   ]
  },
  {
   "cell_type": "code",
   "execution_count": 229,
   "metadata": {},
   "outputs": [],
   "source": [
    "# clash royale db\n",
    "db = client.clashroyale"
   ]
  },
  {
   "cell_type": "code",
   "execution_count": 230,
   "metadata": {},
   "outputs": [],
   "source": [
    "# battle collection log\n",
    "collection = db.battlelog"
   ]
  },
  {
   "cell_type": "code",
   "execution_count": 231,
   "metadata": {},
   "outputs": [],
   "source": [
    "clanColl = db.clans"
   ]
  },
  {
   "cell_type": "markdown",
   "metadata": {},
   "source": [
    "## Retrieve the data from the Clash Royale API"
   ]
  },
  {
   "cell_type": "markdown",
   "metadata": {},
   "source": [
    "There are 2 Api. The offical on and the community of gamers. For project I have chosen the official....:\n",
    "https://developer.clashroyale.com/#/   Official.   Raw data\n",
    "https://royaleapi.com/:    Community. acummulated statistics and oriented to BI."
   ]
  },
  {
   "cell_type": "markdown",
   "metadata": {},
   "source": [
    "### Retrieve all battles from the location \"Montserrat\""
   ]
  },
  {
   "cell_type": "code",
   "execution_count": 86,
   "metadata": {},
   "outputs": [],
   "source": [
    "urltxt = 'https://api.clashroyale.com/v1/locations/57000159/rankings/clans'\n",
    "locationmembersjs=requests.get(urltxt,headers=apiroyal0).json()"
   ]
  },
  {
   "cell_type": "code",
   "execution_count": 67,
   "metadata": {},
   "outputs": [
    {
     "data": {
      "text/plain": [
       "2"
      ]
     },
     "execution_count": 67,
     "metadata": {},
     "output_type": "execute_result"
    }
   ],
   "source": [
    "len(locationmembersjs)"
   ]
  },
  {
   "cell_type": "code",
   "execution_count": 68,
   "metadata": {},
   "outputs": [
    {
     "data": {
      "text/plain": [
       "{'tag': '#PPCQQLRL',\n",
       " 'name': 'Catalan Army',\n",
       " 'rank': 1,\n",
       " 'previousRank': 1,\n",
       " 'location': {'id': 57000159,\n",
       "  'name': 'Montserrat',\n",
       "  'isCountry': True,\n",
       "  'countryCode': 'MS'},\n",
       " 'clanScore': 50864,\n",
       " 'badgeId': 16000061,\n",
       " 'members': 48}"
      ]
     },
     "execution_count": 68,
     "metadata": {},
     "output_type": "execute_result"
    }
   ],
   "source": [
    "locationmembersjs[\"items\"][0]"
   ]
  },
  {
   "cell_type": "code",
   "execution_count": 78,
   "metadata": {},
   "outputs": [
    {
     "data": {
      "text/plain": [
       "{'tag': '#RJPGQR8P',\n",
       " 'name': 'Oriol_P',\n",
       " 'role': 'coLeader',\n",
       " 'expLevel': 13,\n",
       " 'trophies': 5509,\n",
       " 'arena': {'id': 54000017, 'name': 'League 6'},\n",
       " 'clanRank': 2,\n",
       " 'previousClanRank': 3,\n",
       " 'donations': 774,\n",
       " 'donationsReceived': 640,\n",
       " 'clanChestPoints': 0}"
      ]
     },
     "execution_count": 78,
     "metadata": {},
     "output_type": "execute_result"
    }
   ],
   "source": [
    "vectorjsblog[\"memberList\"][1]"
   ]
  },
  {
   "cell_type": "markdown",
   "metadata": {},
   "source": [
    "### We retrieve each clan information and their corresponding member list information"
   ]
  },
  {
   "cell_type": "code",
   "execution_count": null,
   "metadata": {},
   "outputs": [],
   "source": [
    "for clan in locationmembersjs[\"items\"]:\n",
    "    urltxt = 'https://api.clashroyale.com/v1/clans/%23'+clan[\"tag\"][1:]\n",
    "    clanjs=requests.get(urltxt,headers=apiroyal0).json()\n",
    "    if clanColl.find_one({\"tag\": clan[\"tag\"] }) == None:\n",
    "        clanColl.insert_one(clanjs)\n",
    "# In the following command, we make Python to write how many results it is getting. \n",
    "# It comes to a point that we get kicked out because of overextending the request for too much time.\n",
    "    print(collection.count_documents({}))\n",
    "    for member in clanjs[\"memberList\"]:\n",
    "        urltxt = 'https://api.clashroyale.com/v1/players/%23'+member[\"tag\"][1:]+'/battlelog'\n",
    "        vectorjsblog = requests.get(urltxt,headers=apiroyal0).json()    \n",
    "# Notice that in the below command, we avoid repeating the same match\n",
    "        for row in vectorjsblog:\n",
    "            if collection.find_one({\"battleTime\": row['battleTime'] , \"team.tag\": row['team'][0]['tag']}) == None:\n",
    "                collection.insert_one(row)\n"
   ]
  },
  {
   "cell_type": "markdown",
   "metadata": {},
   "source": [
    "# analisis clans"
   ]
  },
  {
   "cell_type": "markdown",
   "metadata": {},
   "source": [
    "### OPEN OUR MONGODB CLIENT SERVER TO GET clanColl AND collection"
   ]
  },
  {
   "cell_type": "code",
   "execution_count": 232,
   "metadata": {},
   "outputs": [],
   "source": [
    "from pymongo import MongoClient\n",
    "client = MongoClient()\n",
    "clanColl = db.clans\n",
    "collection = db.battlelog\n",
    "db = client.clashroyale"
   ]
  },
  {
   "cell_type": "code",
   "execution_count": 9,
   "metadata": {},
   "outputs": [
    {
     "name": "stdout",
     "output_type": "stream",
     "text": [
      "Our sample consists of 302252 matches\n"
     ]
    }
   ],
   "source": [
    "print(\"Our sample consists of %d matches\" % (collection.count_documents({})))"
   ]
  },
  {
   "cell_type": "code",
   "execution_count": 11,
   "metadata": {},
   "outputs": [
    {
     "name": "stdout",
     "output_type": "stream",
     "text": [
      "We have a total of 324 clans\n"
     ]
    },
    {
     "data": {
      "text/plain": [
       "324"
      ]
     },
     "execution_count": 11,
     "metadata": {},
     "output_type": "execute_result"
    }
   ],
   "source": [
    "print(\"We have a total of %d clans\" % (clanColl.count_documents({})))"
   ]
  },
  {
   "cell_type": "markdown",
   "metadata": {},
   "source": [
    "Let's get the clan collection from mongodb and turn it into a pandas dataframe "
   ]
  },
  {
   "cell_type": "code",
   "execution_count": 237,
   "metadata": {},
   "outputs": [],
   "source": [
    "clanCollDF = pd.DataFrame(clanColl.find())"
   ]
  },
  {
   "cell_type": "markdown",
   "metadata": {},
   "source": [
    "Let's look for the rows and columns of clan collection dataframe"
   ]
  },
  {
   "cell_type": "code",
   "execution_count": 238,
   "metadata": {},
   "outputs": [
    {
     "data": {
      "text/plain": [
       "(324, 17)"
      ]
     },
     "execution_count": 238,
     "metadata": {},
     "output_type": "execute_result"
    }
   ],
   "source": [
    "clanCollDF.shape"
   ]
  },
  {
   "cell_type": "markdown",
   "metadata": {},
   "source": [
    "To have a better image of our progress, we make Python show the first 5 results."
   ]
  },
  {
   "cell_type": "code",
   "execution_count": 15,
   "metadata": {},
   "outputs": [
    {
     "data": {
      "text/html": [
       "<div>\n",
       "<style scoped>\n",
       "    .dataframe tbody tr th:only-of-type {\n",
       "        vertical-align: middle;\n",
       "    }\n",
       "\n",
       "    .dataframe tbody tr th {\n",
       "        vertical-align: top;\n",
       "    }\n",
       "\n",
       "    .dataframe thead th {\n",
       "        text-align: right;\n",
       "    }\n",
       "</style>\n",
       "<table border=\"1\" class=\"dataframe\">\n",
       "  <thead>\n",
       "    <tr style=\"text-align: right;\">\n",
       "      <th></th>\n",
       "      <th>_id</th>\n",
       "      <th>badgeId</th>\n",
       "      <th>clanChestLevel</th>\n",
       "      <th>clanChestMaxLevel</th>\n",
       "      <th>clanChestPoints</th>\n",
       "      <th>clanChestStatus</th>\n",
       "      <th>clanScore</th>\n",
       "      <th>clanWarTrophies</th>\n",
       "      <th>description</th>\n",
       "      <th>donationsPerWeek</th>\n",
       "      <th>location</th>\n",
       "      <th>memberList</th>\n",
       "      <th>members</th>\n",
       "      <th>name</th>\n",
       "      <th>requiredTrophies</th>\n",
       "      <th>tag</th>\n",
       "      <th>type</th>\n",
       "    </tr>\n",
       "  </thead>\n",
       "  <tbody>\n",
       "    <tr>\n",
       "      <th>0</th>\n",
       "      <td>5c4ccb46f0266b39e86e6401</td>\n",
       "      <td>16000061</td>\n",
       "      <td>10</td>\n",
       "      <td>10</td>\n",
       "      <td>1600.0</td>\n",
       "      <td>inactive</td>\n",
       "      <td>48928</td>\n",
       "      <td>8111</td>\n",
       "      <td>Membres de la FCCR. Tenim equip competitiu @ro...</td>\n",
       "      <td>20490</td>\n",
       "      <td>{'id': 57000159, 'name': 'Montserrat', 'isCoun...</td>\n",
       "      <td>[{'tag': '#QVUV20J', 'name': 'xaviermb99', 'ro...</td>\n",
       "      <td>46</td>\n",
       "      <td>ROYALL I OLI</td>\n",
       "      <td>4600</td>\n",
       "      <td>#9C9Q8YJ9</td>\n",
       "      <td>open</td>\n",
       "    </tr>\n",
       "    <tr>\n",
       "      <th>1</th>\n",
       "      <td>5c4cf101f0266b39e86e69ca</td>\n",
       "      <td>16000061</td>\n",
       "      <td>1</td>\n",
       "      <td>0</td>\n",
       "      <td>NaN</td>\n",
       "      <td>inactive</td>\n",
       "      <td>50857</td>\n",
       "      <td>5169</td>\n",
       "      <td>Clan català d'amics.</td>\n",
       "      <td>20682</td>\n",
       "      <td>{'id': 57000159, 'name': 'Montserrat', 'isCoun...</td>\n",
       "      <td>[{'tag': '#29C02Q2U', 'name': 'Albert', 'role'...</td>\n",
       "      <td>48</td>\n",
       "      <td>Catalan Army</td>\n",
       "      <td>4900</td>\n",
       "      <td>#PPCQQLRL</td>\n",
       "      <td>inviteOnly</td>\n",
       "    </tr>\n",
       "    <tr>\n",
       "      <th>2</th>\n",
       "      <td>5c4cf135f0266b39e86e6e69</td>\n",
       "      <td>16000000</td>\n",
       "      <td>10</td>\n",
       "      <td>10</td>\n",
       "      <td>1600.0</td>\n",
       "      <td>inactive</td>\n",
       "      <td>50011</td>\n",
       "      <td>10822</td>\n",
       "      <td>Membre FCCR @FedcatCR. Pedrera @CremaCatalanaC...</td>\n",
       "      <td>23560</td>\n",
       "      <td>{'id': 57000159, 'name': 'Montserrat', 'isCoun...</td>\n",
       "      <td>[{'tag': '#8L22UJ8GP', 'name': 'kenshinakita',...</td>\n",
       "      <td>45</td>\n",
       "      <td>CremaCatalana 2</td>\n",
       "      <td>4600</td>\n",
       "      <td>#8P9VQPCY</td>\n",
       "      <td>inviteOnly</td>\n",
       "    </tr>\n",
       "    <tr>\n",
       "      <th>3</th>\n",
       "      <td>5c4cf169f0266b39e86e72c9</td>\n",
       "      <td>16000025</td>\n",
       "      <td>10</td>\n",
       "      <td>10</td>\n",
       "      <td>1600.0</td>\n",
       "      <td>inactive</td>\n",
       "      <td>49783</td>\n",
       "      <td>9600</td>\n",
       "      <td>Membre de la FCCR™ / Donec Perficiam! 🎗🎗 Catal...</td>\n",
       "      <td>23700</td>\n",
       "      <td>{'id': 57000159, 'name': 'Montserrat', 'isCoun...</td>\n",
       "      <td>[{'tag': '#2Y9LGUYVY', 'name': 'Mister MCF', '...</td>\n",
       "      <td>50</td>\n",
       "      <td>almogàvers 1714</td>\n",
       "      <td>4900</td>\n",
       "      <td>#2YYYGL</td>\n",
       "      <td>inviteOnly</td>\n",
       "    </tr>\n",
       "    <tr>\n",
       "      <th>4</th>\n",
       "      <td>5c4cf1a9f0266b39e86e7793</td>\n",
       "      <td>16000147</td>\n",
       "      <td>10</td>\n",
       "      <td>10</td>\n",
       "      <td>1600.0</td>\n",
       "      <td>inactive</td>\n",
       "      <td>49197</td>\n",
       "      <td>4795</td>\n",
       "      <td>Clan TOP! Diversió i respecte. Si participeu a...</td>\n",
       "      <td>22660</td>\n",
       "      <td>{'id': 57000159, 'name': 'Montserrat', 'isCoun...</td>\n",
       "      <td>[{'tag': '#202QRJQCR', 'name': 'Llibertatpreso...</td>\n",
       "      <td>50</td>\n",
       "      <td>Catalunya</td>\n",
       "      <td>4600</td>\n",
       "      <td>#Y2YV0Y</td>\n",
       "      <td>inviteOnly</td>\n",
       "    </tr>\n",
       "  </tbody>\n",
       "</table>\n",
       "</div>"
      ],
      "text/plain": [
       "                        _id   badgeId  clanChestLevel  clanChestMaxLevel  \\\n",
       "0  5c4ccb46f0266b39e86e6401  16000061              10                 10   \n",
       "1  5c4cf101f0266b39e86e69ca  16000061               1                  0   \n",
       "2  5c4cf135f0266b39e86e6e69  16000000              10                 10   \n",
       "3  5c4cf169f0266b39e86e72c9  16000025              10                 10   \n",
       "4  5c4cf1a9f0266b39e86e7793  16000147              10                 10   \n",
       "\n",
       "   clanChestPoints clanChestStatus  clanScore  clanWarTrophies  \\\n",
       "0           1600.0        inactive      48928             8111   \n",
       "1              NaN        inactive      50857             5169   \n",
       "2           1600.0        inactive      50011            10822   \n",
       "3           1600.0        inactive      49783             9600   \n",
       "4           1600.0        inactive      49197             4795   \n",
       "\n",
       "                                         description  donationsPerWeek  \\\n",
       "0  Membres de la FCCR. Tenim equip competitiu @ro...             20490   \n",
       "1                               Clan català d'amics.             20682   \n",
       "2  Membre FCCR @FedcatCR. Pedrera @CremaCatalanaC...             23560   \n",
       "3  Membre de la FCCR™ / Donec Perficiam! 🎗🎗 Catal...             23700   \n",
       "4  Clan TOP! Diversió i respecte. Si participeu a...             22660   \n",
       "\n",
       "                                            location  \\\n",
       "0  {'id': 57000159, 'name': 'Montserrat', 'isCoun...   \n",
       "1  {'id': 57000159, 'name': 'Montserrat', 'isCoun...   \n",
       "2  {'id': 57000159, 'name': 'Montserrat', 'isCoun...   \n",
       "3  {'id': 57000159, 'name': 'Montserrat', 'isCoun...   \n",
       "4  {'id': 57000159, 'name': 'Montserrat', 'isCoun...   \n",
       "\n",
       "                                          memberList  members  \\\n",
       "0  [{'tag': '#QVUV20J', 'name': 'xaviermb99', 'ro...       46   \n",
       "1  [{'tag': '#29C02Q2U', 'name': 'Albert', 'role'...       48   \n",
       "2  [{'tag': '#8L22UJ8GP', 'name': 'kenshinakita',...       45   \n",
       "3  [{'tag': '#2Y9LGUYVY', 'name': 'Mister MCF', '...       50   \n",
       "4  [{'tag': '#202QRJQCR', 'name': 'Llibertatpreso...       50   \n",
       "\n",
       "              name  requiredTrophies        tag        type  \n",
       "0     ROYALL I OLI              4600  #9C9Q8YJ9        open  \n",
       "1     Catalan Army              4900  #PPCQQLRL  inviteOnly  \n",
       "2  CremaCatalana 2              4600  #8P9VQPCY  inviteOnly  \n",
       "3  almogàvers 1714              4900    #2YYYGL  inviteOnly  \n",
       "4        Catalunya              4600    #Y2YV0Y  inviteOnly  "
      ]
     },
     "execution_count": 15,
     "metadata": {},
     "output_type": "execute_result"
    }
   ],
   "source": [
    "clanCollDF.head()"
   ]
  },
  {
   "cell_type": "code",
   "execution_count": 240,
   "metadata": {},
   "outputs": [
    {
     "data": {
      "text/plain": [
       "[{'tag': '#QVUV20J',\n",
       "  'name': 'xaviermb99',\n",
       "  'role': 'elder',\n",
       "  'expLevel': 13,\n",
       "  'trophies': 5598,\n",
       "  'arena': {'id': 54000017, 'name': 'League 6'},\n",
       "  'clanRank': 1,\n",
       "  'previousClanRank': 1,\n",
       "  'donations': 298,\n",
       "  'donationsReceived': 600},\n",
       " {'tag': '#2V2GRYC2',\n",
       "  'name': 'Lord Snow',\n",
       "  'role': 'coLeader',\n",
       "  'expLevel': 13,\n",
       "  'trophies': 5178,\n",
       "  'arena': {'id': 54000015, 'name': 'League 4'},\n",
       "  'clanRank': 2,\n",
       "  'previousClanRank': 4,\n",
       "  'donations': 942,\n",
       "  'donationsReceived': 480,\n",
       "  'clanChestPoints': 24},\n",
       " {'tag': '#RC9LQL0',\n",
       "  'name': 'Aparcao',\n",
       "  'role': 'elder',\n",
       "  'expLevel': 13,\n",
       "  'trophies': 5083,\n",
       "  'arena': {'id': 54000015, 'name': 'League 4'},\n",
       "  'clanRank': 3,\n",
       "  'previousClanRank': 2,\n",
       "  'donations': 916,\n",
       "  'donationsReceived': 680},\n",
       " {'tag': '#YY8GC8C',\n",
       "  'name': 'Carra',\n",
       "  'role': 'elder',\n",
       "  'expLevel': 13,\n",
       "  'trophies': 5079,\n",
       "  'arena': {'id': 54000015, 'name': 'League 4'},\n",
       "  'clanRank': 4,\n",
       "  'previousClanRank': 6,\n",
       "  'donations': 98,\n",
       "  'donationsReceived': 360},\n",
       " {'tag': '#20R9VGYVC',\n",
       "  'name': 'DarkHell',\n",
       "  'role': 'elder',\n",
       "  'expLevel': 13,\n",
       "  'trophies': 5056,\n",
       "  'arena': {'id': 54000015, 'name': 'League 4'},\n",
       "  'clanRank': 5,\n",
       "  'previousClanRank': 3,\n",
       "  'donations': 955,\n",
       "  'donationsReceived': 470},\n",
       " {'tag': '#2YJ9QVLY',\n",
       "  'name': 'Turel',\n",
       "  'role': 'elder',\n",
       "  'expLevel': 13,\n",
       "  'trophies': 5055,\n",
       "  'arena': {'id': 54000015, 'name': 'League 4'},\n",
       "  'clanRank': 6,\n",
       "  'previousClanRank': 5,\n",
       "  'donations': 684,\n",
       "  'donationsReceived': 660},\n",
       " {'tag': '#J9U2YCY',\n",
       "  'name': 'angel',\n",
       "  'role': 'elder',\n",
       "  'expLevel': 13,\n",
       "  'trophies': 5035,\n",
       "  'arena': {'id': 54000015, 'name': 'League 4'},\n",
       "  'clanRank': 7,\n",
       "  'previousClanRank': 11,\n",
       "  'donations': 862,\n",
       "  'donationsReceived': 560},\n",
       " {'tag': '#2VJJ0J8CL',\n",
       "  'name': 'mc',\n",
       "  'role': 'elder',\n",
       "  'expLevel': 13,\n",
       "  'trophies': 5016,\n",
       "  'arena': {'id': 54000015, 'name': 'League 4'},\n",
       "  'clanRank': 8,\n",
       "  'previousClanRank': 7,\n",
       "  'donations': 320,\n",
       "  'donationsReceived': 400},\n",
       " {'tag': '#U0VC2RL',\n",
       "  'name': 'Haolia',\n",
       "  'role': 'elder',\n",
       "  'expLevel': 13,\n",
       "  'trophies': 5013,\n",
       "  'arena': {'id': 54000015, 'name': 'League 4'},\n",
       "  'clanRank': 9,\n",
       "  'previousClanRank': 9,\n",
       "  'donations': 142,\n",
       "  'donationsReceived': 680},\n",
       " {'tag': '#8P02VL0J',\n",
       "  'name': 'Aramirezt',\n",
       "  'role': 'elder',\n",
       "  'expLevel': 13,\n",
       "  'trophies': 5002,\n",
       "  'arena': {'id': 54000015, 'name': 'League 4'},\n",
       "  'clanRank': 10,\n",
       "  'previousClanRank': 8,\n",
       "  'donations': 1410,\n",
       "  'donationsReceived': 560},\n",
       " {'tag': '#89YCCYG',\n",
       "  'name': '⚠ramonster⚠',\n",
       "  'role': 'coLeader',\n",
       "  'expLevel': 13,\n",
       "  'trophies': 4981,\n",
       "  'arena': {'id': 54000015, 'name': 'League 4'},\n",
       "  'clanRank': 11,\n",
       "  'previousClanRank': 14,\n",
       "  'donations': 356,\n",
       "  'donationsReceived': 640},\n",
       " {'tag': '#8P2L0RYQ0',\n",
       "  'name': 'Ferrian',\n",
       "  'role': 'elder',\n",
       "  'expLevel': 13,\n",
       "  'trophies': 4961,\n",
       "  'arena': {'id': 54000015, 'name': 'League 4'},\n",
       "  'clanRank': 12,\n",
       "  'previousClanRank': 19,\n",
       "  'donations': 1488,\n",
       "  'donationsReceived': 640},\n",
       " {'tag': '#RV0UJGYC',\n",
       "  'name': 'CRAZYEngineer17',\n",
       "  'role': 'elder',\n",
       "  'expLevel': 13,\n",
       "  'trophies': 4953,\n",
       "  'arena': {'id': 54000015, 'name': 'League 4'},\n",
       "  'clanRank': 13,\n",
       "  'previousClanRank': 10,\n",
       "  'donations': 1147,\n",
       "  'donationsReceived': 520},\n",
       " {'tag': '#PRCQ9UG2',\n",
       "  'name': 'Almogàver',\n",
       "  'role': 'elder',\n",
       "  'expLevel': 12,\n",
       "  'trophies': 4946,\n",
       "  'arena': {'id': 54000015, 'name': 'League 4'},\n",
       "  'clanRank': 14,\n",
       "  'previousClanRank': 22,\n",
       "  'donations': 384,\n",
       "  'donationsReceived': 640},\n",
       " {'tag': '#89CG99UL',\n",
       "  'name': 'leonex95',\n",
       "  'role': 'elder',\n",
       "  'expLevel': 12,\n",
       "  'trophies': 4931,\n",
       "  'arena': {'id': 54000015, 'name': 'League 4'},\n",
       "  'clanRank': 15,\n",
       "  'previousClanRank': 23,\n",
       "  'donations': 493,\n",
       "  'donationsReceived': 400},\n",
       " {'tag': '#2L9JJLPC2',\n",
       "  'name': 'Nightsirk',\n",
       "  'role': 'elder',\n",
       "  'expLevel': 12,\n",
       "  'trophies': 4923,\n",
       "  'arena': {'id': 54000015, 'name': 'League 4'},\n",
       "  'clanRank': 16,\n",
       "  'previousClanRank': 12,\n",
       "  'donations': 504,\n",
       "  'donationsReceived': 720},\n",
       " {'tag': '#9QR9UCCV',\n",
       "  'name': 'SergiWings',\n",
       "  'role': 'leader',\n",
       "  'expLevel': 13,\n",
       "  'trophies': 4921,\n",
       "  'arena': {'id': 54000015, 'name': 'League 4'},\n",
       "  'clanRank': 17,\n",
       "  'previousClanRank': 13,\n",
       "  'donations': 428,\n",
       "  'donationsReceived': 600},\n",
       " {'tag': '#2PQ28PYUG',\n",
       "  'name': 'MrTiger',\n",
       "  'role': 'coLeader',\n",
       "  'expLevel': 13,\n",
       "  'trophies': 4903,\n",
       "  'arena': {'id': 54000015, 'name': 'League 4'},\n",
       "  'clanRank': 18,\n",
       "  'previousClanRank': 15,\n",
       "  'donations': 1323,\n",
       "  'donationsReceived': 640},\n",
       " {'tag': '#PQRJR0LQ',\n",
       "  'name': 'ArnauAM',\n",
       "  'role': 'elder',\n",
       "  'expLevel': 12,\n",
       "  'trophies': 4884,\n",
       "  'arena': {'id': 54000014, 'name': 'League 3'},\n",
       "  'clanRank': 19,\n",
       "  'previousClanRank': 17,\n",
       "  'donations': 635,\n",
       "  'donationsReceived': 440},\n",
       " {'tag': '#GVJRUY8V',\n",
       "  'name': 'Wolmy',\n",
       "  'role': 'member',\n",
       "  'expLevel': 12,\n",
       "  'trophies': 4878,\n",
       "  'arena': {'id': 54000014, 'name': 'League 3'},\n",
       "  'clanRank': 20,\n",
       "  'previousClanRank': 18,\n",
       "  'donations': 355,\n",
       "  'donationsReceived': 440},\n",
       " {'tag': '#QG9P9U',\n",
       "  'name': 'fenix BBT',\n",
       "  'role': 'member',\n",
       "  'expLevel': 13,\n",
       "  'trophies': 4828,\n",
       "  'arena': {'id': 54000014, 'name': 'League 3'},\n",
       "  'clanRank': 21,\n",
       "  'previousClanRank': 20,\n",
       "  'donations': 8,\n",
       "  'donationsReceived': 360},\n",
       " {'tag': '#80GJC2JL0',\n",
       "  'name': 'Mr_Balboa_94',\n",
       "  'role': 'member',\n",
       "  'expLevel': 13,\n",
       "  'trophies': 4825,\n",
       "  'arena': {'id': 54000014, 'name': 'League 3'},\n",
       "  'clanRank': 22,\n",
       "  'previousClanRank': 24,\n",
       "  'donations': 124,\n",
       "  'donationsReceived': 200},\n",
       " {'tag': '#9YP2RLCR',\n",
       "  'name': 'alex',\n",
       "  'role': 'elder',\n",
       "  'expLevel': 13,\n",
       "  'trophies': 4799,\n",
       "  'arena': {'id': 54000014, 'name': 'League 3'},\n",
       "  'clanRank': 23,\n",
       "  'previousClanRank': 28,\n",
       "  'donations': 164,\n",
       "  'donationsReceived': 480},\n",
       " {'tag': '#RR9LU9V',\n",
       "  'name': 'Submarino',\n",
       "  'role': 'elder',\n",
       "  'expLevel': 13,\n",
       "  'trophies': 4727,\n",
       "  'arena': {'id': 54000014, 'name': 'League 3'},\n",
       "  'clanRank': 24,\n",
       "  'previousClanRank': 16,\n",
       "  'donations': 426,\n",
       "  'donationsReceived': 440},\n",
       " {'tag': '#2LVVUPU',\n",
       "  'name': 'arnautovic',\n",
       "  'role': 'elder',\n",
       "  'expLevel': 12,\n",
       "  'trophies': 4712,\n",
       "  'arena': {'id': 54000014, 'name': 'League 3'},\n",
       "  'clanRank': 25,\n",
       "  'previousClanRank': 25,\n",
       "  'donations': 273,\n",
       "  'donationsReceived': 520},\n",
       " {'tag': '#2LJQLGQY',\n",
       "  'name': 'Portgas.D.Ace',\n",
       "  'role': 'elder',\n",
       "  'expLevel': 13,\n",
       "  'trophies': 4708,\n",
       "  'arena': {'id': 54000014, 'name': 'League 3'},\n",
       "  'clanRank': 26,\n",
       "  'previousClanRank': 21,\n",
       "  'donations': 1019,\n",
       "  'donationsReceived': 640},\n",
       " {'tag': '#89LP2GUCL',\n",
       "  'name': 'magick69',\n",
       "  'role': 'elder',\n",
       "  'expLevel': 12,\n",
       "  'trophies': 4693,\n",
       "  'arena': {'id': 54000014, 'name': 'League 3'},\n",
       "  'clanRank': 27,\n",
       "  'previousClanRank': 26,\n",
       "  'donations': 270,\n",
       "  'donationsReceived': 440},\n",
       " {'tag': '#289JQ2GY9',\n",
       "  'name': 'JoNiTo TiKaRo',\n",
       "  'role': 'coLeader',\n",
       "  'expLevel': 12,\n",
       "  'trophies': 4691,\n",
       "  'arena': {'id': 54000014, 'name': 'League 3'},\n",
       "  'clanRank': 28,\n",
       "  'previousClanRank': 27,\n",
       "  'donations': 0,\n",
       "  'donationsReceived': 120},\n",
       " {'tag': '#8UJ288YG',\n",
       "  'name': 'SheLdoN',\n",
       "  'role': 'member',\n",
       "  'expLevel': 12,\n",
       "  'trophies': 4675,\n",
       "  'arena': {'id': 54000014, 'name': 'League 3'},\n",
       "  'clanRank': 29,\n",
       "  'previousClanRank': 33,\n",
       "  'donations': 290,\n",
       "  'donationsReceived': 400},\n",
       " {'tag': '#2UJ8R02GJ',\n",
       "  'name': 'albeiro10',\n",
       "  'role': 'elder',\n",
       "  'expLevel': 12,\n",
       "  'trophies': 4674,\n",
       "  'arena': {'id': 54000014, 'name': 'League 3'},\n",
       "  'clanRank': 30,\n",
       "  'previousClanRank': 29,\n",
       "  'donations': 578,\n",
       "  'donationsReceived': 600},\n",
       " {'tag': '#JLJ2U09L',\n",
       "  'name': 'aynof',\n",
       "  'role': 'member',\n",
       "  'expLevel': 13,\n",
       "  'trophies': 4672,\n",
       "  'arena': {'id': 54000014, 'name': 'League 3'},\n",
       "  'clanRank': 31,\n",
       "  'previousClanRank': 30,\n",
       "  'donations': 128,\n",
       "  'donationsReceived': 80},\n",
       " {'tag': '#2JU20Q9Q',\n",
       "  'name': 'Ballack',\n",
       "  'role': 'elder',\n",
       "  'expLevel': 13,\n",
       "  'trophies': 4659,\n",
       "  'arena': {'id': 54000014, 'name': 'League 3'},\n",
       "  'clanRank': 32,\n",
       "  'previousClanRank': 31,\n",
       "  'donations': 288,\n",
       "  'donationsReceived': 400},\n",
       " {'tag': '#9P2Y2PJ2',\n",
       "  'name': 'Little L',\n",
       "  'role': 'elder',\n",
       "  'expLevel': 12,\n",
       "  'trophies': 4624,\n",
       "  'arena': {'id': 54000014, 'name': 'League 3'},\n",
       "  'clanRank': 33,\n",
       "  'previousClanRank': 34,\n",
       "  'donations': 312,\n",
       "  'donationsReceived': 440},\n",
       " {'tag': '#8PLQVQUP',\n",
       "  'name': 'Kamikaze Wette',\n",
       "  'role': 'member',\n",
       "  'expLevel': 13,\n",
       "  'trophies': 4617,\n",
       "  'arena': {'id': 54000014, 'name': 'League 3'},\n",
       "  'clanRank': 34,\n",
       "  'previousClanRank': 32,\n",
       "  'donations': 574,\n",
       "  'donationsReceived': 400},\n",
       " {'tag': '#YJVL20CG',\n",
       "  'name': 'Abate',\n",
       "  'role': 'member',\n",
       "  'expLevel': 12,\n",
       "  'trophies': 4600,\n",
       "  'arena': {'id': 54000014, 'name': 'League 3'},\n",
       "  'clanRank': 35,\n",
       "  'previousClanRank': 37,\n",
       "  'donations': 30,\n",
       "  'donationsReceived': 240},\n",
       " {'tag': '#QYL0YVJQ',\n",
       "  'name': 'emarino',\n",
       "  'role': 'elder',\n",
       "  'expLevel': 12,\n",
       "  'trophies': 4591,\n",
       "  'arena': {'id': 54000013, 'name': 'League 2'},\n",
       "  'clanRank': 36,\n",
       "  'previousClanRank': 35,\n",
       "  'donations': 122,\n",
       "  'donationsReceived': 480},\n",
       " {'tag': '#88YVRUUR',\n",
       "  'name': 'weed',\n",
       "  'role': 'elder',\n",
       "  'expLevel': 13,\n",
       "  'trophies': 4581,\n",
       "  'arena': {'id': 54000013, 'name': 'League 2'},\n",
       "  'clanRank': 37,\n",
       "  'previousClanRank': 36,\n",
       "  'donations': 0,\n",
       "  'donationsReceived': 0},\n",
       " {'tag': '#99YP99Q',\n",
       "  'name': 'Chamu',\n",
       "  'role': 'member',\n",
       "  'expLevel': 12,\n",
       "  'trophies': 4560,\n",
       "  'arena': {'id': 54000013, 'name': 'League 2'},\n",
       "  'clanRank': 38,\n",
       "  'previousClanRank': 38,\n",
       "  'donations': 406,\n",
       "  'donationsReceived': 360},\n",
       " {'tag': '#9L2JC0C2',\n",
       "  'name': 'Galaxy',\n",
       "  'role': 'elder',\n",
       "  'expLevel': 13,\n",
       "  'trophies': 4550,\n",
       "  'arena': {'id': 54000013, 'name': 'League 2'},\n",
       "  'clanRank': 39,\n",
       "  'previousClanRank': 39,\n",
       "  'donations': 454,\n",
       "  'donationsReceived': 400},\n",
       " {'tag': '#P22C08UC',\n",
       "  'name': 'Barrera',\n",
       "  'role': 'elder',\n",
       "  'expLevel': 13,\n",
       "  'trophies': 4503,\n",
       "  'arena': {'id': 54000013, 'name': 'League 2'},\n",
       "  'clanRank': 40,\n",
       "  'previousClanRank': 40,\n",
       "  'donations': 50,\n",
       "  'donationsReceived': 160},\n",
       " {'tag': '#2YPLV8J0',\n",
       "  'name': 'Jaloy',\n",
       "  'role': 'elder',\n",
       "  'expLevel': 12,\n",
       "  'trophies': 4450,\n",
       "  'arena': {'id': 54000013, 'name': 'League 2'},\n",
       "  'clanRank': 41,\n",
       "  'previousClanRank': 43,\n",
       "  'donations': 158,\n",
       "  'donationsReceived': 320},\n",
       " {'tag': '#PJQRPYPY',\n",
       "  'name': 'suntih',\n",
       "  'role': 'elder',\n",
       "  'expLevel': 12,\n",
       "  'trophies': 4447,\n",
       "  'arena': {'id': 54000013, 'name': 'League 2'},\n",
       "  'clanRank': 42,\n",
       "  'previousClanRank': 44,\n",
       "  'donations': 20,\n",
       "  'donationsReceived': 160},\n",
       " {'tag': '#U8JLC9',\n",
       "  'name': 'XFinityX',\n",
       "  'role': 'coLeader',\n",
       "  'expLevel': 13,\n",
       "  'trophies': 4435,\n",
       "  'arena': {'id': 54000013, 'name': 'League 2'},\n",
       "  'clanRank': 43,\n",
       "  'previousClanRank': 45,\n",
       "  'donations': 38,\n",
       "  'donationsReceived': 0},\n",
       " {'tag': '#CJ0YCUCP',\n",
       "  'name': 'UlaLioli',\n",
       "  'role': 'member',\n",
       "  'expLevel': 12,\n",
       "  'trophies': 4420,\n",
       "  'arena': {'id': 54000013, 'name': 'League 2'},\n",
       "  'clanRank': 44,\n",
       "  'previousClanRank': 42,\n",
       "  'donations': 660,\n",
       "  'donationsReceived': 520},\n",
       " {'tag': '#890P2QR8J',\n",
       "  'name': 'Ferrirow',\n",
       "  'role': 'elder',\n",
       "  'expLevel': 12,\n",
       "  'trophies': 4318,\n",
       "  'arena': {'id': 54000013, 'name': 'League 2'},\n",
       "  'clanRank': 45,\n",
       "  'previousClanRank': 41,\n",
       "  'donations': 144,\n",
       "  'donationsReceived': 480},\n",
       " {'tag': '#VPUJVLU',\n",
       "  'name': 'NhYøK',\n",
       "  'role': 'member',\n",
       "  'expLevel': 13,\n",
       "  'trophies': 4308,\n",
       "  'arena': {'id': 54000013, 'name': 'League 2'},\n",
       "  'clanRank': 46,\n",
       "  'previousClanRank': 46,\n",
       "  'donations': 98,\n",
       "  'donationsReceived': 320}]"
      ]
     },
     "execution_count": 240,
     "metadata": {},
     "output_type": "execute_result"
    }
   ],
   "source": [
    "clanCollDF.memberList[0]"
   ]
  },
  {
   "cell_type": "markdown",
   "metadata": {},
   "source": [
    "   ### Let's convert the battleLogDF into a Dataframe"
   ]
  },
  {
   "cell_type": "code",
   "execution_count": 236,
   "metadata": {},
   "outputs": [],
   "source": [
    "battleLogDF = pd.DataFrame(collection.find())"
   ]
  },
  {
   "cell_type": "markdown",
   "metadata": {},
   "source": [
    "Although we already know the rows of our battleLogDF, consisting of 302252 matches, let us show how many columns are there. After that, let's show the first 5 results."
   ]
  },
  {
   "cell_type": "code",
   "execution_count": 17,
   "metadata": {},
   "outputs": [
    {
     "data": {
      "text/plain": [
       "(302252, 12)"
      ]
     },
     "execution_count": 17,
     "metadata": {},
     "output_type": "execute_result"
    }
   ],
   "source": [
    "battleLogDF.shape"
   ]
  },
  {
   "cell_type": "code",
   "execution_count": 18,
   "metadata": {
    "scrolled": true
   },
   "outputs": [
    {
     "data": {
      "text/html": [
       "<div>\n",
       "<style scoped>\n",
       "    .dataframe tbody tr th:only-of-type {\n",
       "        vertical-align: middle;\n",
       "    }\n",
       "\n",
       "    .dataframe tbody tr th {\n",
       "        vertical-align: top;\n",
       "    }\n",
       "\n",
       "    .dataframe thead th {\n",
       "        text-align: right;\n",
       "    }\n",
       "</style>\n",
       "<table border=\"1\" class=\"dataframe\">\n",
       "  <thead>\n",
       "    <tr style=\"text-align: right;\">\n",
       "      <th></th>\n",
       "      <th>_id</th>\n",
       "      <th>arena</th>\n",
       "      <th>battleTime</th>\n",
       "      <th>challengeId</th>\n",
       "      <th>challengeTitle</th>\n",
       "      <th>challengeWinCountBefore</th>\n",
       "      <th>deckSelection</th>\n",
       "      <th>gameMode</th>\n",
       "      <th>opponent</th>\n",
       "      <th>team</th>\n",
       "      <th>tournamentTag</th>\n",
       "      <th>type</th>\n",
       "    </tr>\n",
       "  </thead>\n",
       "  <tbody>\n",
       "    <tr>\n",
       "      <th>0</th>\n",
       "      <td>5c437870f0266b202e84aa7b</td>\n",
       "      <td>{'id': 54000019, 'name': 'League 8'}</td>\n",
       "      <td>20190119T165530.000Z</td>\n",
       "      <td>NaN</td>\n",
       "      <td>NaN</td>\n",
       "      <td>NaN</td>\n",
       "      <td>collection</td>\n",
       "      <td>{'id': 72000006, 'name': 'Ladder'}</td>\n",
       "      <td>[{'tag': '#22CR9GJ', 'name': '✫ I DOoOMInIk', ...</td>\n",
       "      <td>[{'tag': '#28V9Q0', 'name': 'KING FADI™', 'sta...</td>\n",
       "      <td>NaN</td>\n",
       "      <td>PvP</td>\n",
       "    </tr>\n",
       "    <tr>\n",
       "      <th>1</th>\n",
       "      <td>5c437870f0266b202e84aa7c</td>\n",
       "      <td>{'id': 54000018, 'name': 'League 7'}</td>\n",
       "      <td>20190119T164501.000Z</td>\n",
       "      <td>NaN</td>\n",
       "      <td>NaN</td>\n",
       "      <td>NaN</td>\n",
       "      <td>collection</td>\n",
       "      <td>{'id': 72000006, 'name': 'Ladder'}</td>\n",
       "      <td>[{'tag': '#9RC8YU08J', 'name': 'MidFinger', 's...</td>\n",
       "      <td>[{'tag': '#28V9Q0', 'name': 'KING FADI™', 'sta...</td>\n",
       "      <td>NaN</td>\n",
       "      <td>PvP</td>\n",
       "    </tr>\n",
       "    <tr>\n",
       "      <th>2</th>\n",
       "      <td>5c437870f0266b202e84aa7d</td>\n",
       "      <td>{'id': 54000018, 'name': 'League 7'}</td>\n",
       "      <td>20190119T163933.000Z</td>\n",
       "      <td>NaN</td>\n",
       "      <td>NaN</td>\n",
       "      <td>NaN</td>\n",
       "      <td>collection</td>\n",
       "      <td>{'id': 72000006, 'name': 'Ladder'}</td>\n",
       "      <td>[{'tag': '#9PV0G', 'name': 'Rash l Carpi', 'st...</td>\n",
       "      <td>[{'tag': '#28V9Q0', 'name': 'KING FADI™', 'sta...</td>\n",
       "      <td>NaN</td>\n",
       "      <td>PvP</td>\n",
       "    </tr>\n",
       "    <tr>\n",
       "      <th>3</th>\n",
       "      <td>5c437870f0266b202e84aa7e</td>\n",
       "      <td>{'id': 54000018, 'name': 'League 7'}</td>\n",
       "      <td>20190119T163436.000Z</td>\n",
       "      <td>NaN</td>\n",
       "      <td>NaN</td>\n",
       "      <td>NaN</td>\n",
       "      <td>collection</td>\n",
       "      <td>{'id': 72000006, 'name': 'Ladder'}</td>\n",
       "      <td>[{'tag': '#L2899URQ', 'name': 'itachi uchiha',...</td>\n",
       "      <td>[{'tag': '#28V9Q0', 'name': 'KING FADI™', 'sta...</td>\n",
       "      <td>NaN</td>\n",
       "      <td>PvP</td>\n",
       "    </tr>\n",
       "    <tr>\n",
       "      <th>4</th>\n",
       "      <td>5c437870f0266b202e84aa7f</td>\n",
       "      <td>{'id': 54000018, 'name': 'League 7'}</td>\n",
       "      <td>20190119T162749.000Z</td>\n",
       "      <td>NaN</td>\n",
       "      <td>NaN</td>\n",
       "      <td>NaN</td>\n",
       "      <td>collection</td>\n",
       "      <td>{'id': 72000006, 'name': 'Ladder'}</td>\n",
       "      <td>[{'tag': '#QJ9CUY', 'name': 'Pasha', 'starting...</td>\n",
       "      <td>[{'tag': '#28V9Q0', 'name': 'KING FADI™', 'sta...</td>\n",
       "      <td>NaN</td>\n",
       "      <td>PvP</td>\n",
       "    </tr>\n",
       "  </tbody>\n",
       "</table>\n",
       "</div>"
      ],
      "text/plain": [
       "                        _id                                 arena  \\\n",
       "0  5c437870f0266b202e84aa7b  {'id': 54000019, 'name': 'League 8'}   \n",
       "1  5c437870f0266b202e84aa7c  {'id': 54000018, 'name': 'League 7'}   \n",
       "2  5c437870f0266b202e84aa7d  {'id': 54000018, 'name': 'League 7'}   \n",
       "3  5c437870f0266b202e84aa7e  {'id': 54000018, 'name': 'League 7'}   \n",
       "4  5c437870f0266b202e84aa7f  {'id': 54000018, 'name': 'League 7'}   \n",
       "\n",
       "             battleTime  challengeId challengeTitle  challengeWinCountBefore  \\\n",
       "0  20190119T165530.000Z          NaN            NaN                      NaN   \n",
       "1  20190119T164501.000Z          NaN            NaN                      NaN   \n",
       "2  20190119T163933.000Z          NaN            NaN                      NaN   \n",
       "3  20190119T163436.000Z          NaN            NaN                      NaN   \n",
       "4  20190119T162749.000Z          NaN            NaN                      NaN   \n",
       "\n",
       "  deckSelection                            gameMode  \\\n",
       "0    collection  {'id': 72000006, 'name': 'Ladder'}   \n",
       "1    collection  {'id': 72000006, 'name': 'Ladder'}   \n",
       "2    collection  {'id': 72000006, 'name': 'Ladder'}   \n",
       "3    collection  {'id': 72000006, 'name': 'Ladder'}   \n",
       "4    collection  {'id': 72000006, 'name': 'Ladder'}   \n",
       "\n",
       "                                            opponent  \\\n",
       "0  [{'tag': '#22CR9GJ', 'name': '✫ I DOoOMInIk', ...   \n",
       "1  [{'tag': '#9RC8YU08J', 'name': 'MidFinger', 's...   \n",
       "2  [{'tag': '#9PV0G', 'name': 'Rash l Carpi', 'st...   \n",
       "3  [{'tag': '#L2899URQ', 'name': 'itachi uchiha',...   \n",
       "4  [{'tag': '#QJ9CUY', 'name': 'Pasha', 'starting...   \n",
       "\n",
       "                                                team tournamentTag type  \n",
       "0  [{'tag': '#28V9Q0', 'name': 'KING FADI™', 'sta...           NaN  PvP  \n",
       "1  [{'tag': '#28V9Q0', 'name': 'KING FADI™', 'sta...           NaN  PvP  \n",
       "2  [{'tag': '#28V9Q0', 'name': 'KING FADI™', 'sta...           NaN  PvP  \n",
       "3  [{'tag': '#28V9Q0', 'name': 'KING FADI™', 'sta...           NaN  PvP  \n",
       "4  [{'tag': '#28V9Q0', 'name': 'KING FADI™', 'sta...           NaN  PvP  "
      ]
     },
     "execution_count": 18,
     "metadata": {},
     "output_type": "execute_result"
    }
   ],
   "source": [
    "battleLogDF.head()"
   ]
  },
  {
   "cell_type": "markdown",
   "metadata": {},
   "source": [
    "The information below consists of one of the dicctionaries found inside \"collection\", which contains the information about a match between two players."
   ]
  },
  {
   "cell_type": "code",
   "execution_count": 18,
   "metadata": {},
   "outputs": [
    {
     "data": {
      "text/plain": [
       "{'_id': ObjectId('5c437870f0266b202e84aa7b'),\n",
       " 'type': 'PvP',\n",
       " 'battleTime': '20190119T165530.000Z',\n",
       " 'arena': {'id': 54000019, 'name': 'League 8'},\n",
       " 'gameMode': {'id': 72000006, 'name': 'Ladder'},\n",
       " 'deckSelection': 'collection',\n",
       " 'team': [{'tag': '#28V9Q0',\n",
       "   'name': 'KING FADI™',\n",
       "   'startingTrophies': 6040,\n",
       "   'trophyChange': 41,\n",
       "   'crowns': 2,\n",
       "   'clan': {'tag': '#P22PUCUL', 'name': 'Nova l UAE', 'badgeId': 16000044},\n",
       "   'cards': [{'name': 'Royal Giant',\n",
       "     'id': 26000024,\n",
       "     'level': 13,\n",
       "     'maxLevel': 13,\n",
       "     'iconUrls': {'medium': 'https://api-assets.clashroyale.com/cards/300/mnlRaNtmfpQx2e6mp70sLd0ND-pKPF70Cf87_agEKg4.png'}},\n",
       "    {'name': 'Guards',\n",
       "     'id': 26000025,\n",
       "     'level': 8,\n",
       "     'maxLevel': 8,\n",
       "     'iconUrls': {'medium': 'https://api-assets.clashroyale.com/cards/300/1ArKfLJxYo6_NU_S9cAeIrfbXqWH0oULVJXedxBXQlU.png'}},\n",
       "    {'name': 'Mega Minion',\n",
       "     'id': 26000039,\n",
       "     'level': 11,\n",
       "     'starLevel': 2,\n",
       "     'maxLevel': 11,\n",
       "     'iconUrls': {'medium': 'https://api-assets.clashroyale.com/cards/300/-T_e4YLbuhPBKbYnBwQfXgynNpp5eOIN_0RracYwL9c.png'}},\n",
       "    {'name': 'Baby Dragon',\n",
       "     'id': 26000015,\n",
       "     'level': 8,\n",
       "     'starLevel': 2,\n",
       "     'maxLevel': 8,\n",
       "     'iconUrls': {'medium': 'https://api-assets.clashroyale.com/cards/300/cjC9n4AvEZJ3urkVh-rwBkJ-aRSsydIMqSAV48hAih0.png'}},\n",
       "    {'name': 'Electro Wizard',\n",
       "     'id': 26000042,\n",
       "     'level': 5,\n",
       "     'maxLevel': 5,\n",
       "     'iconUrls': {'medium': 'https://api-assets.clashroyale.com/cards/300/RsFaHgB3w6vXsTjXdPr3x8l_GbV9TbOUCvIx07prbrQ.png'}},\n",
       "    {'name': 'Furnace',\n",
       "     'id': 27000010,\n",
       "     'level': 11,\n",
       "     'maxLevel': 11,\n",
       "     'iconUrls': {'medium': 'https://api-assets.clashroyale.com/cards/300/iqbDiG7yYRIzvCPXdt9zPb3IvMt7F7Gi4wIPnh2x4aI.png'}},\n",
       "    {'name': 'Barbarian Barrel',\n",
       "     'id': 28000015,\n",
       "     'level': 8,\n",
       "     'starLevel': 2,\n",
       "     'maxLevel': 8,\n",
       "     'iconUrls': {'medium': 'https://api-assets.clashroyale.com/cards/300/Gb0G1yNy0i5cIGUHin8uoFWxqntNtRPhY_jeMXg7HnA.png'}},\n",
       "    {'name': 'Lightning',\n",
       "     'id': 28000007,\n",
       "     'level': 8,\n",
       "     'starLevel': 1,\n",
       "     'maxLevel': 8,\n",
       "     'iconUrls': {'medium': 'https://api-assets.clashroyale.com/cards/300/fpnESbYqe5GyZmaVVYe-SEu7tE0Kxh_HZyVigzvLjks.png'}}]}],\n",
       " 'opponent': [{'tag': '#22CR9GJ',\n",
       "   'name': '✫ I DOoOMInIk',\n",
       "   'startingTrophies': 6177,\n",
       "   'trophyChange': -41,\n",
       "   'crowns': 1,\n",
       "   'clan': {'tag': '#9JCLGG9G', 'name': 'SHURIKEN ✫', 'badgeId': 16000039},\n",
       "   'cards': [{'name': 'Lava Hound',\n",
       "     'id': 26000029,\n",
       "     'level': 5,\n",
       "     'starLevel': 2,\n",
       "     'maxLevel': 5,\n",
       "     'iconUrls': {'medium': 'https://api-assets.clashroyale.com/cards/300/unicRQ975sBY2oLtfgZbAI56ZvaWz7azj-vXTLxc0r8.png'}},\n",
       "    {'name': 'Lumberjack',\n",
       "     'id': 26000035,\n",
       "     'level': 5,\n",
       "     'maxLevel': 5,\n",
       "     'iconUrls': {'medium': 'https://api-assets.clashroyale.com/cards/300/E6RWrnCuk13xMX5OE1EQtLEKTZQV6B78d00y8PlXt6Q.png'}},\n",
       "    {'name': 'Flying Machine',\n",
       "     'id': 26000057,\n",
       "     'level': 11,\n",
       "     'maxLevel': 11,\n",
       "     'iconUrls': {'medium': 'https://api-assets.clashroyale.com/cards/300/hzKNE3QwFcrSrDDRuVW3QY_OnrDPijSiIp-PsWgFevE.png'}},\n",
       "    {'name': 'Mega Minion',\n",
       "     'id': 26000039,\n",
       "     'level': 11,\n",
       "     'starLevel': 1,\n",
       "     'maxLevel': 11,\n",
       "     'iconUrls': {'medium': 'https://api-assets.clashroyale.com/cards/300/-T_e4YLbuhPBKbYnBwQfXgynNpp5eOIN_0RracYwL9c.png'}},\n",
       "    {'name': 'Baby Dragon',\n",
       "     'id': 26000015,\n",
       "     'level': 8,\n",
       "     'starLevel': 2,\n",
       "     'maxLevel': 8,\n",
       "     'iconUrls': {'medium': 'https://api-assets.clashroyale.com/cards/300/cjC9n4AvEZJ3urkVh-rwBkJ-aRSsydIMqSAV48hAih0.png'}},\n",
       "    {'name': 'Poison',\n",
       "     'id': 28000009,\n",
       "     'level': 8,\n",
       "     'starLevel': 1,\n",
       "     'maxLevel': 8,\n",
       "     'iconUrls': {'medium': 'https://api-assets.clashroyale.com/cards/300/98HDkG2189yOULcVG9jz2QbJKtfuhH21DIrIjkOjxI8.png'}},\n",
       "    {'name': 'Tombstone',\n",
       "     'id': 27000009,\n",
       "     'level': 11,\n",
       "     'maxLevel': 11,\n",
       "     'iconUrls': {'medium': 'https://api-assets.clashroyale.com/cards/300/LjSfSbwQfkZuRJY4pVxKspZ-a0iM5KAhU8w-a_N5Z7Y.png'}},\n",
       "    {'name': 'Barbarian Barrel',\n",
       "     'id': 28000015,\n",
       "     'level': 8,\n",
       "     'maxLevel': 8,\n",
       "     'iconUrls': {'medium': 'https://api-assets.clashroyale.com/cards/300/Gb0G1yNy0i5cIGUHin8uoFWxqntNtRPhY_jeMXg7HnA.png'}}]}]}"
      ]
     },
     "execution_count": 18,
     "metadata": {},
     "output_type": "execute_result"
    }
   ],
   "source": [
    "collection.find_one()"
   ]
  },
  {
   "cell_type": "markdown",
   "metadata": {},
   "source": [
    "# Data preparation"
   ]
  },
  {
   "cell_type": "markdown",
   "metadata": {},
   "source": [
    "#### First step is to create some variables that will be used in our model, such as the cardname, the level and the percertange of the level."
   ]
  },
  {
   "cell_type": "markdown",
   "metadata": {},
   "source": [
    "#### Second step is to do the parse, which means changing the structure of our data, for both the player and the opponent"
   ]
  },
  {
   "cell_type": "code",
   "execution_count": 19,
   "metadata": {},
   "outputs": [],
   "source": [
    "#parse=change the structure\n",
    "def parse(pddf, coltxt):\n",
    "     \n",
    "    pddfnew = pd.DataFrame(list(pddf[coltxt].apply(lambda x: x[0])))\n",
    "    pddfnew[\"clanTag\"] = None\n",
    "    for cardx in range(len(pddfnew[\"cards\"][0])):\n",
    "        pddfnew[\"cardName\"+str(cardx+1)] = pddfnew[\"cards\"].apply(lambda x: x[cardx][\"name\"])\n",
    "        pddfnew[\"level\"+str(cardx+1)] = pddfnew[\"cards\"].apply(lambda x: x[cardx][\"level\"])\n",
    "        pddfnew[\"levelP\"+str(cardx+1)] = pddfnew[\"cards\"].apply(lambda x: x[cardx][\"level\"])/ pddfnew[\"cards\"].apply(lambda x: x[cardx][\"maxLevel\"])\n",
    "\n",
    "    return pddfnew\n",
    "\n",
    "team_var = parse(battleLogDF, \"team\")\n",
    "team_var =  pd.concat([battleLogDF.drop([\"team\",\"opponent\"],axis=1),team_var],axis=1)\n",
    "\n",
    "opp_var = parse(battleLogDF, \"opponent\")\n",
    "opp_var =  pd.concat([battleLogDF.drop([\"team\",\"opponent\"],axis=1),opp_var],axis=1)\n",
    "\n",
    "battleLogDF_T = team_var.append(opp_var)\n"
   ]
  },
  {
   "cell_type": "markdown",
   "metadata": {},
   "source": [
    "### In the variables gameModeName and arenaName, we are interested in knowing only the name"
   ]
  },
  {
   "cell_type": "code",
   "execution_count": 20,
   "metadata": {},
   "outputs": [],
   "source": [
    "battleLogDF_T[\"gameModeName\"]=battleLogDF_T[\"gameMode\"].apply(lambda x: x[\"name\"])\n",
    "battleLogDF_T[\"arenaName\"]=battleLogDF_T[\"arena\"].apply(lambda x: x[\"name\"])\n"
   ]
  },
  {
   "cell_type": "markdown",
   "metadata": {},
   "source": [
    "### By creating a pickle, we are able to save our data and being able to read it afterwards"
   ]
  },
  {
   "cell_type": "code",
   "execution_count": 21,
   "metadata": {},
   "outputs": [],
   "source": [
    "battleLogDF_T.to_pickle(\"battleLogDF_T.pkl\")\n"
   ]
  },
  {
   "cell_type": "markdown",
   "metadata": {},
   "source": [
    "# Filtering"
   ]
  },
  {
   "cell_type": "code",
   "execution_count": 2,
   "metadata": {},
   "outputs": [],
   "source": [
    "import pandas as pd\n",
    "import numpy as np"
   ]
  },
  {
   "cell_type": "code",
   "execution_count": 2,
   "metadata": {},
   "outputs": [],
   "source": [
    "battleLogDF_T = pd.read_pickle(\"battleLogDF_T.pkl\")"
   ]
  },
  {
   "cell_type": "code",
   "execution_count": 3,
   "metadata": {},
   "outputs": [],
   "source": [
    "battleLogDF_F = battleLogDF_T.copy()"
   ]
  },
  {
   "cell_type": "code",
   "execution_count": 7,
   "metadata": {},
   "outputs": [
    {
     "name": "stdout",
     "output_type": "stream",
     "text": [
      "Now all the Game Modes of our battleLog will be displayed:\n",
      "Ladder    213268\n",
      "Name: gameModeName, dtype: int64\n"
     ]
    }
   ],
   "source": [
    "print(\"Now all the Game Modes of our battleLog will be displayed:\")\n",
    "print(battleLogDF_F[\"gameModeName\"].value_counts())"
   ]
  },
  {
   "cell_type": "markdown",
   "metadata": {},
   "source": [
    "### We are only interested in \"ladder\", so we filter our sample"
   ]
  },
  {
   "cell_type": "code",
   "execution_count": 8,
   "metadata": {},
   "outputs": [
    {
     "name": "stdout",
     "output_type": "stream",
     "text": [
      "(604504, 44)\n",
      "(213268, 44)\n",
      "our sample goes from 604504 to 213268 matches\n"
     ]
    }
   ],
   "source": [
    "print(battleLogDF_T.shape)   # initial sample\n",
    "battleLogDF_F = battleLogDF_F[battleLogDF_F[\"gameModeName\"] == \"Ladder\"]\n",
    "print(battleLogDF_F.shape) # filtering by gameMode, to be more specific; by Ladder\n",
    "print(\"our sample goes from 604504 to 213268 matches\")\n",
    "\n"
   ]
  },
  {
   "cell_type": "markdown",
   "metadata": {},
   "source": [
    "Let us see the first 5 results of our battleLog with the columns showing the first card name and also the game mode, which will be Ladder"
   ]
  },
  {
   "cell_type": "code",
   "execution_count": 9,
   "metadata": {},
   "outputs": [
    {
     "data": {
      "text/html": [
       "<div>\n",
       "<style scoped>\n",
       "    .dataframe tbody tr th:only-of-type {\n",
       "        vertical-align: middle;\n",
       "    }\n",
       "\n",
       "    .dataframe tbody tr th {\n",
       "        vertical-align: top;\n",
       "    }\n",
       "\n",
       "    .dataframe thead th {\n",
       "        text-align: right;\n",
       "    }\n",
       "</style>\n",
       "<table border=\"1\" class=\"dataframe\">\n",
       "  <thead>\n",
       "    <tr style=\"text-align: right;\">\n",
       "      <th></th>\n",
       "      <th>cardName1</th>\n",
       "      <th>gameMode</th>\n",
       "    </tr>\n",
       "  </thead>\n",
       "  <tbody>\n",
       "    <tr>\n",
       "      <th>0</th>\n",
       "      <td>Royal Giant</td>\n",
       "      <td>{'id': 72000006, 'name': 'Ladder'}</td>\n",
       "    </tr>\n",
       "    <tr>\n",
       "      <th>1</th>\n",
       "      <td>Royal Giant</td>\n",
       "      <td>{'id': 72000006, 'name': 'Ladder'}</td>\n",
       "    </tr>\n",
       "    <tr>\n",
       "      <th>2</th>\n",
       "      <td>Royal Giant</td>\n",
       "      <td>{'id': 72000006, 'name': 'Ladder'}</td>\n",
       "    </tr>\n",
       "    <tr>\n",
       "      <th>3</th>\n",
       "      <td>Royal Giant</td>\n",
       "      <td>{'id': 72000006, 'name': 'Ladder'}</td>\n",
       "    </tr>\n",
       "    <tr>\n",
       "      <th>4</th>\n",
       "      <td>Royal Giant</td>\n",
       "      <td>{'id': 72000006, 'name': 'Ladder'}</td>\n",
       "    </tr>\n",
       "  </tbody>\n",
       "</table>\n",
       "</div>"
      ],
      "text/plain": [
       "     cardName1                            gameMode\n",
       "0  Royal Giant  {'id': 72000006, 'name': 'Ladder'}\n",
       "1  Royal Giant  {'id': 72000006, 'name': 'Ladder'}\n",
       "2  Royal Giant  {'id': 72000006, 'name': 'Ladder'}\n",
       "3  Royal Giant  {'id': 72000006, 'name': 'Ladder'}\n",
       "4  Royal Giant  {'id': 72000006, 'name': 'Ladder'}"
      ]
     },
     "execution_count": 9,
     "metadata": {},
     "output_type": "execute_result"
    }
   ],
   "source": [
    "battleLogDF_F[[ 'cardName1', 'gameMode']].head()"
   ]
  },
  {
   "cell_type": "markdown",
   "metadata": {},
   "source": [
    "### computing the cards list"
   ]
  },
  {
   "cell_type": "code",
   "execution_count": 10,
   "metadata": {},
   "outputs": [],
   "source": [
    "cardNameVarList = [\"cardName\"+str(k) for k in range(9)][1:]\n",
    "levelVarList = [\"level\"+str(k) for k in range(9)][1:]\n",
    "levelPVarList = [\"levelP\"+str(k) for k in range(9)][1:]\n"
   ]
  },
  {
   "cell_type": "code",
   "execution_count": 11,
   "metadata": {},
   "outputs": [],
   "source": [
    "cardNameList=[]\n",
    "for x in cardNameVarList:\n",
    "    cardNameList.append(battleLogDF_F[x].unique())\n",
    "cardNameList = np.unique(cardNameList)"
   ]
  },
  {
   "cell_type": "code",
   "execution_count": 12,
   "metadata": {},
   "outputs": [
    {
     "name": "stdout",
     "output_type": "stream",
     "text": [
      "Let's see the lenght of our cardNameList, which represents the number of cards in the game:\n"
     ]
    },
    {
     "data": {
      "text/plain": [
       "90"
      ]
     },
     "execution_count": 12,
     "metadata": {},
     "output_type": "execute_result"
    }
   ],
   "source": [
    "print(\"Let's see the lenght of our cardNameList, which represents the number of cards in the game:\")\n",
    "len(cardNameList)\n"
   ]
  },
  {
   "cell_type": "markdown",
   "metadata": {},
   "source": [
    "## Computing one feature per card"
   ]
  },
  {
   "cell_type": "markdown",
   "metadata": {},
   "source": [
    "### In order to be able to introduce each card to our deck, we first create the dummy variable, which will enable us to have a number 1 in case the card appears on the deck or a 0 if not."
   ]
  },
  {
   "cell_type": "code",
   "execution_count": 13,
   "metadata": {},
   "outputs": [
    {
     "data": {
      "text/html": [
       "<div>\n",
       "<style scoped>\n",
       "    .dataframe tbody tr th:only-of-type {\n",
       "        vertical-align: middle;\n",
       "    }\n",
       "\n",
       "    .dataframe tbody tr th {\n",
       "        vertical-align: top;\n",
       "    }\n",
       "\n",
       "    .dataframe thead th {\n",
       "        text-align: right;\n",
       "    }\n",
       "</style>\n",
       "<table border=\"1\" class=\"dataframe\">\n",
       "  <thead>\n",
       "    <tr style=\"text-align: right;\">\n",
       "      <th></th>\n",
       "      <th>Archers</th>\n",
       "      <th>Arrows</th>\n",
       "      <th>Baby Dragon</th>\n",
       "      <th>Balloon</th>\n",
       "      <th>Bandit</th>\n",
       "      <th>Barbarian Barrel</th>\n",
       "      <th>Barbarian Hut</th>\n",
       "      <th>Barbarians</th>\n",
       "      <th>Bats</th>\n",
       "      <th>Battle Ram</th>\n",
       "      <th>...</th>\n",
       "      <th>The Log</th>\n",
       "      <th>Three Musketeers</th>\n",
       "      <th>Tombstone</th>\n",
       "      <th>Tornado</th>\n",
       "      <th>Valkyrie</th>\n",
       "      <th>Witch</th>\n",
       "      <th>Wizard</th>\n",
       "      <th>X-Bow</th>\n",
       "      <th>Zap</th>\n",
       "      <th>Zappies</th>\n",
       "    </tr>\n",
       "  </thead>\n",
       "  <tbody>\n",
       "    <tr>\n",
       "      <th>0</th>\n",
       "      <td>0.0</td>\n",
       "      <td>0.0</td>\n",
       "      <td>1.0</td>\n",
       "      <td>0.0</td>\n",
       "      <td>0.0</td>\n",
       "      <td>1.0</td>\n",
       "      <td>0.0</td>\n",
       "      <td>0.0</td>\n",
       "      <td>0.0</td>\n",
       "      <td>0.0</td>\n",
       "      <td>...</td>\n",
       "      <td>0.0</td>\n",
       "      <td>0.0</td>\n",
       "      <td>0.0</td>\n",
       "      <td>0.0</td>\n",
       "      <td>0.0</td>\n",
       "      <td>0.0</td>\n",
       "      <td>0.0</td>\n",
       "      <td>0.0</td>\n",
       "      <td>0.0</td>\n",
       "      <td>0.0</td>\n",
       "    </tr>\n",
       "    <tr>\n",
       "      <th>1</th>\n",
       "      <td>0.0</td>\n",
       "      <td>0.0</td>\n",
       "      <td>1.0</td>\n",
       "      <td>0.0</td>\n",
       "      <td>0.0</td>\n",
       "      <td>1.0</td>\n",
       "      <td>0.0</td>\n",
       "      <td>0.0</td>\n",
       "      <td>0.0</td>\n",
       "      <td>0.0</td>\n",
       "      <td>...</td>\n",
       "      <td>0.0</td>\n",
       "      <td>0.0</td>\n",
       "      <td>0.0</td>\n",
       "      <td>0.0</td>\n",
       "      <td>0.0</td>\n",
       "      <td>0.0</td>\n",
       "      <td>0.0</td>\n",
       "      <td>0.0</td>\n",
       "      <td>0.0</td>\n",
       "      <td>0.0</td>\n",
       "    </tr>\n",
       "    <tr>\n",
       "      <th>2</th>\n",
       "      <td>0.0</td>\n",
       "      <td>0.0</td>\n",
       "      <td>1.0</td>\n",
       "      <td>0.0</td>\n",
       "      <td>0.0</td>\n",
       "      <td>1.0</td>\n",
       "      <td>0.0</td>\n",
       "      <td>0.0</td>\n",
       "      <td>0.0</td>\n",
       "      <td>0.0</td>\n",
       "      <td>...</td>\n",
       "      <td>0.0</td>\n",
       "      <td>0.0</td>\n",
       "      <td>0.0</td>\n",
       "      <td>0.0</td>\n",
       "      <td>0.0</td>\n",
       "      <td>0.0</td>\n",
       "      <td>0.0</td>\n",
       "      <td>0.0</td>\n",
       "      <td>0.0</td>\n",
       "      <td>0.0</td>\n",
       "    </tr>\n",
       "    <tr>\n",
       "      <th>3</th>\n",
       "      <td>0.0</td>\n",
       "      <td>0.0</td>\n",
       "      <td>1.0</td>\n",
       "      <td>0.0</td>\n",
       "      <td>0.0</td>\n",
       "      <td>1.0</td>\n",
       "      <td>0.0</td>\n",
       "      <td>0.0</td>\n",
       "      <td>0.0</td>\n",
       "      <td>0.0</td>\n",
       "      <td>...</td>\n",
       "      <td>0.0</td>\n",
       "      <td>0.0</td>\n",
       "      <td>0.0</td>\n",
       "      <td>0.0</td>\n",
       "      <td>0.0</td>\n",
       "      <td>0.0</td>\n",
       "      <td>0.0</td>\n",
       "      <td>0.0</td>\n",
       "      <td>0.0</td>\n",
       "      <td>0.0</td>\n",
       "    </tr>\n",
       "    <tr>\n",
       "      <th>4</th>\n",
       "      <td>0.0</td>\n",
       "      <td>0.0</td>\n",
       "      <td>1.0</td>\n",
       "      <td>0.0</td>\n",
       "      <td>0.0</td>\n",
       "      <td>1.0</td>\n",
       "      <td>0.0</td>\n",
       "      <td>0.0</td>\n",
       "      <td>0.0</td>\n",
       "      <td>0.0</td>\n",
       "      <td>...</td>\n",
       "      <td>0.0</td>\n",
       "      <td>0.0</td>\n",
       "      <td>0.0</td>\n",
       "      <td>0.0</td>\n",
       "      <td>0.0</td>\n",
       "      <td>0.0</td>\n",
       "      <td>0.0</td>\n",
       "      <td>0.0</td>\n",
       "      <td>0.0</td>\n",
       "      <td>0.0</td>\n",
       "    </tr>\n",
       "  </tbody>\n",
       "</table>\n",
       "<p>5 rows × 90 columns</p>\n",
       "</div>"
      ],
      "text/plain": [
       "   Archers  Arrows  Baby Dragon  Balloon  Bandit  Barbarian Barrel  \\\n",
       "0      0.0     0.0          1.0      0.0     0.0               1.0   \n",
       "1      0.0     0.0          1.0      0.0     0.0               1.0   \n",
       "2      0.0     0.0          1.0      0.0     0.0               1.0   \n",
       "3      0.0     0.0          1.0      0.0     0.0               1.0   \n",
       "4      0.0     0.0          1.0      0.0     0.0               1.0   \n",
       "\n",
       "   Barbarian Hut  Barbarians  Bats  Battle Ram  ...  The Log  \\\n",
       "0            0.0         0.0   0.0         0.0  ...      0.0   \n",
       "1            0.0         0.0   0.0         0.0  ...      0.0   \n",
       "2            0.0         0.0   0.0         0.0  ...      0.0   \n",
       "3            0.0         0.0   0.0         0.0  ...      0.0   \n",
       "4            0.0         0.0   0.0         0.0  ...      0.0   \n",
       "\n",
       "   Three Musketeers  Tombstone  Tornado  Valkyrie  Witch  Wizard  X-Bow  Zap  \\\n",
       "0               0.0        0.0      0.0       0.0    0.0     0.0    0.0  0.0   \n",
       "1               0.0        0.0      0.0       0.0    0.0     0.0    0.0  0.0   \n",
       "2               0.0        0.0      0.0       0.0    0.0     0.0    0.0  0.0   \n",
       "3               0.0        0.0      0.0       0.0    0.0     0.0    0.0  0.0   \n",
       "4               0.0        0.0      0.0       0.0    0.0     0.0    0.0  0.0   \n",
       "\n",
       "   Zappies  \n",
       "0      0.0  \n",
       "1      0.0  \n",
       "2      0.0  \n",
       "3      0.0  \n",
       "4      0.0  \n",
       "\n",
       "[5 rows x 90 columns]"
      ]
     },
     "execution_count": 13,
     "metadata": {},
     "output_type": "execute_result"
    }
   ],
   "source": [
    "def dummys(x):\n",
    "    result = np.zeros(len(cardNameList))\n",
    "    result[np.isin(cardNameList,x)] = 1\n",
    "    return(result.tolist())\n",
    "cardsMatrix = pd.DataFrame(battleLogDF_F[cardNameVarList].apply(dummys, axis=1).values.tolist(),columns=cardNameList.tolist())\n",
    "cardsMatrix.head()"
   ]
  },
  {
   "cell_type": "code",
   "execution_count": 14,
   "metadata": {},
   "outputs": [
    {
     "name": "stdout",
     "output_type": "stream",
     "text": [
      "Let's see all the names of the cards in the game:\n"
     ]
    },
    {
     "data": {
      "text/plain": [
       "Index(['Archers', 'Arrows', 'Baby Dragon', 'Balloon', 'Bandit',\n",
       "       'Barbarian Barrel', 'Barbarian Hut', 'Barbarians', 'Bats', 'Battle Ram',\n",
       "       'Bomb Tower', 'Bomber', 'Bowler', 'Cannon', 'Cannon Cart', 'Clone',\n",
       "       'Dark Prince', 'Dart Goblin', 'Electro Dragon', 'Electro Wizard',\n",
       "       'Elite Barbarians', 'Elixir Collector', 'Executioner', 'Fire Spirits',\n",
       "       'Fireball', 'Flying Machine', 'Freeze', 'Furnace', 'Giant',\n",
       "       'Giant Skeleton', 'Giant Snowball', 'Goblin Barrel', 'Goblin Gang',\n",
       "       'Goblin Giant', 'Goblin Hut', 'Goblins', 'Golem', 'Graveyard', 'Guards',\n",
       "       'Heal', 'Hog Rider', 'Hunter', 'Ice Golem', 'Ice Spirit', 'Ice Wizard',\n",
       "       'Inferno Dragon', 'Inferno Tower', 'Knight', 'Lava Hound', 'Lightning',\n",
       "       'Lumberjack', 'Magic Archer', 'Mega Knight', 'Mega Minion', 'Miner',\n",
       "       'Mini P.E.K.K.A', 'Minion Horde', 'Minions', 'Mirror', 'Mortar',\n",
       "       'Musketeer', 'Night Witch', 'P.E.K.K.A', 'Poison', 'Prince', 'Princess',\n",
       "       'Rage', 'Ram Rider', 'Rascals', 'Rocket', 'Royal Ghost', 'Royal Giant',\n",
       "       'Royal Hogs', 'Royal Recruits', 'Skeleton Army', 'Skeleton Barrel',\n",
       "       'Skeletons', 'Sparky', 'Spear Goblins', 'Tesla', 'The Log',\n",
       "       'Three Musketeers', 'Tombstone', 'Tornado', 'Valkyrie', 'Witch',\n",
       "       'Wizard', 'X-Bow', 'Zap', 'Zappies'],\n",
       "      dtype='object')"
      ]
     },
     "execution_count": 14,
     "metadata": {},
     "output_type": "execute_result"
    }
   ],
   "source": [
    "print(\"Let's see all the names of the cards in the game:\")\n",
    "cardNameListModel = cardsMatrix.columns\n",
    "cardNameListModel"
   ]
  },
  {
   "cell_type": "markdown",
   "metadata": {},
   "source": [
    "### computing one feature per level"
   ]
  },
  {
   "cell_type": "code",
   "execution_count": 33,
   "metadata": {},
   "outputs": [
    {
     "data": {
      "text/plain": [
       "['cardName1',\n",
       " 'cardName2',\n",
       " 'cardName3',\n",
       " 'cardName4',\n",
       " 'cardName5',\n",
       " 'cardName6',\n",
       " 'cardName7',\n",
       " 'cardName8',\n",
       " 'levelP1',\n",
       " 'levelP2',\n",
       " 'levelP3',\n",
       " 'levelP4',\n",
       " 'levelP5',\n",
       " 'levelP6',\n",
       " 'levelP7',\n",
       " 'levelP8']"
      ]
     },
     "execution_count": 33,
     "metadata": {},
     "output_type": "execute_result"
    }
   ],
   "source": [
    "cardNameVarList+levelPVarList"
   ]
  },
  {
   "cell_type": "code",
   "execution_count": 94,
   "metadata": {},
   "outputs": [
    {
     "data": {
      "text/html": [
       "<div>\n",
       "<style scoped>\n",
       "    .dataframe tbody tr th:only-of-type {\n",
       "        vertical-align: middle;\n",
       "    }\n",
       "\n",
       "    .dataframe tbody tr th {\n",
       "        vertical-align: top;\n",
       "    }\n",
       "\n",
       "    .dataframe thead th {\n",
       "        text-align: right;\n",
       "    }\n",
       "</style>\n",
       "<table border=\"1\" class=\"dataframe\">\n",
       "  <thead>\n",
       "    <tr style=\"text-align: right;\">\n",
       "      <th></th>\n",
       "      <th>Archers</th>\n",
       "      <th>Arrows</th>\n",
       "      <th>Baby Dragon</th>\n",
       "      <th>Balloon</th>\n",
       "      <th>Bandit</th>\n",
       "      <th>Barbarian Barrel</th>\n",
       "      <th>Barbarian Hut</th>\n",
       "      <th>Barbarians</th>\n",
       "      <th>Bats</th>\n",
       "      <th>Battle Ram</th>\n",
       "      <th>...</th>\n",
       "      <th>The Log</th>\n",
       "      <th>Three Musketeers</th>\n",
       "      <th>Tombstone</th>\n",
       "      <th>Tornado</th>\n",
       "      <th>Valkyrie</th>\n",
       "      <th>Witch</th>\n",
       "      <th>Wizard</th>\n",
       "      <th>X-Bow</th>\n",
       "      <th>Zap</th>\n",
       "      <th>Zappies</th>\n",
       "    </tr>\n",
       "  </thead>\n",
       "  <tbody>\n",
       "    <tr>\n",
       "      <th>0</th>\n",
       "      <td>0.0</td>\n",
       "      <td>0.0</td>\n",
       "      <td>8.0</td>\n",
       "      <td>0.0</td>\n",
       "      <td>0.0</td>\n",
       "      <td>8.0</td>\n",
       "      <td>0.0</td>\n",
       "      <td>0.0</td>\n",
       "      <td>0.0</td>\n",
       "      <td>0.0</td>\n",
       "      <td>...</td>\n",
       "      <td>0.0</td>\n",
       "      <td>0.0</td>\n",
       "      <td>0.0</td>\n",
       "      <td>0.0</td>\n",
       "      <td>0.0</td>\n",
       "      <td>0.0</td>\n",
       "      <td>0.0</td>\n",
       "      <td>0.0</td>\n",
       "      <td>0.0</td>\n",
       "      <td>0.0</td>\n",
       "    </tr>\n",
       "    <tr>\n",
       "      <th>1</th>\n",
       "      <td>0.0</td>\n",
       "      <td>0.0</td>\n",
       "      <td>8.0</td>\n",
       "      <td>0.0</td>\n",
       "      <td>0.0</td>\n",
       "      <td>8.0</td>\n",
       "      <td>0.0</td>\n",
       "      <td>0.0</td>\n",
       "      <td>0.0</td>\n",
       "      <td>0.0</td>\n",
       "      <td>...</td>\n",
       "      <td>0.0</td>\n",
       "      <td>0.0</td>\n",
       "      <td>0.0</td>\n",
       "      <td>0.0</td>\n",
       "      <td>0.0</td>\n",
       "      <td>0.0</td>\n",
       "      <td>0.0</td>\n",
       "      <td>0.0</td>\n",
       "      <td>0.0</td>\n",
       "      <td>0.0</td>\n",
       "    </tr>\n",
       "    <tr>\n",
       "      <th>2</th>\n",
       "      <td>0.0</td>\n",
       "      <td>0.0</td>\n",
       "      <td>8.0</td>\n",
       "      <td>0.0</td>\n",
       "      <td>0.0</td>\n",
       "      <td>8.0</td>\n",
       "      <td>0.0</td>\n",
       "      <td>0.0</td>\n",
       "      <td>0.0</td>\n",
       "      <td>0.0</td>\n",
       "      <td>...</td>\n",
       "      <td>0.0</td>\n",
       "      <td>0.0</td>\n",
       "      <td>0.0</td>\n",
       "      <td>0.0</td>\n",
       "      <td>0.0</td>\n",
       "      <td>0.0</td>\n",
       "      <td>0.0</td>\n",
       "      <td>0.0</td>\n",
       "      <td>0.0</td>\n",
       "      <td>0.0</td>\n",
       "    </tr>\n",
       "    <tr>\n",
       "      <th>3</th>\n",
       "      <td>0.0</td>\n",
       "      <td>0.0</td>\n",
       "      <td>8.0</td>\n",
       "      <td>0.0</td>\n",
       "      <td>0.0</td>\n",
       "      <td>8.0</td>\n",
       "      <td>0.0</td>\n",
       "      <td>0.0</td>\n",
       "      <td>0.0</td>\n",
       "      <td>0.0</td>\n",
       "      <td>...</td>\n",
       "      <td>0.0</td>\n",
       "      <td>0.0</td>\n",
       "      <td>0.0</td>\n",
       "      <td>0.0</td>\n",
       "      <td>0.0</td>\n",
       "      <td>0.0</td>\n",
       "      <td>0.0</td>\n",
       "      <td>0.0</td>\n",
       "      <td>0.0</td>\n",
       "      <td>0.0</td>\n",
       "    </tr>\n",
       "    <tr>\n",
       "      <th>4</th>\n",
       "      <td>0.0</td>\n",
       "      <td>0.0</td>\n",
       "      <td>8.0</td>\n",
       "      <td>0.0</td>\n",
       "      <td>0.0</td>\n",
       "      <td>8.0</td>\n",
       "      <td>0.0</td>\n",
       "      <td>0.0</td>\n",
       "      <td>0.0</td>\n",
       "      <td>0.0</td>\n",
       "      <td>...</td>\n",
       "      <td>0.0</td>\n",
       "      <td>0.0</td>\n",
       "      <td>0.0</td>\n",
       "      <td>0.0</td>\n",
       "      <td>0.0</td>\n",
       "      <td>0.0</td>\n",
       "      <td>0.0</td>\n",
       "      <td>0.0</td>\n",
       "      <td>0.0</td>\n",
       "      <td>0.0</td>\n",
       "    </tr>\n",
       "  </tbody>\n",
       "</table>\n",
       "<p>5 rows × 90 columns</p>\n",
       "</div>"
      ],
      "text/plain": [
       "   Archers  Arrows  Baby Dragon  Balloon  Bandit  Barbarian Barrel  \\\n",
       "0      0.0     0.0          8.0      0.0     0.0               8.0   \n",
       "1      0.0     0.0          8.0      0.0     0.0               8.0   \n",
       "2      0.0     0.0          8.0      0.0     0.0               8.0   \n",
       "3      0.0     0.0          8.0      0.0     0.0               8.0   \n",
       "4      0.0     0.0          8.0      0.0     0.0               8.0   \n",
       "\n",
       "   Barbarian Hut  Barbarians  Bats  Battle Ram  ...  The Log  \\\n",
       "0            0.0         0.0   0.0         0.0  ...      0.0   \n",
       "1            0.0         0.0   0.0         0.0  ...      0.0   \n",
       "2            0.0         0.0   0.0         0.0  ...      0.0   \n",
       "3            0.0         0.0   0.0         0.0  ...      0.0   \n",
       "4            0.0         0.0   0.0         0.0  ...      0.0   \n",
       "\n",
       "   Three Musketeers  Tombstone  Tornado  Valkyrie  Witch  Wizard  X-Bow  Zap  \\\n",
       "0               0.0        0.0      0.0       0.0    0.0     0.0    0.0  0.0   \n",
       "1               0.0        0.0      0.0       0.0    0.0     0.0    0.0  0.0   \n",
       "2               0.0        0.0      0.0       0.0    0.0     0.0    0.0  0.0   \n",
       "3               0.0        0.0      0.0       0.0    0.0     0.0    0.0  0.0   \n",
       "4               0.0        0.0      0.0       0.0    0.0     0.0    0.0  0.0   \n",
       "\n",
       "   Zappies  \n",
       "0      0.0  \n",
       "1      0.0  \n",
       "2      0.0  \n",
       "3      0.0  \n",
       "4      0.0  \n",
       "\n",
       "[5 rows x 90 columns]"
      ]
     },
     "execution_count": 94,
     "metadata": {},
     "output_type": "execute_result"
    }
   ],
   "source": [
    "%%time\n",
    "# calculating the level per card in a ordered vector\n",
    "def dummysLevel(x):\n",
    "    y = x[8:].values\n",
    "    x = x[:8].tolist()\n",
    "    result = np.zeros(len(cardNameList))\n",
    "    index1 = np.asarray([ (x.index(z) if z in x else None) for z in cardNameList.tolist() ])\n",
    "    index1 = index1[index1 != np.array(None)]\n",
    "    result[np.isin(cardNameList,x)] = y[index1.tolist()]\n",
    "    return(result)\n",
    "cardsMatrix1 = pd.DataFrame(battleLogDF_F[cardNameVarList+levelVarList].apply(dummysLevel, axis=1).values.tolist()\n",
    "                           ,columns=cardNameList.tolist())\n",
    "cardsMatrix1.head()\n"
   ]
  },
  {
   "cell_type": "code",
   "execution_count": 95,
   "metadata": {},
   "outputs": [
    {
     "name": "stdout",
     "output_type": "stream",
     "text": [
      "Let's compare the difference between the columns of our matches with respect to our matrix containing all the cards:\n",
      "(213268, 44)\n",
      "(213268, 90)\n",
      "(213268, 90)\n"
     ]
    }
   ],
   "source": [
    "print(\"Let's compare the difference between the columns of our matches with respect to our matrix containing all the cards:\")\n",
    "print(battleLogDF_F.shape)\n",
    "print(cardsMatrix.shape)\n",
    "print(cardsMatrix1.shape)"
   ]
  },
  {
   "cell_type": "code",
   "execution_count": 96,
   "metadata": {},
   "outputs": [],
   "source": [
    "# concatenate all features based on the level, not in the dummy 0/1\n",
    "\n",
    "battleLogDF_ALL = pd.concat([battleLogDF_F.reset_index(), cardsMatrix1.reset_index()],axis=1)"
   ]
  },
  {
   "cell_type": "code",
   "execution_count": 97,
   "metadata": {},
   "outputs": [
    {
     "name": "stdout",
     "output_type": "stream",
     "text": [
      "Let's agreggate our battleLog with our card Matrix:\n"
     ]
    },
    {
     "data": {
      "text/plain": [
       "(213268, 136)"
      ]
     },
     "execution_count": 97,
     "metadata": {},
     "output_type": "execute_result"
    }
   ],
   "source": [
    "print(\"Let's agreggate our battleLog with our card Matrix:\")\n",
    "battleLogDF_ALL.shape"
   ]
  },
  {
   "cell_type": "code",
   "execution_count": 98,
   "metadata": {},
   "outputs": [
    {
     "name": "stdout",
     "output_type": "stream",
     "text": [
      "Let's see the first 5 results of our aggregate variable:\n"
     ]
    },
    {
     "data": {
      "text/html": [
       "<div>\n",
       "<style scoped>\n",
       "    .dataframe tbody tr th:only-of-type {\n",
       "        vertical-align: middle;\n",
       "    }\n",
       "\n",
       "    .dataframe tbody tr th {\n",
       "        vertical-align: top;\n",
       "    }\n",
       "\n",
       "    .dataframe thead th {\n",
       "        text-align: right;\n",
       "    }\n",
       "</style>\n",
       "<table border=\"1\" class=\"dataframe\">\n",
       "  <thead>\n",
       "    <tr style=\"text-align: right;\">\n",
       "      <th></th>\n",
       "      <th>index</th>\n",
       "      <th>_id</th>\n",
       "      <th>arena</th>\n",
       "      <th>battleTime</th>\n",
       "      <th>challengeId</th>\n",
       "      <th>challengeTitle</th>\n",
       "      <th>challengeWinCountBefore</th>\n",
       "      <th>deckSelection</th>\n",
       "      <th>gameMode</th>\n",
       "      <th>tournamentTag</th>\n",
       "      <th>...</th>\n",
       "      <th>The Log</th>\n",
       "      <th>Three Musketeers</th>\n",
       "      <th>Tombstone</th>\n",
       "      <th>Tornado</th>\n",
       "      <th>Valkyrie</th>\n",
       "      <th>Witch</th>\n",
       "      <th>Wizard</th>\n",
       "      <th>X-Bow</th>\n",
       "      <th>Zap</th>\n",
       "      <th>Zappies</th>\n",
       "    </tr>\n",
       "  </thead>\n",
       "  <tbody>\n",
       "    <tr>\n",
       "      <th>0</th>\n",
       "      <td>0</td>\n",
       "      <td>5c437870f0266b202e84aa7b</td>\n",
       "      <td>{'id': 54000019, 'name': 'League 8'}</td>\n",
       "      <td>20190119T165530.000Z</td>\n",
       "      <td>NaN</td>\n",
       "      <td>NaN</td>\n",
       "      <td>NaN</td>\n",
       "      <td>collection</td>\n",
       "      <td>{'id': 72000006, 'name': 'Ladder'}</td>\n",
       "      <td>NaN</td>\n",
       "      <td>...</td>\n",
       "      <td>0.0</td>\n",
       "      <td>0.0</td>\n",
       "      <td>0.0</td>\n",
       "      <td>0.0</td>\n",
       "      <td>0.0</td>\n",
       "      <td>0.0</td>\n",
       "      <td>0.0</td>\n",
       "      <td>0.0</td>\n",
       "      <td>0.0</td>\n",
       "      <td>0.0</td>\n",
       "    </tr>\n",
       "    <tr>\n",
       "      <th>1</th>\n",
       "      <td>1</td>\n",
       "      <td>5c437870f0266b202e84aa7c</td>\n",
       "      <td>{'id': 54000018, 'name': 'League 7'}</td>\n",
       "      <td>20190119T164501.000Z</td>\n",
       "      <td>NaN</td>\n",
       "      <td>NaN</td>\n",
       "      <td>NaN</td>\n",
       "      <td>collection</td>\n",
       "      <td>{'id': 72000006, 'name': 'Ladder'}</td>\n",
       "      <td>NaN</td>\n",
       "      <td>...</td>\n",
       "      <td>0.0</td>\n",
       "      <td>0.0</td>\n",
       "      <td>0.0</td>\n",
       "      <td>0.0</td>\n",
       "      <td>0.0</td>\n",
       "      <td>0.0</td>\n",
       "      <td>0.0</td>\n",
       "      <td>0.0</td>\n",
       "      <td>0.0</td>\n",
       "      <td>0.0</td>\n",
       "    </tr>\n",
       "    <tr>\n",
       "      <th>2</th>\n",
       "      <td>2</td>\n",
       "      <td>5c437870f0266b202e84aa7d</td>\n",
       "      <td>{'id': 54000018, 'name': 'League 7'}</td>\n",
       "      <td>20190119T163933.000Z</td>\n",
       "      <td>NaN</td>\n",
       "      <td>NaN</td>\n",
       "      <td>NaN</td>\n",
       "      <td>collection</td>\n",
       "      <td>{'id': 72000006, 'name': 'Ladder'}</td>\n",
       "      <td>NaN</td>\n",
       "      <td>...</td>\n",
       "      <td>0.0</td>\n",
       "      <td>0.0</td>\n",
       "      <td>0.0</td>\n",
       "      <td>0.0</td>\n",
       "      <td>0.0</td>\n",
       "      <td>0.0</td>\n",
       "      <td>0.0</td>\n",
       "      <td>0.0</td>\n",
       "      <td>0.0</td>\n",
       "      <td>0.0</td>\n",
       "    </tr>\n",
       "    <tr>\n",
       "      <th>3</th>\n",
       "      <td>3</td>\n",
       "      <td>5c437870f0266b202e84aa7e</td>\n",
       "      <td>{'id': 54000018, 'name': 'League 7'}</td>\n",
       "      <td>20190119T163436.000Z</td>\n",
       "      <td>NaN</td>\n",
       "      <td>NaN</td>\n",
       "      <td>NaN</td>\n",
       "      <td>collection</td>\n",
       "      <td>{'id': 72000006, 'name': 'Ladder'}</td>\n",
       "      <td>NaN</td>\n",
       "      <td>...</td>\n",
       "      <td>0.0</td>\n",
       "      <td>0.0</td>\n",
       "      <td>0.0</td>\n",
       "      <td>0.0</td>\n",
       "      <td>0.0</td>\n",
       "      <td>0.0</td>\n",
       "      <td>0.0</td>\n",
       "      <td>0.0</td>\n",
       "      <td>0.0</td>\n",
       "      <td>0.0</td>\n",
       "    </tr>\n",
       "    <tr>\n",
       "      <th>4</th>\n",
       "      <td>4</td>\n",
       "      <td>5c437870f0266b202e84aa7f</td>\n",
       "      <td>{'id': 54000018, 'name': 'League 7'}</td>\n",
       "      <td>20190119T162749.000Z</td>\n",
       "      <td>NaN</td>\n",
       "      <td>NaN</td>\n",
       "      <td>NaN</td>\n",
       "      <td>collection</td>\n",
       "      <td>{'id': 72000006, 'name': 'Ladder'}</td>\n",
       "      <td>NaN</td>\n",
       "      <td>...</td>\n",
       "      <td>0.0</td>\n",
       "      <td>0.0</td>\n",
       "      <td>0.0</td>\n",
       "      <td>0.0</td>\n",
       "      <td>0.0</td>\n",
       "      <td>0.0</td>\n",
       "      <td>0.0</td>\n",
       "      <td>0.0</td>\n",
       "      <td>0.0</td>\n",
       "      <td>0.0</td>\n",
       "    </tr>\n",
       "  </tbody>\n",
       "</table>\n",
       "<p>5 rows × 136 columns</p>\n",
       "</div>"
      ],
      "text/plain": [
       "   index                       _id                                 arena  \\\n",
       "0      0  5c437870f0266b202e84aa7b  {'id': 54000019, 'name': 'League 8'}   \n",
       "1      1  5c437870f0266b202e84aa7c  {'id': 54000018, 'name': 'League 7'}   \n",
       "2      2  5c437870f0266b202e84aa7d  {'id': 54000018, 'name': 'League 7'}   \n",
       "3      3  5c437870f0266b202e84aa7e  {'id': 54000018, 'name': 'League 7'}   \n",
       "4      4  5c437870f0266b202e84aa7f  {'id': 54000018, 'name': 'League 7'}   \n",
       "\n",
       "             battleTime  challengeId challengeTitle  challengeWinCountBefore  \\\n",
       "0  20190119T165530.000Z          NaN            NaN                      NaN   \n",
       "1  20190119T164501.000Z          NaN            NaN                      NaN   \n",
       "2  20190119T163933.000Z          NaN            NaN                      NaN   \n",
       "3  20190119T163436.000Z          NaN            NaN                      NaN   \n",
       "4  20190119T162749.000Z          NaN            NaN                      NaN   \n",
       "\n",
       "  deckSelection                            gameMode tournamentTag  ...  \\\n",
       "0    collection  {'id': 72000006, 'name': 'Ladder'}           NaN  ...   \n",
       "1    collection  {'id': 72000006, 'name': 'Ladder'}           NaN  ...   \n",
       "2    collection  {'id': 72000006, 'name': 'Ladder'}           NaN  ...   \n",
       "3    collection  {'id': 72000006, 'name': 'Ladder'}           NaN  ...   \n",
       "4    collection  {'id': 72000006, 'name': 'Ladder'}           NaN  ...   \n",
       "\n",
       "  The Log Three Musketeers Tombstone  Tornado Valkyrie  Witch Wizard  X-Bow  \\\n",
       "0     0.0              0.0       0.0      0.0      0.0    0.0    0.0    0.0   \n",
       "1     0.0              0.0       0.0      0.0      0.0    0.0    0.0    0.0   \n",
       "2     0.0              0.0       0.0      0.0      0.0    0.0    0.0    0.0   \n",
       "3     0.0              0.0       0.0      0.0      0.0    0.0    0.0    0.0   \n",
       "4     0.0              0.0       0.0      0.0      0.0    0.0    0.0    0.0   \n",
       "\n",
       "   Zap Zappies  \n",
       "0  0.0     0.0  \n",
       "1  0.0     0.0  \n",
       "2  0.0     0.0  \n",
       "3  0.0     0.0  \n",
       "4  0.0     0.0  \n",
       "\n",
       "[5 rows x 136 columns]"
      ]
     },
     "execution_count": 98,
     "metadata": {},
     "output_type": "execute_result"
    }
   ],
   "source": [
    "print(\"Let's see the first 5 results of our aggregate variable:\")\n",
    "battleLogDF_ALL.head()"
   ]
  },
  {
   "cell_type": "code",
   "execution_count": 99,
   "metadata": {},
   "outputs": [],
   "source": [
    "# saving a temporal dataframe\n",
    "battleLogDF_ALL.to_pickle(\"battleLogDF_ALL.pkl\")"
   ]
  },
  {
   "cell_type": "code",
   "execution_count": 2,
   "metadata": {},
   "outputs": [],
   "source": [
    "battleLogDF_ALL = pd.read_pickle(\"battleLogDF_ALL.pkl\")"
   ]
  },
  {
   "cell_type": "markdown",
   "metadata": {},
   "source": [
    "## Matches segmentation. Factors:  League, Trophies"
   ]
  },
  {
   "cell_type": "code",
   "execution_count": 5,
   "metadata": {},
   "outputs": [
    {
     "name": "stdout",
     "output_type": "stream",
     "text": [
      "Let's go inside our battleLog and focus on the general descriptive statistics of Starting Trophies because we will split our sample into segments\n"
     ]
    },
    {
     "data": {
      "text/plain": [
       "count    213246.000000\n",
       "mean       4142.239038\n",
       "std         670.002603\n",
       "min          11.000000\n",
       "25%        4026.000000\n",
       "50%        4271.000000\n",
       "75%        4496.000000\n",
       "max        6206.000000\n",
       "Name: startingTrophies, dtype: float64"
      ]
     },
     "execution_count": 5,
     "metadata": {},
     "output_type": "execute_result"
    }
   ],
   "source": [
    "print(\"Let's go inside our battleLog and focus on the general descriptive statistics of Starting Trophies because we will split our sample into segments\")\n",
    "battleLogDF_ALL[\"startingTrophies\"].describe()"
   ]
  },
  {
   "cell_type": "code",
   "execution_count": 6,
   "metadata": {},
   "outputs": [
    {
     "name": "stdout",
     "output_type": "stream",
     "text": [
      "As mentioned above, the sample is being splitted into some intervals to classify the matches depending on their trophies:\n"
     ]
    },
    {
     "data": {
      "text/plain": [
       "(0, 1000]         1543\n",
       "(1000, 2000]      4271\n",
       "(2000, 3000]      6237\n",
       "(3000, 4000]     37640\n",
       "(4000, 4200]     38549\n",
       "(4200, 4400]     51017\n",
       "(4400, 4600]     39622\n",
       "(4600, 4800]     22437\n",
       "(4800, 5000]      8458\n",
       "(5000, 99999]     3472\n",
       "Name: startingTrophies, dtype: int64"
      ]
     },
     "execution_count": 6,
     "metadata": {},
     "output_type": "execute_result"
    }
   ],
   "source": [
    "print(\"As mentioned above, the sample is being splitted into some intervals to classify the matches depending on their trophies:\")\n",
    "pd.cut(battleLogDF_ALL[\"startingTrophies\"],[0,1000,2000,3000,4000,4200,4400,4600,4800,5000,99999 ]).value_counts(sort=False)\n"
   ]
  },
  {
   "cell_type": "code",
   "execution_count": 7,
   "metadata": {},
   "outputs": [
    {
     "name": "stdout",
     "output_type": "stream",
     "text": [
      "Another method could be splitting our battleLog every 20%\n"
     ]
    },
    {
     "data": {
      "text/plain": [
       "(11.0, 3944.0]      42697\n",
       "(3944.0, 4189.0]    42800\n",
       "(4189.0, 4354.0]    42706\n",
       "(4354.0, 4552.0]    42450\n",
       "(4552.0, 6206.0]    42592\n",
       "Name: startingTrophies, dtype: int64"
      ]
     },
     "execution_count": 7,
     "metadata": {},
     "output_type": "execute_result"
    }
   ],
   "source": [
    "print(\"Another method could be splitting our battleLog every 20%\")\n",
    "pd.cut(battleLogDF_ALL[\"startingTrophies\"],battleLogDF_ALL[\"startingTrophies\"].quantile([0.,.2,.4,.6,.8,1.0])).value_counts(sort=False)\n"
   ]
  },
  {
   "cell_type": "code",
   "execution_count": 3,
   "metadata": {},
   "outputs": [
    {
     "name": "stdout",
     "output_type": "stream",
     "text": [
      "Let's see the quanity of matches depending on the arena they are located, to know if some leagues don't have enough information to be relevant\n"
     ]
    },
    {
     "data": {
      "text/plain": [
       "League 2    64698\n",
       "League 1    64010\n",
       "League 3    28654\n",
       "Arena 12    19764\n",
       "Arena 11    12140\n",
       "League 4     5726\n",
       "Arena 10     5384\n",
       "Arena 9      2772\n",
       "Arena 8      1730\n",
       "Arena 7      1680\n",
       "Arena 6      1494\n",
       "Arena 5      1380\n",
       "Arena 4      1000\n",
       "Arena 3       982\n",
       "League 5      830\n",
       "Arena 2       478\n",
       "Arena 1       302\n",
       "League 6      156\n",
       "League 7       78\n",
       "League 8       10\n",
       "Name: arenaName, dtype: int64"
      ]
     },
     "execution_count": 3,
     "metadata": {},
     "output_type": "execute_result"
    }
   ],
   "source": [
    "print(\"Let's see the quanity of matches depending on the arena they are located, to know if some leagues don't have enough information to be relevant\")\n",
    "leagueCount = battleLogDF_ALL[\"arenaName\"].value_counts()\n",
    "leagueCount"
   ]
  },
  {
   "cell_type": "code",
   "execution_count": 9,
   "metadata": {},
   "outputs": [
    {
     "data": {
      "text/plain": [
       "array(['League 8', 'League 7', 'League 6', 'League 5', 'League 4',\n",
       "       'League 3', 'League 2', 'Arena 11', 'Arena 10', 'League 1',\n",
       "       'Arena 2', 'Arena 3', 'Arena 12', 'Arena 8', 'Arena 9', 'Arena 7',\n",
       "       'Arena 6', 'Arena 5', 'Arena 4', 'Arena 1'], dtype=object)"
      ]
     },
     "execution_count": 9,
     "metadata": {},
     "output_type": "execute_result"
    }
   ],
   "source": [
    "battleLogDF_ALL[\"arenaName\"].unique()"
   ]
  },
  {
   "cell_type": "code",
   "execution_count": 4,
   "metadata": {},
   "outputs": [],
   "source": [
    "codeLeagueOld = ['League 8', 'League 7', 'League 6', 'League 5', 'League 4',\n",
    "       'League 3', 'League 2', 'Arena 11', 'Arena 10', 'League 1',\n",
    "       'Arena 2', 'Arena 3', 'Arena 12', 'Arena 8', 'Arena 9', 'Arena 7',\n",
    "       'Arena 6', 'Arena 5', 'Arena 4', 'Arena 1']\n",
    "codeLeagueNew = ['League_6_8', 'League_6_8', 'League_6_8', 'League_5', 'League_4',\n",
    "       'League_3', 'League_2', 'Arena_11', 'Arena_10', 'League_1',\n",
    "       'Arena_2', 'Arena_3', 'Arena_12', 'Arena_8', 'Arena_9', 'Arena_7',\n",
    "       'Arena_6', 'Arena_5', 'Arena_4', 'Arena_1']\n",
    "codeLeagueNew = [ \"Ar_\" + x for x in codeLeagueNew]\n",
    "\n"
   ]
  },
  {
   "cell_type": "code",
   "execution_count": 5,
   "metadata": {},
   "outputs": [],
   "source": [
    "\n",
    "for leagueO in codeLeagueOld:\n",
    "    leagueN =  codeLeagueNew[match([ leagueO],codeLeagueOld)[0]]\n",
    "    battleLogDF_ALL[leagueN] = 0\n",
    "    battleLogDF_ALL.loc[battleLogDF_ALL[\"arenaName\"]==leagueO,leagueN] = 1\n"
   ]
  },
  {
   "cell_type": "code",
   "execution_count": 12,
   "metadata": {},
   "outputs": [
    {
     "data": {
      "text/html": [
       "<div>\n",
       "<style scoped>\n",
       "    .dataframe tbody tr th:only-of-type {\n",
       "        vertical-align: middle;\n",
       "    }\n",
       "\n",
       "    .dataframe tbody tr th {\n",
       "        vertical-align: top;\n",
       "    }\n",
       "\n",
       "    .dataframe thead th {\n",
       "        text-align: right;\n",
       "    }\n",
       "</style>\n",
       "<table border=\"1\" class=\"dataframe\">\n",
       "  <thead>\n",
       "    <tr style=\"text-align: right;\">\n",
       "      <th></th>\n",
       "      <th>Ar_League_6_8</th>\n",
       "      <th>Ar_League_6_8</th>\n",
       "      <th>Ar_League_6_8</th>\n",
       "      <th>Ar_League_5</th>\n",
       "      <th>Ar_League_4</th>\n",
       "      <th>Ar_League_3</th>\n",
       "      <th>Ar_League_2</th>\n",
       "      <th>Ar_Arena_11</th>\n",
       "      <th>Ar_Arena_10</th>\n",
       "      <th>Ar_League_1</th>\n",
       "      <th>Ar_Arena_2</th>\n",
       "      <th>Ar_Arena_3</th>\n",
       "      <th>Ar_Arena_12</th>\n",
       "      <th>Ar_Arena_8</th>\n",
       "      <th>Ar_Arena_9</th>\n",
       "      <th>Ar_Arena_7</th>\n",
       "      <th>Ar_Arena_6</th>\n",
       "      <th>Ar_Arena_5</th>\n",
       "      <th>Ar_Arena_4</th>\n",
       "      <th>Ar_Arena_1</th>\n",
       "    </tr>\n",
       "  </thead>\n",
       "  <tbody>\n",
       "    <tr>\n",
       "      <th>count</th>\n",
       "      <td>213268.000000</td>\n",
       "      <td>213268.000000</td>\n",
       "      <td>213268.000000</td>\n",
       "      <td>213268.000000</td>\n",
       "      <td>213268.000000</td>\n",
       "      <td>213268.000000</td>\n",
       "      <td>213268.000000</td>\n",
       "      <td>213268.000000</td>\n",
       "      <td>213268.000000</td>\n",
       "      <td>213268.000000</td>\n",
       "      <td>213268.000000</td>\n",
       "      <td>213268.000000</td>\n",
       "      <td>213268.000000</td>\n",
       "      <td>213268.000000</td>\n",
       "      <td>213268.000000</td>\n",
       "      <td>213268.000000</td>\n",
       "      <td>213268.000000</td>\n",
       "      <td>213268.000000</td>\n",
       "      <td>213268.000000</td>\n",
       "      <td>213268.000000</td>\n",
       "    </tr>\n",
       "    <tr>\n",
       "      <th>mean</th>\n",
       "      <td>0.000731</td>\n",
       "      <td>0.000731</td>\n",
       "      <td>0.000731</td>\n",
       "      <td>0.003892</td>\n",
       "      <td>0.026849</td>\n",
       "      <td>0.134357</td>\n",
       "      <td>0.303365</td>\n",
       "      <td>0.056924</td>\n",
       "      <td>0.025245</td>\n",
       "      <td>0.300139</td>\n",
       "      <td>0.002241</td>\n",
       "      <td>0.004605</td>\n",
       "      <td>0.092672</td>\n",
       "      <td>0.008112</td>\n",
       "      <td>0.012998</td>\n",
       "      <td>0.007877</td>\n",
       "      <td>0.007005</td>\n",
       "      <td>0.006471</td>\n",
       "      <td>0.004689</td>\n",
       "      <td>0.001416</td>\n",
       "    </tr>\n",
       "    <tr>\n",
       "      <th>std</th>\n",
       "      <td>0.027036</td>\n",
       "      <td>0.027036</td>\n",
       "      <td>0.027036</td>\n",
       "      <td>0.062263</td>\n",
       "      <td>0.161642</td>\n",
       "      <td>0.341036</td>\n",
       "      <td>0.459712</td>\n",
       "      <td>0.231697</td>\n",
       "      <td>0.156869</td>\n",
       "      <td>0.458319</td>\n",
       "      <td>0.047290</td>\n",
       "      <td>0.067700</td>\n",
       "      <td>0.289973</td>\n",
       "      <td>0.089700</td>\n",
       "      <td>0.113265</td>\n",
       "      <td>0.088405</td>\n",
       "      <td>0.083404</td>\n",
       "      <td>0.080180</td>\n",
       "      <td>0.068315</td>\n",
       "      <td>0.037604</td>\n",
       "    </tr>\n",
       "    <tr>\n",
       "      <th>min</th>\n",
       "      <td>0.000000</td>\n",
       "      <td>0.000000</td>\n",
       "      <td>0.000000</td>\n",
       "      <td>0.000000</td>\n",
       "      <td>0.000000</td>\n",
       "      <td>0.000000</td>\n",
       "      <td>0.000000</td>\n",
       "      <td>0.000000</td>\n",
       "      <td>0.000000</td>\n",
       "      <td>0.000000</td>\n",
       "      <td>0.000000</td>\n",
       "      <td>0.000000</td>\n",
       "      <td>0.000000</td>\n",
       "      <td>0.000000</td>\n",
       "      <td>0.000000</td>\n",
       "      <td>0.000000</td>\n",
       "      <td>0.000000</td>\n",
       "      <td>0.000000</td>\n",
       "      <td>0.000000</td>\n",
       "      <td>0.000000</td>\n",
       "    </tr>\n",
       "    <tr>\n",
       "      <th>25%</th>\n",
       "      <td>0.000000</td>\n",
       "      <td>0.000000</td>\n",
       "      <td>0.000000</td>\n",
       "      <td>0.000000</td>\n",
       "      <td>0.000000</td>\n",
       "      <td>0.000000</td>\n",
       "      <td>0.000000</td>\n",
       "      <td>0.000000</td>\n",
       "      <td>0.000000</td>\n",
       "      <td>0.000000</td>\n",
       "      <td>0.000000</td>\n",
       "      <td>0.000000</td>\n",
       "      <td>0.000000</td>\n",
       "      <td>0.000000</td>\n",
       "      <td>0.000000</td>\n",
       "      <td>0.000000</td>\n",
       "      <td>0.000000</td>\n",
       "      <td>0.000000</td>\n",
       "      <td>0.000000</td>\n",
       "      <td>0.000000</td>\n",
       "    </tr>\n",
       "    <tr>\n",
       "      <th>50%</th>\n",
       "      <td>0.000000</td>\n",
       "      <td>0.000000</td>\n",
       "      <td>0.000000</td>\n",
       "      <td>0.000000</td>\n",
       "      <td>0.000000</td>\n",
       "      <td>0.000000</td>\n",
       "      <td>0.000000</td>\n",
       "      <td>0.000000</td>\n",
       "      <td>0.000000</td>\n",
       "      <td>0.000000</td>\n",
       "      <td>0.000000</td>\n",
       "      <td>0.000000</td>\n",
       "      <td>0.000000</td>\n",
       "      <td>0.000000</td>\n",
       "      <td>0.000000</td>\n",
       "      <td>0.000000</td>\n",
       "      <td>0.000000</td>\n",
       "      <td>0.000000</td>\n",
       "      <td>0.000000</td>\n",
       "      <td>0.000000</td>\n",
       "    </tr>\n",
       "    <tr>\n",
       "      <th>75%</th>\n",
       "      <td>0.000000</td>\n",
       "      <td>0.000000</td>\n",
       "      <td>0.000000</td>\n",
       "      <td>0.000000</td>\n",
       "      <td>0.000000</td>\n",
       "      <td>0.000000</td>\n",
       "      <td>1.000000</td>\n",
       "      <td>0.000000</td>\n",
       "      <td>0.000000</td>\n",
       "      <td>1.000000</td>\n",
       "      <td>0.000000</td>\n",
       "      <td>0.000000</td>\n",
       "      <td>0.000000</td>\n",
       "      <td>0.000000</td>\n",
       "      <td>0.000000</td>\n",
       "      <td>0.000000</td>\n",
       "      <td>0.000000</td>\n",
       "      <td>0.000000</td>\n",
       "      <td>0.000000</td>\n",
       "      <td>0.000000</td>\n",
       "    </tr>\n",
       "    <tr>\n",
       "      <th>max</th>\n",
       "      <td>1.000000</td>\n",
       "      <td>1.000000</td>\n",
       "      <td>1.000000</td>\n",
       "      <td>1.000000</td>\n",
       "      <td>1.000000</td>\n",
       "      <td>1.000000</td>\n",
       "      <td>1.000000</td>\n",
       "      <td>1.000000</td>\n",
       "      <td>1.000000</td>\n",
       "      <td>1.000000</td>\n",
       "      <td>1.000000</td>\n",
       "      <td>1.000000</td>\n",
       "      <td>1.000000</td>\n",
       "      <td>1.000000</td>\n",
       "      <td>1.000000</td>\n",
       "      <td>1.000000</td>\n",
       "      <td>1.000000</td>\n",
       "      <td>1.000000</td>\n",
       "      <td>1.000000</td>\n",
       "      <td>1.000000</td>\n",
       "    </tr>\n",
       "  </tbody>\n",
       "</table>\n",
       "</div>"
      ],
      "text/plain": [
       "       Ar_League_6_8  Ar_League_6_8  Ar_League_6_8    Ar_League_5  \\\n",
       "count  213268.000000  213268.000000  213268.000000  213268.000000   \n",
       "mean        0.000731       0.000731       0.000731       0.003892   \n",
       "std         0.027036       0.027036       0.027036       0.062263   \n",
       "min         0.000000       0.000000       0.000000       0.000000   \n",
       "25%         0.000000       0.000000       0.000000       0.000000   \n",
       "50%         0.000000       0.000000       0.000000       0.000000   \n",
       "75%         0.000000       0.000000       0.000000       0.000000   \n",
       "max         1.000000       1.000000       1.000000       1.000000   \n",
       "\n",
       "         Ar_League_4    Ar_League_3    Ar_League_2    Ar_Arena_11  \\\n",
       "count  213268.000000  213268.000000  213268.000000  213268.000000   \n",
       "mean        0.026849       0.134357       0.303365       0.056924   \n",
       "std         0.161642       0.341036       0.459712       0.231697   \n",
       "min         0.000000       0.000000       0.000000       0.000000   \n",
       "25%         0.000000       0.000000       0.000000       0.000000   \n",
       "50%         0.000000       0.000000       0.000000       0.000000   \n",
       "75%         0.000000       0.000000       1.000000       0.000000   \n",
       "max         1.000000       1.000000       1.000000       1.000000   \n",
       "\n",
       "         Ar_Arena_10    Ar_League_1     Ar_Arena_2     Ar_Arena_3  \\\n",
       "count  213268.000000  213268.000000  213268.000000  213268.000000   \n",
       "mean        0.025245       0.300139       0.002241       0.004605   \n",
       "std         0.156869       0.458319       0.047290       0.067700   \n",
       "min         0.000000       0.000000       0.000000       0.000000   \n",
       "25%         0.000000       0.000000       0.000000       0.000000   \n",
       "50%         0.000000       0.000000       0.000000       0.000000   \n",
       "75%         0.000000       1.000000       0.000000       0.000000   \n",
       "max         1.000000       1.000000       1.000000       1.000000   \n",
       "\n",
       "         Ar_Arena_12     Ar_Arena_8     Ar_Arena_9     Ar_Arena_7  \\\n",
       "count  213268.000000  213268.000000  213268.000000  213268.000000   \n",
       "mean        0.092672       0.008112       0.012998       0.007877   \n",
       "std         0.289973       0.089700       0.113265       0.088405   \n",
       "min         0.000000       0.000000       0.000000       0.000000   \n",
       "25%         0.000000       0.000000       0.000000       0.000000   \n",
       "50%         0.000000       0.000000       0.000000       0.000000   \n",
       "75%         0.000000       0.000000       0.000000       0.000000   \n",
       "max         1.000000       1.000000       1.000000       1.000000   \n",
       "\n",
       "          Ar_Arena_6     Ar_Arena_5     Ar_Arena_4     Ar_Arena_1  \n",
       "count  213268.000000  213268.000000  213268.000000  213268.000000  \n",
       "mean        0.007005       0.006471       0.004689       0.001416  \n",
       "std         0.083404       0.080180       0.068315       0.037604  \n",
       "min         0.000000       0.000000       0.000000       0.000000  \n",
       "25%         0.000000       0.000000       0.000000       0.000000  \n",
       "50%         0.000000       0.000000       0.000000       0.000000  \n",
       "75%         0.000000       0.000000       0.000000       0.000000  \n",
       "max         1.000000       1.000000       1.000000       1.000000  "
      ]
     },
     "execution_count": 12,
     "metadata": {},
     "output_type": "execute_result"
    }
   ],
   "source": [
    "battleLogDF_ALL[codeLeagueNew].describe()"
   ]
  },
  {
   "cell_type": "markdown",
   "metadata": {},
   "source": [
    "### startingTrophies cleaning"
   ]
  },
  {
   "cell_type": "code",
   "execution_count": 13,
   "metadata": {},
   "outputs": [
    {
     "name": "stdout",
     "output_type": "stream",
     "text": [
      "(213268, 154)\n",
      "(213246, 154)\n"
     ]
    }
   ],
   "source": [
    "print(battleLogDF_ALL.shape)\n",
    "print(battleLogDF_ALL[~battleLogDF_ALL.startingTrophies.isna()].shape)\n"
   ]
  },
  {
   "cell_type": "code",
   "execution_count": 6,
   "metadata": {},
   "outputs": [],
   "source": [
    "### Filtering\n",
    "battleLogDF_ALL = battleLogDF_ALL[~battleLogDF_ALL.startingTrophies.isna()]"
   ]
  },
  {
   "cell_type": "markdown",
   "metadata": {},
   "source": [
    "# Defining the data matrix for the model "
   ]
  },
  {
   "cell_type": "code",
   "execution_count": 7,
   "metadata": {},
   "outputs": [],
   "source": [
    "cardNameList = ['Archers',\n",
    " 'Arrows',\n",
    " 'Baby Dragon',\n",
    " 'Balloon',\n",
    " 'Bandit',\n",
    " 'Barbarian Barrel',\n",
    " 'Barbarian Hut',\n",
    " 'Barbarians',\n",
    " 'Bats',\n",
    " 'Battle Ram',\n",
    " 'Bomb Tower',\n",
    " 'Bomber',\n",
    " 'Bowler',\n",
    " 'Cannon',\n",
    " 'Cannon Cart',\n",
    " 'Clone',\n",
    " 'Dark Prince',\n",
    " 'Dart Goblin',\n",
    " 'Electro Dragon',\n",
    " 'Electro Wizard',\n",
    " 'Elite Barbarians',\n",
    " 'Elixir Collector',\n",
    " 'Executioner',\n",
    " 'Fire Spirits',\n",
    " 'Fireball',\n",
    " 'Flying Machine',\n",
    " 'Freeze',\n",
    " 'Furnace',\n",
    " 'Giant',\n",
    " 'Giant Skeleton',\n",
    " 'Giant Snowball',\n",
    " 'Goblin Barrel',\n",
    " 'Goblin Gang',\n",
    " 'Goblin Giant',\n",
    " 'Goblin Hut',\n",
    " 'Goblins',\n",
    " 'Golem',\n",
    " 'Graveyard',\n",
    " 'Guards',\n",
    " 'Heal',\n",
    " 'Hog Rider',\n",
    " 'Hunter',\n",
    " 'Ice Golem',\n",
    " 'Ice Spirit',\n",
    " 'Ice Wizard',\n",
    " 'Inferno Dragon',\n",
    " 'Inferno Tower',\n",
    " 'Knight',\n",
    " 'Lava Hound',\n",
    " 'Lightning',\n",
    " 'Lumberjack',\n",
    " 'Magic Archer',\n",
    " 'Mega Knight',\n",
    " 'Mega Minion',\n",
    " 'Miner',\n",
    " 'Mini P.E.K.K.A',\n",
    " 'Minion Horde',\n",
    " 'Minions',\n",
    " 'Mirror',\n",
    " 'Mortar',\n",
    " 'Musketeer',\n",
    " 'Night Witch',\n",
    " 'P.E.K.K.A',\n",
    " 'Poison',\n",
    " 'Prince',\n",
    " 'Princess',\n",
    " 'Rage',\n",
    " 'Ram Rider',\n",
    " 'Rascals',\n",
    " 'Rocket',\n",
    " 'Royal Ghost',\n",
    " 'Royal Giant',\n",
    " 'Royal Hogs',\n",
    " 'Royal Recruits',\n",
    " 'Skeleton Army',\n",
    " 'Skeleton Barrel',\n",
    " 'Skeletons',\n",
    " 'Sparky',\n",
    " 'Spear Goblins',\n",
    " 'Tesla',\n",
    " 'The Log',\n",
    " 'Three Musketeers',\n",
    " 'Tombstone',\n",
    " 'Tornado',\n",
    " 'Valkyrie',\n",
    " 'Witch',\n",
    " 'Wizard',\n",
    " 'X-Bow',\n",
    " 'Zap',\n",
    " 'Zappies']\n",
    "\n",
    "cardNameList = np.array(cardNameList)[battleLogDF_ALL[cardNameList].agg(['sum']).values[0]>0]\n"
   ]
  },
  {
   "cell_type": "code",
   "execution_count": 8,
   "metadata": {},
   "outputs": [
    {
     "name": "stdout",
     "output_type": "stream",
     "text": [
      "In order to start modeling the model, we are taking into account the card names, the starting trophies and the arena in which the matches are located\n"
     ]
    },
    {
     "data": {
      "text/plain": [
       "(213246, 109)"
      ]
     },
     "execution_count": 8,
     "metadata": {},
     "output_type": "execute_result"
    }
   ],
   "source": [
    "print(\"In order to start modeling the model, we are taking into account the card names, the starting trophies and the arena in which the matches are located\")\n",
    "colListModel1 = cardNameList.tolist() + ['startingTrophies'] + [x for x in battleLogDF_ALL.columns.tolist() if 'Ar_' in x]\n",
    "\n",
    "X = battleLogDF_ALL[colListModel1]\n",
    "X.shape"
   ]
  },
  {
   "cell_type": "code",
   "execution_count": 9,
   "metadata": {},
   "outputs": [
    {
     "name": "stdout",
     "output_type": "stream",
     "text": [
      "To determine a victory, the trophy change after a match has to be positive. Then, the victory results will be displayed with a 1 and a 0 otherwise\n"
     ]
    },
    {
     "data": {
      "text/plain": [
       "0    109107\n",
       "1    104139\n",
       "Name: trophyChange, dtype: int64"
      ]
     },
     "execution_count": 9,
     "metadata": {},
     "output_type": "execute_result"
    }
   ],
   "source": [
    "print(\"To determine a victory, the trophy change after a match has to be positive. Then, the victory results will be displayed with a 1 and a 0 otherwise\")\n",
    "y_won = (battleLogDF_ALL.trophyChange > 0).astype(int) # logistic regression: True/False\n",
    "targets = [ y_won]\n",
    "y_won.value_counts()"
   ]
  },
  {
   "cell_type": "markdown",
   "metadata": {},
   "source": [
    "# Data description"
   ]
  },
  {
   "cell_type": "markdown",
   "metadata": {},
   "source": [
    "## Univariate"
   ]
  },
  {
   "cell_type": "markdown",
   "metadata": {},
   "source": [
    "### validating if we have nan's"
   ]
  },
  {
   "cell_type": "code",
   "execution_count": 10,
   "metadata": {},
   "outputs": [
    {
     "data": {
      "text/plain": [
       "array([], dtype=object)"
      ]
     },
     "execution_count": 10,
     "metadata": {},
     "output_type": "execute_result"
    }
   ],
   "source": [
    "np.array(X.columns)[X.agg([lambda x: x.isna().sum()]).values[0]>0]"
   ]
  },
  {
   "cell_type": "markdown",
   "metadata": {},
   "source": [
    "### validating the sum"
   ]
  },
  {
   "cell_type": "code",
   "execution_count": 11,
   "metadata": {},
   "outputs": [
    {
     "data": {
      "text/html": [
       "<div>\n",
       "<style scoped>\n",
       "    .dataframe tbody tr th:only-of-type {\n",
       "        vertical-align: middle;\n",
       "    }\n",
       "\n",
       "    .dataframe tbody tr th {\n",
       "        vertical-align: top;\n",
       "    }\n",
       "\n",
       "    .dataframe thead th {\n",
       "        text-align: right;\n",
       "    }\n",
       "</style>\n",
       "<table border=\"1\" class=\"dataframe\">\n",
       "  <thead>\n",
       "    <tr style=\"text-align: right;\">\n",
       "      <th></th>\n",
       "      <th>Archers</th>\n",
       "      <th>Arrows</th>\n",
       "      <th>Baby Dragon</th>\n",
       "      <th>Balloon</th>\n",
       "      <th>Bandit</th>\n",
       "      <th>Barbarian Barrel</th>\n",
       "      <th>Barbarian Hut</th>\n",
       "      <th>Barbarians</th>\n",
       "      <th>Bats</th>\n",
       "      <th>Battle Ram</th>\n",
       "      <th>...</th>\n",
       "      <th>Ar_Arena_2</th>\n",
       "      <th>Ar_Arena_3</th>\n",
       "      <th>Ar_Arena_12</th>\n",
       "      <th>Ar_Arena_8</th>\n",
       "      <th>Ar_Arena_9</th>\n",
       "      <th>Ar_Arena_7</th>\n",
       "      <th>Ar_Arena_6</th>\n",
       "      <th>Ar_Arena_5</th>\n",
       "      <th>Ar_Arena_4</th>\n",
       "      <th>Ar_Arena_1</th>\n",
       "    </tr>\n",
       "  </thead>\n",
       "  <tbody>\n",
       "    <tr>\n",
       "      <th>&lt;lambda&gt;</th>\n",
       "      <td>254328.0</td>\n",
       "      <td>433628.0</td>\n",
       "      <td>212287.0</td>\n",
       "      <td>168420.0</td>\n",
       "      <td>38865.0</td>\n",
       "      <td>59980.0</td>\n",
       "      <td>22503.0</td>\n",
       "      <td>158955.0</td>\n",
       "      <td>412112.0</td>\n",
       "      <td>112757.0</td>\n",
       "      <td>...</td>\n",
       "      <td>478</td>\n",
       "      <td>982</td>\n",
       "      <td>19764</td>\n",
       "      <td>1730</td>\n",
       "      <td>2772</td>\n",
       "      <td>1680</td>\n",
       "      <td>1494</td>\n",
       "      <td>1380</td>\n",
       "      <td>1000</td>\n",
       "      <td>280</td>\n",
       "    </tr>\n",
       "  </tbody>\n",
       "</table>\n",
       "<p>1 rows × 109 columns</p>\n",
       "</div>"
      ],
      "text/plain": [
       "           Archers    Arrows  Baby Dragon   Balloon   Bandit  \\\n",
       "<lambda>  254328.0  433628.0     212287.0  168420.0  38865.0   \n",
       "\n",
       "          Barbarian Barrel  Barbarian Hut  Barbarians      Bats  Battle Ram  \\\n",
       "<lambda>           59980.0        22503.0    158955.0  412112.0    112757.0   \n",
       "\n",
       "          ...  Ar_Arena_2  Ar_Arena_3  Ar_Arena_12  Ar_Arena_8  Ar_Arena_9  \\\n",
       "<lambda>  ...         478         982        19764        1730        2772   \n",
       "\n",
       "          Ar_Arena_7  Ar_Arena_6  Ar_Arena_5  Ar_Arena_4  Ar_Arena_1  \n",
       "<lambda>        1680        1494        1380        1000         280  \n",
       "\n",
       "[1 rows x 109 columns]"
      ]
     },
     "execution_count": 11,
     "metadata": {},
     "output_type": "execute_result"
    }
   ],
   "source": [
    "X.agg([lambda x: x.sum()])"
   ]
  },
  {
   "cell_type": "code",
   "execution_count": 20,
   "metadata": {},
   "outputs": [
    {
     "data": {
      "text/html": [
       "<div>\n",
       "<style scoped>\n",
       "    .dataframe tbody tr th:only-of-type {\n",
       "        vertical-align: middle;\n",
       "    }\n",
       "\n",
       "    .dataframe tbody tr th {\n",
       "        vertical-align: top;\n",
       "    }\n",
       "\n",
       "    .dataframe thead th {\n",
       "        text-align: right;\n",
       "    }\n",
       "</style>\n",
       "<table border=\"1\" class=\"dataframe\">\n",
       "  <thead>\n",
       "    <tr style=\"text-align: right;\">\n",
       "      <th></th>\n",
       "      <th>Archers</th>\n",
       "      <th>Arrows</th>\n",
       "      <th>Baby Dragon</th>\n",
       "      <th>Balloon</th>\n",
       "      <th>Bandit</th>\n",
       "      <th>Barbarian Barrel</th>\n",
       "      <th>Barbarian Hut</th>\n",
       "      <th>Barbarians</th>\n",
       "      <th>Bats</th>\n",
       "      <th>Battle Ram</th>\n",
       "      <th>...</th>\n",
       "      <th>Ar_Arena_2</th>\n",
       "      <th>Ar_Arena_3</th>\n",
       "      <th>Ar_Arena_12</th>\n",
       "      <th>Ar_Arena_8</th>\n",
       "      <th>Ar_Arena_9</th>\n",
       "      <th>Ar_Arena_7</th>\n",
       "      <th>Ar_Arena_6</th>\n",
       "      <th>Ar_Arena_5</th>\n",
       "      <th>Ar_Arena_4</th>\n",
       "      <th>Ar_Arena_1</th>\n",
       "    </tr>\n",
       "  </thead>\n",
       "  <tbody>\n",
       "    <tr>\n",
       "      <th>count</th>\n",
       "      <td>213246.000000</td>\n",
       "      <td>213246.000000</td>\n",
       "      <td>213246.000000</td>\n",
       "      <td>213246.000000</td>\n",
       "      <td>213246.000000</td>\n",
       "      <td>213246.000000</td>\n",
       "      <td>213246.000000</td>\n",
       "      <td>213246.000000</td>\n",
       "      <td>213246.000000</td>\n",
       "      <td>213246.000000</td>\n",
       "      <td>...</td>\n",
       "      <td>213246.000000</td>\n",
       "      <td>213246.000000</td>\n",
       "      <td>213246.000000</td>\n",
       "      <td>213246.000000</td>\n",
       "      <td>213246.000000</td>\n",
       "      <td>213246.000000</td>\n",
       "      <td>213246.000000</td>\n",
       "      <td>213246.000000</td>\n",
       "      <td>213246.000000</td>\n",
       "      <td>213246.000000</td>\n",
       "    </tr>\n",
       "    <tr>\n",
       "      <th>mean</th>\n",
       "      <td>1.192651</td>\n",
       "      <td>2.033464</td>\n",
       "      <td>0.995503</td>\n",
       "      <td>0.789792</td>\n",
       "      <td>0.182254</td>\n",
       "      <td>0.281271</td>\n",
       "      <td>0.105526</td>\n",
       "      <td>0.745407</td>\n",
       "      <td>1.932566</td>\n",
       "      <td>0.528765</td>\n",
       "      <td>...</td>\n",
       "      <td>0.002242</td>\n",
       "      <td>0.004605</td>\n",
       "      <td>0.092682</td>\n",
       "      <td>0.008113</td>\n",
       "      <td>0.012999</td>\n",
       "      <td>0.007878</td>\n",
       "      <td>0.007006</td>\n",
       "      <td>0.006471</td>\n",
       "      <td>0.004689</td>\n",
       "      <td>0.001313</td>\n",
       "    </tr>\n",
       "    <tr>\n",
       "      <th>std</th>\n",
       "      <td>3.603825</td>\n",
       "      <td>4.434628</td>\n",
       "      <td>2.273444</td>\n",
       "      <td>2.108423</td>\n",
       "      <td>0.705231</td>\n",
       "      <td>1.188871</td>\n",
       "      <td>1.004668</td>\n",
       "      <td>2.968090</td>\n",
       "      <td>4.334379</td>\n",
       "      <td>2.186242</td>\n",
       "      <td>...</td>\n",
       "      <td>0.047292</td>\n",
       "      <td>0.067704</td>\n",
       "      <td>0.289987</td>\n",
       "      <td>0.089705</td>\n",
       "      <td>0.113270</td>\n",
       "      <td>0.088409</td>\n",
       "      <td>0.083408</td>\n",
       "      <td>0.080184</td>\n",
       "      <td>0.068319</td>\n",
       "      <td>0.036212</td>\n",
       "    </tr>\n",
       "    <tr>\n",
       "      <th>min</th>\n",
       "      <td>0.000000</td>\n",
       "      <td>0.000000</td>\n",
       "      <td>0.000000</td>\n",
       "      <td>0.000000</td>\n",
       "      <td>0.000000</td>\n",
       "      <td>0.000000</td>\n",
       "      <td>0.000000</td>\n",
       "      <td>0.000000</td>\n",
       "      <td>0.000000</td>\n",
       "      <td>0.000000</td>\n",
       "      <td>...</td>\n",
       "      <td>0.000000</td>\n",
       "      <td>0.000000</td>\n",
       "      <td>0.000000</td>\n",
       "      <td>0.000000</td>\n",
       "      <td>0.000000</td>\n",
       "      <td>0.000000</td>\n",
       "      <td>0.000000</td>\n",
       "      <td>0.000000</td>\n",
       "      <td>0.000000</td>\n",
       "      <td>0.000000</td>\n",
       "    </tr>\n",
       "    <tr>\n",
       "      <th>25%</th>\n",
       "      <td>0.000000</td>\n",
       "      <td>0.000000</td>\n",
       "      <td>0.000000</td>\n",
       "      <td>0.000000</td>\n",
       "      <td>0.000000</td>\n",
       "      <td>0.000000</td>\n",
       "      <td>0.000000</td>\n",
       "      <td>0.000000</td>\n",
       "      <td>0.000000</td>\n",
       "      <td>0.000000</td>\n",
       "      <td>...</td>\n",
       "      <td>0.000000</td>\n",
       "      <td>0.000000</td>\n",
       "      <td>0.000000</td>\n",
       "      <td>0.000000</td>\n",
       "      <td>0.000000</td>\n",
       "      <td>0.000000</td>\n",
       "      <td>0.000000</td>\n",
       "      <td>0.000000</td>\n",
       "      <td>0.000000</td>\n",
       "      <td>0.000000</td>\n",
       "    </tr>\n",
       "    <tr>\n",
       "      <th>50%</th>\n",
       "      <td>0.000000</td>\n",
       "      <td>0.000000</td>\n",
       "      <td>0.000000</td>\n",
       "      <td>0.000000</td>\n",
       "      <td>0.000000</td>\n",
       "      <td>0.000000</td>\n",
       "      <td>0.000000</td>\n",
       "      <td>0.000000</td>\n",
       "      <td>0.000000</td>\n",
       "      <td>0.000000</td>\n",
       "      <td>...</td>\n",
       "      <td>0.000000</td>\n",
       "      <td>0.000000</td>\n",
       "      <td>0.000000</td>\n",
       "      <td>0.000000</td>\n",
       "      <td>0.000000</td>\n",
       "      <td>0.000000</td>\n",
       "      <td>0.000000</td>\n",
       "      <td>0.000000</td>\n",
       "      <td>0.000000</td>\n",
       "      <td>0.000000</td>\n",
       "    </tr>\n",
       "    <tr>\n",
       "      <th>75%</th>\n",
       "      <td>0.000000</td>\n",
       "      <td>0.000000</td>\n",
       "      <td>0.000000</td>\n",
       "      <td>0.000000</td>\n",
       "      <td>0.000000</td>\n",
       "      <td>0.000000</td>\n",
       "      <td>0.000000</td>\n",
       "      <td>0.000000</td>\n",
       "      <td>0.000000</td>\n",
       "      <td>0.000000</td>\n",
       "      <td>...</td>\n",
       "      <td>0.000000</td>\n",
       "      <td>0.000000</td>\n",
       "      <td>0.000000</td>\n",
       "      <td>0.000000</td>\n",
       "      <td>0.000000</td>\n",
       "      <td>0.000000</td>\n",
       "      <td>0.000000</td>\n",
       "      <td>0.000000</td>\n",
       "      <td>0.000000</td>\n",
       "      <td>0.000000</td>\n",
       "    </tr>\n",
       "    <tr>\n",
       "      <th>max</th>\n",
       "      <td>13.000000</td>\n",
       "      <td>13.000000</td>\n",
       "      <td>8.000000</td>\n",
       "      <td>8.000000</td>\n",
       "      <td>5.000000</td>\n",
       "      <td>8.000000</td>\n",
       "      <td>11.000000</td>\n",
       "      <td>13.000000</td>\n",
       "      <td>13.000000</td>\n",
       "      <td>11.000000</td>\n",
       "      <td>...</td>\n",
       "      <td>1.000000</td>\n",
       "      <td>1.000000</td>\n",
       "      <td>1.000000</td>\n",
       "      <td>1.000000</td>\n",
       "      <td>1.000000</td>\n",
       "      <td>1.000000</td>\n",
       "      <td>1.000000</td>\n",
       "      <td>1.000000</td>\n",
       "      <td>1.000000</td>\n",
       "      <td>1.000000</td>\n",
       "    </tr>\n",
       "  </tbody>\n",
       "</table>\n",
       "<p>8 rows × 109 columns</p>\n",
       "</div>"
      ],
      "text/plain": [
       "             Archers         Arrows    Baby Dragon        Balloon  \\\n",
       "count  213246.000000  213246.000000  213246.000000  213246.000000   \n",
       "mean        1.192651       2.033464       0.995503       0.789792   \n",
       "std         3.603825       4.434628       2.273444       2.108423   \n",
       "min         0.000000       0.000000       0.000000       0.000000   \n",
       "25%         0.000000       0.000000       0.000000       0.000000   \n",
       "50%         0.000000       0.000000       0.000000       0.000000   \n",
       "75%         0.000000       0.000000       0.000000       0.000000   \n",
       "max        13.000000      13.000000       8.000000       8.000000   \n",
       "\n",
       "              Bandit  Barbarian Barrel  Barbarian Hut     Barbarians  \\\n",
       "count  213246.000000     213246.000000  213246.000000  213246.000000   \n",
       "mean        0.182254          0.281271       0.105526       0.745407   \n",
       "std         0.705231          1.188871       1.004668       2.968090   \n",
       "min         0.000000          0.000000       0.000000       0.000000   \n",
       "25%         0.000000          0.000000       0.000000       0.000000   \n",
       "50%         0.000000          0.000000       0.000000       0.000000   \n",
       "75%         0.000000          0.000000       0.000000       0.000000   \n",
       "max         5.000000          8.000000      11.000000      13.000000   \n",
       "\n",
       "                Bats     Battle Ram  ...     Ar_Arena_2     Ar_Arena_3  \\\n",
       "count  213246.000000  213246.000000  ...  213246.000000  213246.000000   \n",
       "mean        1.932566       0.528765  ...       0.002242       0.004605   \n",
       "std         4.334379       2.186242  ...       0.047292       0.067704   \n",
       "min         0.000000       0.000000  ...       0.000000       0.000000   \n",
       "25%         0.000000       0.000000  ...       0.000000       0.000000   \n",
       "50%         0.000000       0.000000  ...       0.000000       0.000000   \n",
       "75%         0.000000       0.000000  ...       0.000000       0.000000   \n",
       "max        13.000000      11.000000  ...       1.000000       1.000000   \n",
       "\n",
       "         Ar_Arena_12     Ar_Arena_8     Ar_Arena_9     Ar_Arena_7  \\\n",
       "count  213246.000000  213246.000000  213246.000000  213246.000000   \n",
       "mean        0.092682       0.008113       0.012999       0.007878   \n",
       "std         0.289987       0.089705       0.113270       0.088409   \n",
       "min         0.000000       0.000000       0.000000       0.000000   \n",
       "25%         0.000000       0.000000       0.000000       0.000000   \n",
       "50%         0.000000       0.000000       0.000000       0.000000   \n",
       "75%         0.000000       0.000000       0.000000       0.000000   \n",
       "max         1.000000       1.000000       1.000000       1.000000   \n",
       "\n",
       "          Ar_Arena_6     Ar_Arena_5     Ar_Arena_4     Ar_Arena_1  \n",
       "count  213246.000000  213246.000000  213246.000000  213246.000000  \n",
       "mean        0.007006       0.006471       0.004689       0.001313  \n",
       "std         0.083408       0.080184       0.068319       0.036212  \n",
       "min         0.000000       0.000000       0.000000       0.000000  \n",
       "25%         0.000000       0.000000       0.000000       0.000000  \n",
       "50%         0.000000       0.000000       0.000000       0.000000  \n",
       "75%         0.000000       0.000000       0.000000       0.000000  \n",
       "max         1.000000       1.000000       1.000000       1.000000  \n",
       "\n",
       "[8 rows x 109 columns]"
      ]
     },
     "execution_count": 20,
     "metadata": {},
     "output_type": "execute_result"
    }
   ],
   "source": [
    "X.describe()"
   ]
  },
  {
   "cell_type": "markdown",
   "metadata": {},
   "source": [
    "## Bivariate"
   ]
  },
  {
   "cell_type": "code",
   "execution_count": 50,
   "metadata": {},
   "outputs": [
    {
     "data": {
      "image/png": "[encoded data removed]",
      "text/plain": [
       "<Figure size 432x288 with 1 Axes>"
      ]
     },
     "metadata": {
      "needs_background": "light"
     },
     "output_type": "display_data"
    }
   ],
   "source": [
    "import matplotlib.pyplot as plt\n",
    "\n",
    "bivar1 = pd.concat([X.Archers,y_won],axis=1)\n",
    "bivar1.columns=[\"Archers\",\"y_won\"]\n",
    "bivar1[\"Archers\"] = bivar1[\"Archers\"].astype(int)\n",
    "bivar1 = bivar1.groupby(\"Archers\",as_index=False)[\"y_won\"].mean()\n",
    "df = pd.DataFrame(np.array(bivar1[\"y_won\"].tolist())).transpose()\n",
    "df.columns = bivar1.Archers\n",
    "\n",
    "value = df.mean()\n",
    "std = 0.05\n",
    "\n",
    "plt.bar(range(len(df.columns)), value, bottom=0, \n",
    "        align='center', alpha=0.5)\n",
    "\n",
    "plt.xticks(range(len(df.columns)), df.columns)\n",
    "plt.ylabel('winrate')\n",
    "plt.title('archer winrate by card level')\n",
    "plt.show()"
   ]
  },
  {
   "cell_type": "markdown",
   "metadata": {},
   "source": [
    "We can see that the contribution o the Archer card is constant through the level of the card."
   ]
  },
  {
   "cell_type": "code",
   "execution_count": 49,
   "metadata": {},
   "outputs": [
    {
     "data": {
      "image/png": "[encoded data removed]",
      "text/plain": [
       "<Figure size 432x288 with 1 Axes>"
      ]
     },
     "metadata": {
      "needs_background": "light"
     },
     "output_type": "display_data"
    }
   ],
   "source": [
    "import matplotlib.pyplot as plt\n",
    "\n",
    "bivar1 = pd.concat([X.Heal,y_won],axis=1)\n",
    "bivar1.columns=[\"Heal\",\"y_won\"]\n",
    "bivar1[\"Heal\"] = bivar1[\"Heal\"].astype(int)\n",
    "bivar1 = bivar1.groupby(\"Heal\",as_index=False)[\"y_won\"].mean()\n",
    "df = pd.DataFrame(np.array(bivar1[\"y_won\"].tolist())).transpose()\n",
    "df.columns = bivar1.Heal\n",
    "\n",
    "value = df.mean()\n",
    "std = 0.05\n",
    "\n",
    "plt.bar(range(len(df.columns)), value, bottom=0, \n",
    "        align='center', alpha=0.5)\n",
    "\n",
    "plt.xticks(range(len(df.columns)), df.columns)\n",
    "plt.ylabel('winrate')\n",
    "plt.title('Heal winrate by card level')\n",
    "plt.show()"
   ]
  },
  {
   "cell_type": "markdown",
   "metadata": {},
   "source": [
    "On the other hand the Heal has a low win_rate that grows rapidly throughout the card level evoution, \n",
    "showing a great win rate on its final levels.\n"
   ]
  },
  {
   "cell_type": "markdown",
   "metadata": {},
   "source": [
    "# Modeling the card performance"
   ]
  },
  {
   "cell_type": "markdown",
   "metadata": {},
   "source": [
    "## logistic regression"
   ]
  },
  {
   "cell_type": "markdown",
   "metadata": {},
   "source": [
    "### Our first try to analyze the model is by doing a logistic regression"
   ]
  },
  {
   "cell_type": "code",
   "execution_count": 21,
   "metadata": {
    "scrolled": true
   },
   "outputs": [
    {
     "name": "stdout",
     "output_type": "stream",
     "text": [
      "The logistic regression will be based on X, defined above and also y_won, which is the fact of winning\n"
     ]
    },
    {
     "name": "stderr",
     "output_type": "stream",
     "text": [
      "C:\\Users\\EQUIPO\\Anaconda3\\lib\\site-packages\\sklearn\\linear_model\\logistic.py:433: FutureWarning: Default solver will be changed to 'lbfgs' in 0.22. Specify a solver to silence this warning.\n",
      "  FutureWarning)\n"
     ]
    },
    {
     "data": {
      "text/plain": [
       "LogisticRegression(C=1000000000.0, class_weight=None, dual=False,\n",
       "          fit_intercept=True, intercept_scaling=1, max_iter=100,\n",
       "          multi_class='warn', n_jobs=None, penalty='l2', random_state=None,\n",
       "          solver='warn', tol=0.0001, verbose=0, warm_start=False)"
      ]
     },
     "execution_count": 21,
     "metadata": {},
     "output_type": "execute_result"
    }
   ],
   "source": [
    "print(\"The logistic regression will be based on X, defined above and also y_won, which is the fact of winning\")\n",
    "from sklearn.linear_model import LogisticRegression\n",
    "\n",
    "lr = LogisticRegression(C=1e9)\n",
    "lr.fit(X,y_won)"
   ]
  },
  {
   "cell_type": "code",
   "execution_count": 22,
   "metadata": {},
   "outputs": [
    {
     "name": "stdout",
     "output_type": "stream",
     "text": [
      "Let's prepare the data to be plotted into a graph\n"
     ]
    }
   ],
   "source": [
    "print(\"Let's prepare the data to be plotted into a graph\")\n",
    "def plotting_result(series, name = '', col =\"b\"):\n",
    "    pd.Series(series).sort_values().plot(kind = \"barh\", figsize = (8,15), color =col,title = name);"
   ]
  },
  {
   "cell_type": "markdown",
   "metadata": {},
   "source": [
    "We can see the size of effect of each card to the win rate. 0 represents the mean effect.\n",
    "Given the results and my experience in the game, I find that there it takes only into account their individual stats, because the top cards displayed are the \"Legendary\" category cards, which overall have the bests stats.\n",
    "An important factor to consider is that the Arenas are only control variables, which are used to support the model but don't have any significance in the displayed graph."
   ]
  },
  {
   "cell_type": "code",
   "execution_count": 23,
   "metadata": {},
   "outputs": [
    {
     "data": {
      "image/png": "[encoded data removed]",
      "text/plain": [
       "<Figure size 576x1080 with 1 Axes>"
      ]
     },
     "metadata": {
      "needs_background": "light"
     },
     "output_type": "display_data"
    }
   ],
   "source": [
    "coef_cards = pd.Series({card:coef for coef,card in zip(lr.coef_[0] , X.columns) if card in colListModel1})\n",
    "plotting_result(coef_cards)"
   ]
  },
  {
   "cell_type": "markdown",
   "metadata": {},
   "source": [
    "The coefficients graph show us the effect of each card to the winrate. The logistic regression model doesn't take into account the interaction between cards that exists in a natural way into the game. additionally the LR model doesn't take into account the constrain of 8 cards of the deck.\n",
    "\n",
    "The best card in this model is Ram Rider taking into account the Arena and trophies level.\n",
    "The worstcard is the Heal. Is a card that the players don't usually use because doesn't contribute to the win."
   ]
  },
  {
   "cell_type": "markdown",
   "metadata": {},
   "source": [
    "## xgboost"
   ]
  },
  {
   "cell_type": "code",
   "execution_count": 12,
   "metadata": {},
   "outputs": [],
   "source": [
    "import xgboost as xgb\n",
    "from sklearn.model_selection import train_test_split\n",
    "from sklearn.metrics import accuracy_score\n"
   ]
  },
  {
   "cell_type": "code",
   "execution_count": 13,
   "metadata": {},
   "outputs": [],
   "source": [
    "train_X, test_X, train_Y, test_Y = train_test_split(X.values, y_won.values, test_size=0.2, random_state=666)\n"
   ]
  },
  {
   "cell_type": "code",
   "execution_count": 22,
   "metadata": {},
   "outputs": [
    {
     "name": "stdout",
     "output_type": "stream",
     "text": [
      "[0]\teval-logloss:0.692472\ttrain-logloss:0.692014\n",
      "[1]\teval-logloss:0.691946\ttrain-logloss:0.690993\n",
      "[2]\teval-logloss:0.69142\ttrain-logloss:0.69018\n",
      "[3]\teval-logloss:0.691013\ttrain-logloss:0.689294\n",
      "[4]\teval-logloss:0.690688\ttrain-logloss:0.688285\n",
      "[5]\teval-logloss:0.690378\ttrain-logloss:0.687586\n",
      "[6]\teval-logloss:0.690091\ttrain-logloss:0.686914\n",
      "[7]\teval-logloss:0.68985\ttrain-logloss:0.686245\n",
      "[8]\teval-logloss:0.689544\ttrain-logloss:0.685579\n",
      "[9]\teval-logloss:0.689385\ttrain-logloss:0.685066\n",
      "[10]\teval-logloss:0.689205\ttrain-logloss:0.684549\n",
      "[11]\teval-logloss:0.688992\ttrain-logloss:0.684185\n",
      "[12]\teval-logloss:0.688901\ttrain-logloss:0.683677\n",
      "[13]\teval-logloss:0.688801\ttrain-logloss:0.683333\n",
      "[14]\teval-logloss:0.688702\ttrain-logloss:0.682806\n",
      "[15]\teval-logloss:0.688675\ttrain-logloss:0.682331\n",
      "[16]\teval-logloss:0.688509\ttrain-logloss:0.681787\n",
      "[17]\teval-logloss:0.688464\ttrain-logloss:0.68139\n",
      "[18]\teval-logloss:0.688364\ttrain-logloss:0.680785\n",
      "[19]\teval-logloss:0.688323\ttrain-logloss:0.680293\n",
      "[20]\teval-logloss:0.688232\ttrain-logloss:0.679885\n",
      "[21]\teval-logloss:0.688167\ttrain-logloss:0.679548\n",
      "[22]\teval-logloss:0.688043\ttrain-logloss:0.679137\n",
      "[23]\teval-logloss:0.687878\ttrain-logloss:0.678741\n",
      "[24]\teval-logloss:0.687773\ttrain-logloss:0.678391\n",
      "[25]\teval-logloss:0.687694\ttrain-logloss:0.67804\n",
      "[26]\teval-logloss:0.687547\ttrain-logloss:0.677606\n",
      "[27]\teval-logloss:0.687429\ttrain-logloss:0.677178\n",
      "[28]\teval-logloss:0.687326\ttrain-logloss:0.676895\n",
      "[29]\teval-logloss:0.687257\ttrain-logloss:0.676549\n",
      "[30]\teval-logloss:0.6872\ttrain-logloss:0.67626\n",
      "[31]\teval-logloss:0.687074\ttrain-logloss:0.675843\n",
      "[32]\teval-logloss:0.687064\ttrain-logloss:0.675464\n",
      "[33]\teval-logloss:0.686951\ttrain-logloss:0.675032\n",
      "[34]\teval-logloss:0.68691\ttrain-logloss:0.67472\n",
      "[35]\teval-logloss:0.686788\ttrain-logloss:0.674411\n",
      "[36]\teval-logloss:0.686749\ttrain-logloss:0.674176\n",
      "[37]\teval-logloss:0.686759\ttrain-logloss:0.673828\n",
      "[38]\teval-logloss:0.686699\ttrain-logloss:0.673527\n",
      "[39]\teval-logloss:0.686661\ttrain-logloss:0.673192\n",
      "[40]\teval-logloss:0.686689\ttrain-logloss:0.672924\n",
      "[41]\teval-logloss:0.68663\ttrain-logloss:0.672619\n",
      "[42]\teval-logloss:0.686665\ttrain-logloss:0.672392\n",
      "[43]\teval-logloss:0.686573\ttrain-logloss:0.672079\n",
      "[44]\teval-logloss:0.686572\ttrain-logloss:0.671887\n",
      "[45]\teval-logloss:0.68657\ttrain-logloss:0.67164\n",
      "[46]\teval-logloss:0.686593\ttrain-logloss:0.671345\n",
      "[47]\teval-logloss:0.68658\ttrain-logloss:0.6711\n",
      "[48]\teval-logloss:0.686468\ttrain-logloss:0.670711\n",
      "[49]\teval-logloss:0.686495\ttrain-logloss:0.670495\n",
      "[50]\teval-logloss:0.686381\ttrain-logloss:0.670198\n",
      "[51]\teval-logloss:0.686328\ttrain-logloss:0.669908\n",
      "[52]\teval-logloss:0.686294\ttrain-logloss:0.669607\n",
      "[53]\teval-logloss:0.6862\ttrain-logloss:0.669285\n",
      "[54]\teval-logloss:0.686186\ttrain-logloss:0.669024\n",
      "[55]\teval-logloss:0.686111\ttrain-logloss:0.668759\n",
      "[56]\teval-logloss:0.686025\ttrain-logloss:0.668438\n",
      "[57]\teval-logloss:0.686006\ttrain-logloss:0.668136\n",
      "[58]\teval-logloss:0.686006\ttrain-logloss:0.667895\n",
      "[59]\teval-logloss:0.685982\ttrain-logloss:0.667644\n",
      "[60]\teval-logloss:0.68598\ttrain-logloss:0.667447\n",
      "[61]\teval-logloss:0.686022\ttrain-logloss:0.667157\n",
      "[62]\teval-logloss:0.685999\ttrain-logloss:0.666882\n",
      "[63]\teval-logloss:0.685957\ttrain-logloss:0.666632\n",
      "[64]\teval-logloss:0.685869\ttrain-logloss:0.666366\n",
      "[65]\teval-logloss:0.685805\ttrain-logloss:0.666073\n",
      "[66]\teval-logloss:0.685744\ttrain-logloss:0.665753\n",
      "[67]\teval-logloss:0.685718\ttrain-logloss:0.66548\n",
      "[68]\teval-logloss:0.685748\ttrain-logloss:0.665181\n",
      "[69]\teval-logloss:0.685755\ttrain-logloss:0.664917\n",
      "[70]\teval-logloss:0.685779\ttrain-logloss:0.664604\n",
      "[71]\teval-logloss:0.685713\ttrain-logloss:0.664337\n",
      "[72]\teval-logloss:0.685693\ttrain-logloss:0.664172\n",
      "[73]\teval-logloss:0.685662\ttrain-logloss:0.663917\n",
      "[74]\teval-logloss:0.685679\ttrain-logloss:0.663712\n",
      "[75]\teval-logloss:0.685692\ttrain-logloss:0.663458\n",
      "[76]\teval-logloss:0.685697\ttrain-logloss:0.663211\n",
      "[77]\teval-logloss:0.685694\ttrain-logloss:0.662979\n",
      "[78]\teval-logloss:0.68574\ttrain-logloss:0.66277\n",
      "[79]\teval-logloss:0.68576\ttrain-logloss:0.662556\n",
      "[80]\teval-logloss:0.685756\ttrain-logloss:0.662154\n",
      "[81]\teval-logloss:0.685723\ttrain-logloss:0.661939\n",
      "[82]\teval-logloss:0.685677\ttrain-logloss:0.661761\n",
      "[83]\teval-logloss:0.685721\ttrain-logloss:0.661443\n",
      "[84]\teval-logloss:0.685729\ttrain-logloss:0.661186\n",
      "[85]\teval-logloss:0.685694\ttrain-logloss:0.66091\n",
      "[86]\teval-logloss:0.685686\ttrain-logloss:0.660645\n",
      "[87]\teval-logloss:0.685635\ttrain-logloss:0.660462\n",
      "[88]\teval-logloss:0.685646\ttrain-logloss:0.660258\n",
      "[89]\teval-logloss:0.685635\ttrain-logloss:0.660157\n",
      "[90]\teval-logloss:0.685589\ttrain-logloss:0.659887\n",
      "[91]\teval-logloss:0.685539\ttrain-logloss:0.659607\n",
      "[92]\teval-logloss:0.6855\ttrain-logloss:0.659301\n",
      "[93]\teval-logloss:0.685556\ttrain-logloss:0.659006\n",
      "[94]\teval-logloss:0.685586\ttrain-logloss:0.658711\n",
      "[95]\teval-logloss:0.685593\ttrain-logloss:0.658478\n",
      "[96]\teval-logloss:0.685627\ttrain-logloss:0.658195\n",
      "[97]\teval-logloss:0.685627\ttrain-logloss:0.657996\n",
      "[98]\teval-logloss:0.685658\ttrain-logloss:0.65789\n",
      "[99]\teval-logloss:0.685733\ttrain-logloss:0.657626\n"
     ]
    }
   ],
   "source": [
    "param = {'eta':0.1, 'max_depth':8, 'subsample':0.5 , 'eval_metric': 'logloss'\n",
    "         , 'silent':0, 'objective':'binary:logistic', 'seed':666}\n",
    "\n",
    "# eta: fix the learning rate velocity. From 0 to 1. Lower values prevents from overfitting (over the train sample).\n",
    "# max_depth: is the maximum tree's depth. As the deck is made of 8 cards, here we will fix as an initial value 8.\n",
    "# subsample: we use the half of the sample in each tree step.\n",
    "\n",
    "dtrain = xgb.DMatrix(train_X, label=train_Y, feature_names=colListModel1)\n",
    "\n",
    "dtest = xgb.DMatrix(test_X, label=test_Y, feature_names=colListModel1)\n",
    "\n",
    "# specify validations set to watch performance\n",
    "watchlist = [(dtest, 'eval'), (dtrain, 'train')]\n",
    "\n",
    "num_round = 100\n",
    "bst = xgb.train(param, dtrain, num_round, watchlist)\n",
    "\n",
    "# this is prediction\n",
    "preds = bst.predict(dtest)\n",
    "labels = dtest.get_label()\n"
   ]
  },
  {
   "cell_type": "code",
   "execution_count": 15,
   "metadata": {},
   "outputs": [
    {
     "data": {
      "text/plain": [
       "99"
      ]
     },
     "execution_count": 15,
     "metadata": {},
     "output_type": "execute_result"
    }
   ],
   "source": [
    "bst.best_iteration"
   ]
  },
  {
   "cell_type": "code",
   "execution_count": 28,
   "metadata": {},
   "outputs": [
    {
     "data": {
      "text/plain": [
       "<matplotlib.axes._subplots.AxesSubplot at 0x29f06724ef0>"
      ]
     },
     "execution_count": 28,
     "metadata": {},
     "output_type": "execute_result"
    },
    {
     "data": {
      "image/png": "[encoded data removed]",
      "text/plain": [
       "<Figure size 432x288 with 1 Axes>"
      ]
     },
     "metadata": {
      "needs_background": "light"
     },
     "output_type": "display_data"
    }
   ],
   "source": [
    "xgb.plot_importance(bst,importance_type =\"gain\",max_num_features=20)\n",
    "# it needs to be more precise in the sign of the effect "
   ]
  },
  {
   "cell_type": "markdown",
   "metadata": {},
   "source": [
    "### Partial dependece plots"
   ]
  },
  {
   "cell_type": "code",
   "execution_count": 23,
   "metadata": {},
   "outputs": [],
   "source": [
    "def par_dep(xs, frame, model, resolution=20, bins=None):\n",
    "    \n",
    "    \"\"\" Creates Pandas DataFrame containing partial dependence for a \n",
    "        single variable.\n",
    "    \n",
    "    Args:\n",
    "        xs: Variable for which to calculate partial dependence.\n",
    "        frame: Pandas DataFrame for which to calculate partial dependence.\n",
    "        model: XGBoost model for which to calculate partial dependence.\n",
    "        resolution: The number of points across the domain of xs for which \n",
    "                    to calculate partial dependence, default 20.\n",
    "        bins: List of values at which to set xs, default 20 equally-spaced \n",
    "              points between column minimum and maximum.\n",
    "    \n",
    "    Returns:\n",
    "        Pandas DataFrame containing partial dependence values.\n",
    "        \n",
    "    \"\"\"\n",
    "    \n",
    "    # turn off pesky Pandas copy warning\n",
    "    pd.options.mode.chained_assignment = None\n",
    "    \n",
    "    # initialize empty Pandas DataFrame with correct column names\n",
    "    par_dep_frame = pd.DataFrame(columns=[xs, 'partial_dependence'])\n",
    "    \n",
    "    # cache original column values \n",
    "    col_cache = frame.loc[:, xs].copy(deep=True)\n",
    "  \n",
    "    # determine values at which to calculate partial dependence\n",
    "    if bins == None:\n",
    "        min_ = frame[xs].min()\n",
    "        max_ = frame[xs].max()\n",
    "        by = (max_ - min_)/resolution\n",
    "        bins = np.arange(min_, max_, by)\n",
    "        \n",
    "    # calculate partial dependence  \n",
    "    # by setting column of interest to constant \n",
    "    # and scoring the altered data and taking the mean of the predictions\n",
    "    for j in bins:\n",
    "        frame.loc[:, xs] = j\n",
    "        dframe = xgb.DMatrix(frame)\n",
    "        par_dep_i = pd.DataFrame(model.predict(dframe))\n",
    "        par_dep_j = par_dep_i.mean()[0]\n",
    "        par_dep_frame = par_dep_frame.append({xs:j,\n",
    "                                              'partial_dependence': par_dep_j}, \n",
    "                                              ignore_index=True)\n",
    "        \n",
    "    # return input frame to original cached state    \n",
    "    frame.loc[:, xs] = col_cache\n",
    "\n",
    "    return par_dep_frame\n"
   ]
  },
  {
   "cell_type": "code",
   "execution_count": 34,
   "metadata": {},
   "outputs": [],
   "source": [
    "par_dep_Archers1 = par_dep('Archers', pd.DataFrame(test_X, columns=colListModel1), bst) # calculate partial dependence for LIMIT_BAL\n",
    "par_dep_Archers2 = par_dep('Archers', pd.DataFrame(train_X, columns=colListModel1), bst) # calculate partial dependence for LIMIT_BAL\n",
    "par_dep_Heal1 = par_dep('Heal', pd.DataFrame(test_X, columns=colListModel1), bst) # calculate partial dependence for LIMIT_BAL\n",
    "par_dep_Heal2 = par_dep('Heal', pd.DataFrame(train_X, columns=colListModel1), bst) # calculate partial dependence for LIMIT_BAL\n",
    "\n"
   ]
  },
  {
   "cell_type": "code",
   "execution_count": 45,
   "metadata": {},
   "outputs": [
    {
     "data": {
      "text/html": [
       "<div>\n",
       "<style scoped>\n",
       "    .dataframe tbody tr th:only-of-type {\n",
       "        vertical-align: middle;\n",
       "    }\n",
       "\n",
       "    .dataframe tbody tr th {\n",
       "        vertical-align: top;\n",
       "    }\n",
       "\n",
       "    .dataframe thead th {\n",
       "        text-align: right;\n",
       "    }\n",
       "</style>\n",
       "<table border=\"1\" class=\"dataframe\">\n",
       "  <thead>\n",
       "    <tr style=\"text-align: right;\">\n",
       "      <th></th>\n",
       "      <th>Archers</th>\n",
       "      <th>partial_dependence</th>\n",
       "    </tr>\n",
       "  </thead>\n",
       "  <tbody>\n",
       "    <tr>\n",
       "      <th>0</th>\n",
       "      <td>0.00</td>\n",
       "      <td>0.486702</td>\n",
       "    </tr>\n",
       "    <tr>\n",
       "      <th>1</th>\n",
       "      <td>0.65</td>\n",
       "      <td>0.486702</td>\n",
       "    </tr>\n",
       "    <tr>\n",
       "      <th>2</th>\n",
       "      <td>1.30</td>\n",
       "      <td>0.486702</td>\n",
       "    </tr>\n",
       "    <tr>\n",
       "      <th>3</th>\n",
       "      <td>1.95</td>\n",
       "      <td>0.486670</td>\n",
       "    </tr>\n",
       "    <tr>\n",
       "      <th>4</th>\n",
       "      <td>2.60</td>\n",
       "      <td>0.486630</td>\n",
       "    </tr>\n",
       "  </tbody>\n",
       "</table>\n",
       "</div>"
      ],
      "text/plain": [
       "   Archers  partial_dependence\n",
       "0     0.00            0.486702\n",
       "1     0.65            0.486702\n",
       "2     1.30            0.486702\n",
       "3     1.95            0.486670\n",
       "4     2.60            0.486630"
      ]
     },
     "execution_count": 45,
     "metadata": {},
     "output_type": "execute_result"
    }
   ],
   "source": [
    "par_dep_Archers2.head()"
   ]
  },
  {
   "cell_type": "code",
   "execution_count": 37,
   "metadata": {},
   "outputs": [
    {
     "data": {
      "text/html": [
       "<div>\n",
       "<style scoped>\n",
       "    .dataframe tbody tr th:only-of-type {\n",
       "        vertical-align: middle;\n",
       "    }\n",
       "\n",
       "    .dataframe tbody tr th {\n",
       "        vertical-align: top;\n",
       "    }\n",
       "\n",
       "    .dataframe thead th {\n",
       "        text-align: right;\n",
       "    }\n",
       "</style>\n",
       "<table border=\"1\" class=\"dataframe\">\n",
       "  <thead>\n",
       "    <tr style=\"text-align: right;\">\n",
       "      <th></th>\n",
       "      <th>Heal</th>\n",
       "      <th>partial_dependence</th>\n",
       "    </tr>\n",
       "  </thead>\n",
       "  <tbody>\n",
       "    <tr>\n",
       "      <th>0</th>\n",
       "      <td>0.00</td>\n",
       "      <td>0.489050</td>\n",
       "    </tr>\n",
       "    <tr>\n",
       "      <th>1</th>\n",
       "      <td>0.55</td>\n",
       "      <td>0.374979</td>\n",
       "    </tr>\n",
       "    <tr>\n",
       "      <th>2</th>\n",
       "      <td>1.10</td>\n",
       "      <td>0.374979</td>\n",
       "    </tr>\n",
       "    <tr>\n",
       "      <th>3</th>\n",
       "      <td>1.65</td>\n",
       "      <td>0.374979</td>\n",
       "    </tr>\n",
       "    <tr>\n",
       "      <th>4</th>\n",
       "      <td>2.20</td>\n",
       "      <td>0.374979</td>\n",
       "    </tr>\n",
       "  </tbody>\n",
       "</table>\n",
       "</div>"
      ],
      "text/plain": [
       "   Heal  partial_dependence\n",
       "0  0.00            0.489050\n",
       "1  0.55            0.374979\n",
       "2  1.10            0.374979\n",
       "3  1.65            0.374979\n",
       "4  2.20            0.374979"
      ]
     },
     "execution_count": 37,
     "metadata": {},
     "output_type": "execute_result"
    }
   ],
   "source": [
    "par_dep_Heal1.head()"
   ]
  },
  {
   "cell_type": "code",
   "execution_count": 43,
   "metadata": {},
   "outputs": [],
   "source": [
    "def plot_par_dep(xs, par_dep_frame):\n",
    "\n",
    "    \n",
    "    \"\"\" Plots  partial dependence for a single variable.\n",
    "    \n",
    "    Args: \n",
    "        xs: Name of variable for which to plot  partial dependence.\n",
    "        par_dep_frame: Name of Pandas DataFrame containing partial\n",
    "                       dependence values.\n",
    "    \n",
    "    \"\"\"\n",
    "    \n",
    "    # initialize figure and axis\n",
    "    fig, ax = plt.subplots()\n",
    "    \n",
    "    # plot ICE curves\n",
    " #   par_dep_frame.drop('partial_dependence', axis=1).plot(x=xs, \n",
    " #                                                         colormap='gnuplot',\n",
    " #                                                         ax=ax)\n",
    "\n",
    "    # overlay partial dependence, annotate plot\n",
    "    par_dep_frame.plot(title='Partial Dependence for ' + str(xs),\n",
    "                       x=xs, \n",
    "                       y='partial_dependence',\n",
    "                       style='r-', \n",
    "                       linewidth=3, \n",
    "                       ax=ax)\n",
    "\n"
   ]
  },
  {
   "cell_type": "code",
   "execution_count": 47,
   "metadata": {},
   "outputs": [
    {
     "data": {
      "image/png": "[encoded data removed]",
      "text/plain": [
       "<Figure size 432x288 with 1 Axes>"
      ]
     },
     "metadata": {
      "needs_background": "light"
     },
     "output_type": "display_data"
    }
   ],
   "source": [
    "plot_par_dep('Archers', par_dep_Archers1)"
   ]
  },
  {
   "cell_type": "code",
   "execution_count": 48,
   "metadata": {},
   "outputs": [
    {
     "data": {
      "image/png": "[encoded data removed]",
      "text/plain": [
       "<Figure size 432x288 with 1 Axes>"
      ]
     },
     "metadata": {
      "needs_background": "light"
     },
     "output_type": "display_data"
    }
   ],
   "source": [
    "plot_par_dep('Heal', par_dep_Heal1)"
   ]
  },
  {
   "cell_type": "markdown",
   "metadata": {},
   "source": [
    "### scatterplot of gains and coefs"
   ]
  },
  {
   "cell_type": "code",
   "execution_count": 29,
   "metadata": {},
   "outputs": [
    {
     "name": "stdout",
     "output_type": "stream",
     "text": [
      "Giant Snowball\n",
      "Zap\n",
      "Zap\n",
      "Archers\n"
     ]
    }
   ],
   "source": [
    "# capturing the values\n",
    "xgbGains = bst.get_score(importance_type='gain')\n",
    "logRegCoef = {card:coef for coef,card in zip(lr.coef_[0] , X.columns) if card in colListModel1}\n",
    "xgbGainsNames= [k for k in xgbGains.keys()]\n",
    "xgbGainsvalues= [k for k in xgbGains.values()]\n",
    "logRegCoefNames= [k for k in logRegCoef.keys()]\n",
    "logRegCoefvalues= [k for k in logRegCoef.values()]\n",
    "print(xgbGainsNames[88])\n",
    "print(xgbGainsNames[0])\n",
    "print(logRegCoefNames[88])\n",
    "print(logRegCoefNames[0])\n",
    "\n"
   ]
  },
  {
   "cell_type": "code",
   "execution_count": 30,
   "metadata": {},
   "outputs": [],
   "source": [
    "# reordering coefs as gains\n",
    "xgbGainsNames1 = [xgbGainsNames[k] for k in match(cardNameList.tolist(),xgbGainsNames)]\n",
    "xgbGainsValues1 = [xgbGainsvalues[k] for k in match(cardNameList.tolist(),xgbGainsNames)]\n",
    "logRegCoefNames1 = [logRegCoefNames[k] for k in match(cardNameList.tolist(),logRegCoefNames)]\n",
    "logRegCoefValues1 = [logRegCoefvalues[k] for k in match(cardNameList.tolist(),logRegCoefNames)]\n"
   ]
  },
  {
   "cell_type": "code",
   "execution_count": 31,
   "metadata": {},
   "outputs": [
    {
     "data": {
      "image/png": "[encoded data removed]",
      "text/plain": [
       "<Figure size 1080x1080 with 1 Axes>"
      ]
     },
     "metadata": {
      "needs_background": "light"
     },
     "output_type": "display_data"
    }
   ],
   "source": [
    "# plotting \n",
    "fig, ax = plt.subplots(figsize=(15, 15))\n",
    "ax.scatter(xgbGainsValues1, logRegCoefValues1)\n",
    "\n",
    "plt.title(\"Gain versus Coef\")\n",
    "plt.xlabel(\"Gain importance xgboost\")\n",
    "plt.ylabel(\"Coef of Logistic regression\")\n",
    "\n",
    "for i, txt in enumerate(xgbGainsNames1):\n",
    "    ax.annotate(txt, (xgbGainsValues1[i], logRegCoefValues1[i]))"
   ]
  },
  {
   "cell_type": "markdown",
   "metadata": {},
   "source": [
    "Royale Recruits card is according to xgboost model, an important card. However, it doesn't mention whether it's positive or a negative contributor.\n",
    "In order to pay enough attention to cards that have a positive contribution coeficient, we filter the plot by conditioning the plot to show only the ones that have a Logistic Regression coefficient greater than 0.06. "
   ]
  },
  {
   "cell_type": "code",
   "execution_count": 32,
   "metadata": {},
   "outputs": [
    {
     "data": {
      "image/png": "[encoded data removed]",
      "text/plain": [
       "<Figure size 1080x720 with 1 Axes>"
      ]
     },
     "metadata": {
      "needs_background": "light"
     },
     "output_type": "display_data"
    }
   ],
   "source": [
    "# plotting \n",
    "xgbGainsValues2 = np.array(xgbGainsValues1)[np.array(logRegCoefValues1)>0.06]\n",
    "logRegCoefValues2 = np.array(logRegCoefValues1)[np.array(logRegCoefValues1)>0.06]\n",
    "xgbGainsNames2 = np.array(xgbGainsNames1)[np.array(logRegCoefValues1)>0.06]\n",
    "\n",
    "\n",
    "fig, ax = plt.subplots(figsize=(15, 10))\n",
    "ax.scatter(xgbGainsValues2, logRegCoefValues2)\n",
    "\n",
    "plt.title(\"Gain versus Coef, filtered by positive contribution\")\n",
    "plt.xlabel(\"Gain importance xgboost\")\n",
    "plt.ylabel(\"Coef of Logistic regression\")\n",
    "\n",
    "for i, txt in enumerate(xgbGainsNames2):\n",
    "    ax.annotate(txt, (xgbGainsValues2[i], logRegCoefValues2[i]))"
   ]
  },
  {
   "cell_type": "markdown",
   "metadata": {},
   "source": [
    "We can see that the cards with a Logistic Regression coefficient greater than 0.10 are all of them Legendary rarity (The category which has the lowest acquisition rate). It's interesting to notice that according to the gain importance of xgboost model shows a noticeable difference between this cards. For instance, the Ice Wizard has a low importance gain whereas graveyard has a big importance gain, having both a similar coefficient. This fact could mean that although Ice Wizard has a high marginal contribution, detected by the logistic regression, has a low synergy considering having to play it in combination with the rest of the deck.\n",
    "Moreover, PEKKA has a middle coefficient and a high importance gain due to this high synergy with other good cards."
   ]
  },
  {
   "cell_type": "markdown",
   "metadata": {},
   "source": [
    "# Use case: deck optimization"
   ]
  },
  {
   "cell_type": "markdown",
   "metadata": {},
   "source": [
    "In order to analyse this case, we set fixed a certain user with a specific deck and we make create the strongest 8 card combination taking into account the available deck the user has.\n",
    "First of all, this will be done from the Logistic Regression model and afterwards the xgboost model will be performed. The objective is to evaluate which methodology leads us to the most effective deck, comparing the results with my expertise in the game."
   ]
  },
  {
   "cell_type": "code",
   "execution_count": 33,
   "metadata": {},
   "outputs": [],
   "source": [
    "availableCards = {'Musketeer': 9,\n",
    " 'Electro Wizard': 2,\n",
    " 'Knight': 11,\n",
    " 'Minion Horde': 12,\n",
    " 'Cannon Cart': 6,\n",
    " 'Fire Spirits': 11,\n",
    " 'Inferno Tower': 8,\n",
    " 'Golem': 5,\n",
    " 'Dark Prince': 6,\n",
    " 'Witch': 6,\n",
    " 'Sparky': 2,\n",
    " 'Tombstone': 9,\n",
    " 'Royal Giant': 10,\n",
    " 'Ice Spirit': 13,\n",
    " 'Mirror': 4,\n",
    " 'Royal Recruits': 9,\n",
    " 'Giant Skeleton': 4,\n",
    " 'Skeletons': 10,\n",
    " 'P.E.K.K.A': 6,\n",
    " 'Executioner': 5,\n",
    " 'Skeleton Barrel': 9,\n",
    " 'Barbarian Barrel': 6,\n",
    " 'Dart Goblin': 9,\n",
    " 'Spear Goblins': 10,\n",
    " 'X-Bow': 5,\n",
    " 'Guards': 6,\n",
    " 'Prince': 7,\n",
    " 'Graveyard': 3,\n",
    " 'Giant Snowball': 9,\n",
    " 'Bomber': 8,\n",
    " 'Zappies': 8,\n",
    " 'Elixir Collector': 9,\n",
    " 'Clone': 4,\n",
    " 'Balloon': 6,\n",
    " 'Royal Hogs': 7,\n",
    " 'Flying Machine': 9,\n",
    " 'Mortar': 10,\n",
    " 'Night Witch': 2,\n",
    " 'Princess': 2,\n",
    " 'Goblin Barrel': 5,\n",
    " 'Hunter': 6,\n",
    " 'Tornado': 5,\n",
    " 'Fireball': 9,\n",
    " 'Rascals': 11,\n",
    " 'Valkyrie': 9,\n",
    " 'Minions': 12,\n",
    " 'Baby Dragon': 5,\n",
    " 'Lightning': 6,\n",
    " 'Lava Hound': 2,\n",
    " 'Barbarians': 10,\n",
    " 'Tesla': 10,\n",
    " 'Heal': 6,\n",
    " 'Rage': 5,\n",
    " 'Goblin Giant': 2,\n",
    " 'Rocket': 9,\n",
    " 'Elite Barbarians': 11,\n",
    " 'Electro Dragon': 4,\n",
    " 'Bomb Tower': 5,\n",
    " 'Freeze': 5,\n",
    " 'Arrows': 11,\n",
    " 'Goblin Hut': 8,\n",
    " 'Wizard': 10,\n",
    " 'Inferno Dragon': 3,\n",
    " 'Ram Rider': 2,\n",
    " 'Goblins': 11,\n",
    " 'Three Musketeers': 8,\n",
    " 'Mega Knight': 2,\n",
    " 'Bandit': 2,\n",
    " 'Skeleton Army': 4,\n",
    " 'Furnace': 7,\n",
    " 'Goblin Gang': 12,\n",
    " 'Royal Ghost': 2,\n",
    " 'Bowler': 6,\n",
    " 'Barbarian Hut': 7,\n",
    " 'Magic Archer': 2,\n",
    " 'Cannon': 10,\n",
    " 'Battle Ram': 9,\n",
    " 'Archers': 12,\n",
    " 'Ice Golem': 8,\n",
    " 'Hog Rider': 8,\n",
    " 'Lumberjack': 3,\n",
    " 'Ice Wizard': 2,\n",
    " 'Giant': 11,\n",
    " 'Mega Minion': 11,\n",
    " 'Zap': 13,\n",
    " 'Poison': 8,\n",
    " 'Mini P.E.K.K.A': 11,\n",
    " 'Bats': 13,\n",
    " 'Miner': 4,\n",
    " 'The Log': 4}"
   ]
  },
  {
   "cell_type": "code",
   "execution_count": 47,
   "metadata": {},
   "outputs": [
    {
     "data": {
      "text/html": [
       "<div>\n",
       "<style scoped>\n",
       "    .dataframe tbody tr th:only-of-type {\n",
       "        vertical-align: middle;\n",
       "    }\n",
       "\n",
       "    .dataframe tbody tr th {\n",
       "        vertical-align: top;\n",
       "    }\n",
       "\n",
       "    .dataframe thead th {\n",
       "        text-align: right;\n",
       "    }\n",
       "</style>\n",
       "<table border=\"1\" class=\"dataframe\">\n",
       "  <thead>\n",
       "    <tr style=\"text-align: right;\">\n",
       "      <th></th>\n",
       "      <th>Bats</th>\n",
       "      <th>Giant</th>\n",
       "      <th>Mega Minion</th>\n",
       "      <th>Miner</th>\n",
       "      <th>Mini P.E.K.K.A</th>\n",
       "      <th>Poison</th>\n",
       "      <th>The Log</th>\n",
       "      <th>Zap</th>\n",
       "      <th>startingTrophies</th>\n",
       "      <th>Ar_League_4</th>\n",
       "    </tr>\n",
       "  </thead>\n",
       "  <tbody>\n",
       "    <tr>\n",
       "      <th>55</th>\n",
       "      <td>13.0</td>\n",
       "      <td>11.0</td>\n",
       "      <td>11.0</td>\n",
       "      <td>4.0</td>\n",
       "      <td>11.0</td>\n",
       "      <td>8.0</td>\n",
       "      <td>4.0</td>\n",
       "      <td>13.0</td>\n",
       "      <td>5020.0</td>\n",
       "      <td>1</td>\n",
       "    </tr>\n",
       "  </tbody>\n",
       "</table>\n",
       "</div>"
      ],
      "text/plain": [
       "    Bats  Giant  Mega Minion  Miner  Mini P.E.K.K.A  Poison  The Log   Zap  \\\n",
       "55  13.0   11.0         11.0    4.0            11.0     8.0      4.0  13.0   \n",
       "\n",
       "    startingTrophies  Ar_League_4  \n",
       "55            5020.0            1  "
      ]
     },
     "execution_count": 47,
     "metadata": {},
     "output_type": "execute_result"
    }
   ],
   "source": [
    "#actual deck\n",
    "usecase1 = X[(battleLogDF_ALL.tag==\"#YY8GC8C\")][0:1].copy()\n",
    "usecase1[X.columns[(usecase1>0).values[0]]]"
   ]
  },
  {
   "cell_type": "code",
   "execution_count": 43,
   "metadata": {},
   "outputs": [],
   "source": [
    "battleDeck0 = {'Bats': 13, 'Giant':11, 'Mega Minion':11, 'Miner': 4, 'Mini P.E.K.K.A': 11, 'Poison': 8,\n",
    "       'The Log': 4, 'Zap': 13}"
   ]
  },
  {
   "cell_type": "code",
   "execution_count": 44,
   "metadata": {},
   "outputs": [],
   "source": [
    "battleDeckOrdered = list(battleDeck0.keys())"
   ]
  },
  {
   "cell_type": "code",
   "execution_count": 199,
   "metadata": {},
   "outputs": [
    {
     "name": "stdout",
     "output_type": "stream",
     "text": [
      "['Bats', 'Giant', 'Mega Minion', 'Miner', 'Mini P.E.K.K.A', 'Poison', 'The Log', 'Zap']\n",
      "LR: I've changed card: Bats by : Ice Spirit\n",
      "XGB: I've changed card: Bats by : Inferno Dragon\n"
     ]
    },
    {
     "name": "stderr",
     "output_type": "stream",
     "text": [
      "C:\\Users\\EQUIPO\\Anaconda3\\lib\\site-packages\\ipykernel_launcher.py:39: FutureWarning: \n",
      "The current behaviour of 'Series.argmax' is deprecated, use 'idxmax'\n",
      "instead.\n",
      "The behavior of 'argmax' will be corrected to return the positional\n",
      "maximum in the future. For now, use 'series.values.argmax' or\n",
      "'np.argmax(np.array(values))' to get the position of the maximum\n",
      "row.\n",
      "C:\\Users\\EQUIPO\\Anaconda3\\lib\\site-packages\\ipykernel_launcher.py:39: FutureWarning: \n",
      "The current behaviour of 'Series.argmax' is deprecated, use 'idxmax'\n",
      "instead.\n",
      "The behavior of 'argmax' will be corrected to return the positional\n",
      "maximum in the future. For now, use 'series.values.argmax' or\n",
      "'np.argmax(np.array(values))' to get the position of the maximum\n",
      "row.\n"
     ]
    },
    {
     "name": "stdout",
     "output_type": "stream",
     "text": [
      "LR: I've changed card: Giant by : Barbarian Barrel\n",
      "XGB: I've changed card: Giant by : Lightning\n"
     ]
    },
    {
     "name": "stderr",
     "output_type": "stream",
     "text": [
      "C:\\Users\\EQUIPO\\Anaconda3\\lib\\site-packages\\ipykernel_launcher.py:39: FutureWarning: \n",
      "The current behaviour of 'Series.argmax' is deprecated, use 'idxmax'\n",
      "instead.\n",
      "The behavior of 'argmax' will be corrected to return the positional\n",
      "maximum in the future. For now, use 'series.values.argmax' or\n",
      "'np.argmax(np.array(values))' to get the position of the maximum\n",
      "row.\n"
     ]
    },
    {
     "name": "stdout",
     "output_type": "stream",
     "text": [
      "LR: I've changed card: Mega Minion by : Mega Minion\n",
      "XGB: I've changed card: Mega Minion by : Mega Minion\n"
     ]
    },
    {
     "name": "stderr",
     "output_type": "stream",
     "text": [
      "C:\\Users\\EQUIPO\\Anaconda3\\lib\\site-packages\\ipykernel_launcher.py:39: FutureWarning: \n",
      "The current behaviour of 'Series.argmax' is deprecated, use 'idxmax'\n",
      "instead.\n",
      "The behavior of 'argmax' will be corrected to return the positional\n",
      "maximum in the future. For now, use 'series.values.argmax' or\n",
      "'np.argmax(np.array(values))' to get the position of the maximum\n",
      "row.\n"
     ]
    },
    {
     "name": "stdout",
     "output_type": "stream",
     "text": [
      "LR: I've changed card: Miner by : Miner\n",
      "XGB: I've changed card: Miner by : Graveyard\n"
     ]
    },
    {
     "name": "stderr",
     "output_type": "stream",
     "text": [
      "C:\\Users\\EQUIPO\\Anaconda3\\lib\\site-packages\\ipykernel_launcher.py:39: FutureWarning: \n",
      "The current behaviour of 'Series.argmax' is deprecated, use 'idxmax'\n",
      "instead.\n",
      "The behavior of 'argmax' will be corrected to return the positional\n",
      "maximum in the future. For now, use 'series.values.argmax' or\n",
      "'np.argmax(np.array(values))' to get the position of the maximum\n",
      "row.\n"
     ]
    },
    {
     "name": "stdout",
     "output_type": "stream",
     "text": [
      "LR: I've changed card: Mini P.E.K.K.A by : Mini P.E.K.K.A\n",
      "XGB: I've changed card: Mini P.E.K.K.A by : Mini P.E.K.K.A\n"
     ]
    },
    {
     "name": "stderr",
     "output_type": "stream",
     "text": [
      "C:\\Users\\EQUIPO\\Anaconda3\\lib\\site-packages\\ipykernel_launcher.py:39: FutureWarning: \n",
      "The current behaviour of 'Series.argmax' is deprecated, use 'idxmax'\n",
      "instead.\n",
      "The behavior of 'argmax' will be corrected to return the positional\n",
      "maximum in the future. For now, use 'series.values.argmax' or\n",
      "'np.argmax(np.array(values))' to get the position of the maximum\n",
      "row.\n"
     ]
    },
    {
     "name": "stdout",
     "output_type": "stream",
     "text": [
      "LR: I've changed card: Poison by : Giant\n",
      "XGB: I've changed card: Poison by : Poison\n"
     ]
    },
    {
     "name": "stderr",
     "output_type": "stream",
     "text": [
      "C:\\Users\\EQUIPO\\Anaconda3\\lib\\site-packages\\ipykernel_launcher.py:39: FutureWarning: \n",
      "The current behaviour of 'Series.argmax' is deprecated, use 'idxmax'\n",
      "instead.\n",
      "The behavior of 'argmax' will be corrected to return the positional\n",
      "maximum in the future. For now, use 'series.values.argmax' or\n",
      "'np.argmax(np.array(values))' to get the position of the maximum\n",
      "row.\n"
     ]
    },
    {
     "name": "stdout",
     "output_type": "stream",
     "text": [
      "LR: I've changed card: The Log by : The Log\n",
      "XGB: I've changed card: The Log by : The Log\n"
     ]
    },
    {
     "name": "stderr",
     "output_type": "stream",
     "text": [
      "C:\\Users\\EQUIPO\\Anaconda3\\lib\\site-packages\\ipykernel_launcher.py:39: FutureWarning: \n",
      "The current behaviour of 'Series.argmax' is deprecated, use 'idxmax'\n",
      "instead.\n",
      "The behavior of 'argmax' will be corrected to return the positional\n",
      "maximum in the future. For now, use 'series.values.argmax' or\n",
      "'np.argmax(np.array(values))' to get the position of the maximum\n",
      "row.\n"
     ]
    },
    {
     "name": "stdout",
     "output_type": "stream",
     "text": [
      "LR: I've changed card: Zap by : Zap\n",
      "XGB: I've changed card: Zap by : Zap\n",
      "LR: proposed new deck: Ice Spirit|Barbarian Barrel|Mega Minion|Miner|Mini P.E.K.K.A|Giant|The Log|Zap\n",
      "XGB: proposed new deck: Inferno Dragon|Lightning|Mega Minion|Graveyard|Mini P.E.K.K.A|Poison|The Log|Zap\n"
     ]
    },
    {
     "name": "stderr",
     "output_type": "stream",
     "text": [
      "C:\\Users\\EQUIPO\\Anaconda3\\lib\\site-packages\\ipykernel_launcher.py:39: FutureWarning: \n",
      "The current behaviour of 'Series.argmax' is deprecated, use 'idxmax'\n",
      "instead.\n",
      "The behavior of 'argmax' will be corrected to return the positional\n",
      "maximum in the future. For now, use 'series.values.argmax' or\n",
      "'np.argmax(np.array(values))' to get the position of the maximum\n",
      "row.\n"
     ]
    },
    {
     "name": "stdout",
     "output_type": "stream",
     "text": [
      "LR: I've changed card: Ice Spirit by : Ice Spirit\n",
      "XGB: I've changed card: Inferno Dragon by : Inferno Dragon\n"
     ]
    },
    {
     "name": "stderr",
     "output_type": "stream",
     "text": [
      "C:\\Users\\EQUIPO\\Anaconda3\\lib\\site-packages\\ipykernel_launcher.py:39: FutureWarning: \n",
      "The current behaviour of 'Series.argmax' is deprecated, use 'idxmax'\n",
      "instead.\n",
      "The behavior of 'argmax' will be corrected to return the positional\n",
      "maximum in the future. For now, use 'series.values.argmax' or\n",
      "'np.argmax(np.array(values))' to get the position of the maximum\n",
      "row.\n"
     ]
    },
    {
     "name": "stdout",
     "output_type": "stream",
     "text": [
      "LR: I've changed card: Barbarian Barrel by : Barbarian Barrel\n",
      "XGB: I've changed card: Lightning by : Lightning\n"
     ]
    },
    {
     "name": "stderr",
     "output_type": "stream",
     "text": [
      "C:\\Users\\EQUIPO\\Anaconda3\\lib\\site-packages\\ipykernel_launcher.py:39: FutureWarning: \n",
      "The current behaviour of 'Series.argmax' is deprecated, use 'idxmax'\n",
      "instead.\n",
      "The behavior of 'argmax' will be corrected to return the positional\n",
      "maximum in the future. For now, use 'series.values.argmax' or\n",
      "'np.argmax(np.array(values))' to get the position of the maximum\n",
      "row.\n"
     ]
    },
    {
     "name": "stdout",
     "output_type": "stream",
     "text": [
      "LR: I've changed card: Mega Minion by : Mega Minion\n",
      "XGB: I've changed card: Mega Minion by : Mega Minion\n"
     ]
    },
    {
     "name": "stderr",
     "output_type": "stream",
     "text": [
      "C:\\Users\\EQUIPO\\Anaconda3\\lib\\site-packages\\ipykernel_launcher.py:39: FutureWarning: \n",
      "The current behaviour of 'Series.argmax' is deprecated, use 'idxmax'\n",
      "instead.\n",
      "The behavior of 'argmax' will be corrected to return the positional\n",
      "maximum in the future. For now, use 'series.values.argmax' or\n",
      "'np.argmax(np.array(values))' to get the position of the maximum\n",
      "row.\n"
     ]
    },
    {
     "name": "stdout",
     "output_type": "stream",
     "text": [
      "LR: I've changed card: Miner by : Miner\n",
      "XGB: I've changed card: Graveyard by : Graveyard\n"
     ]
    },
    {
     "name": "stderr",
     "output_type": "stream",
     "text": [
      "C:\\Users\\EQUIPO\\Anaconda3\\lib\\site-packages\\ipykernel_launcher.py:39: FutureWarning: \n",
      "The current behaviour of 'Series.argmax' is deprecated, use 'idxmax'\n",
      "instead.\n",
      "The behavior of 'argmax' will be corrected to return the positional\n",
      "maximum in the future. For now, use 'series.values.argmax' or\n",
      "'np.argmax(np.array(values))' to get the position of the maximum\n",
      "row.\n"
     ]
    },
    {
     "name": "stdout",
     "output_type": "stream",
     "text": [
      "LR: I've changed card: Mini P.E.K.K.A by : Mini P.E.K.K.A\n",
      "XGB: I've changed card: Mini P.E.K.K.A by : Mini P.E.K.K.A\n"
     ]
    },
    {
     "name": "stderr",
     "output_type": "stream",
     "text": [
      "C:\\Users\\EQUIPO\\Anaconda3\\lib\\site-packages\\ipykernel_launcher.py:39: FutureWarning: \n",
      "The current behaviour of 'Series.argmax' is deprecated, use 'idxmax'\n",
      "instead.\n",
      "The behavior of 'argmax' will be corrected to return the positional\n",
      "maximum in the future. For now, use 'series.values.argmax' or\n",
      "'np.argmax(np.array(values))' to get the position of the maximum\n",
      "row.\n"
     ]
    },
    {
     "name": "stdout",
     "output_type": "stream",
     "text": [
      "LR: I've changed card: Giant by : Giant\n",
      "XGB: I've changed card: Poison by : Poison\n"
     ]
    },
    {
     "name": "stderr",
     "output_type": "stream",
     "text": [
      "C:\\Users\\EQUIPO\\Anaconda3\\lib\\site-packages\\ipykernel_launcher.py:39: FutureWarning: \n",
      "The current behaviour of 'Series.argmax' is deprecated, use 'idxmax'\n",
      "instead.\n",
      "The behavior of 'argmax' will be corrected to return the positional\n",
      "maximum in the future. For now, use 'series.values.argmax' or\n",
      "'np.argmax(np.array(values))' to get the position of the maximum\n",
      "row.\n"
     ]
    },
    {
     "name": "stdout",
     "output_type": "stream",
     "text": [
      "LR: I've changed card: The Log by : The Log\n",
      "XGB: I've changed card: The Log by : The Log\n"
     ]
    },
    {
     "name": "stderr",
     "output_type": "stream",
     "text": [
      "C:\\Users\\EQUIPO\\Anaconda3\\lib\\site-packages\\ipykernel_launcher.py:39: FutureWarning: \n",
      "The current behaviour of 'Series.argmax' is deprecated, use 'idxmax'\n",
      "instead.\n",
      "The behavior of 'argmax' will be corrected to return the positional\n",
      "maximum in the future. For now, use 'series.values.argmax' or\n",
      "'np.argmax(np.array(values))' to get the position of the maximum\n",
      "row.\n"
     ]
    },
    {
     "name": "stdout",
     "output_type": "stream",
     "text": [
      "LR: I've changed card: Zap by : Zap\n",
      "XGB: I've changed card: Zap by : Zap\n",
      "LR: proposed new deck: Ice Spirit|Barbarian Barrel|Mega Minion|Miner|Mini P.E.K.K.A|Giant|The Log|Zap\n",
      "XGB: proposed new deck: Inferno Dragon|Lightning|Mega Minion|Graveyard|Mini P.E.K.K.A|Poison|The Log|Zap\n"
     ]
    },
    {
     "name": "stderr",
     "output_type": "stream",
     "text": [
      "C:\\Users\\EQUIPO\\Anaconda3\\lib\\site-packages\\ipykernel_launcher.py:39: FutureWarning: \n",
      "The current behaviour of 'Series.argmax' is deprecated, use 'idxmax'\n",
      "instead.\n",
      "The behavior of 'argmax' will be corrected to return the positional\n",
      "maximum in the future. For now, use 'series.values.argmax' or\n",
      "'np.argmax(np.array(values))' to get the position of the maximum\n",
      "row.\n"
     ]
    },
    {
     "name": "stdout",
     "output_type": "stream",
     "text": [
      "LR: I've changed card: Ice Spirit by : Ice Spirit\n",
      "XGB: I've changed card: Inferno Dragon by : Inferno Dragon\n"
     ]
    },
    {
     "name": "stderr",
     "output_type": "stream",
     "text": [
      "C:\\Users\\EQUIPO\\Anaconda3\\lib\\site-packages\\ipykernel_launcher.py:39: FutureWarning: \n",
      "The current behaviour of 'Series.argmax' is deprecated, use 'idxmax'\n",
      "instead.\n",
      "The behavior of 'argmax' will be corrected to return the positional\n",
      "maximum in the future. For now, use 'series.values.argmax' or\n",
      "'np.argmax(np.array(values))' to get the position of the maximum\n",
      "row.\n"
     ]
    },
    {
     "name": "stdout",
     "output_type": "stream",
     "text": [
      "LR: I've changed card: Barbarian Barrel by : Barbarian Barrel\n",
      "XGB: I've changed card: Lightning by : Lightning\n"
     ]
    },
    {
     "name": "stderr",
     "output_type": "stream",
     "text": [
      "C:\\Users\\EQUIPO\\Anaconda3\\lib\\site-packages\\ipykernel_launcher.py:39: FutureWarning: \n",
      "The current behaviour of 'Series.argmax' is deprecated, use 'idxmax'\n",
      "instead.\n",
      "The behavior of 'argmax' will be corrected to return the positional\n",
      "maximum in the future. For now, use 'series.values.argmax' or\n",
      "'np.argmax(np.array(values))' to get the position of the maximum\n",
      "row.\n"
     ]
    },
    {
     "name": "stdout",
     "output_type": "stream",
     "text": [
      "LR: I've changed card: Mega Minion by : Mega Minion\n",
      "XGB: I've changed card: Mega Minion by : Mega Minion\n"
     ]
    },
    {
     "name": "stderr",
     "output_type": "stream",
     "text": [
      "C:\\Users\\EQUIPO\\Anaconda3\\lib\\site-packages\\ipykernel_launcher.py:39: FutureWarning: \n",
      "The current behaviour of 'Series.argmax' is deprecated, use 'idxmax'\n",
      "instead.\n",
      "The behavior of 'argmax' will be corrected to return the positional\n",
      "maximum in the future. For now, use 'series.values.argmax' or\n",
      "'np.argmax(np.array(values))' to get the position of the maximum\n",
      "row.\n"
     ]
    },
    {
     "name": "stdout",
     "output_type": "stream",
     "text": [
      "LR: I've changed card: Miner by : Miner\n",
      "XGB: I've changed card: Graveyard by : Graveyard\n"
     ]
    },
    {
     "name": "stderr",
     "output_type": "stream",
     "text": [
      "C:\\Users\\EQUIPO\\Anaconda3\\lib\\site-packages\\ipykernel_launcher.py:39: FutureWarning: \n",
      "The current behaviour of 'Series.argmax' is deprecated, use 'idxmax'\n",
      "instead.\n",
      "The behavior of 'argmax' will be corrected to return the positional\n",
      "maximum in the future. For now, use 'series.values.argmax' or\n",
      "'np.argmax(np.array(values))' to get the position of the maximum\n",
      "row.\n"
     ]
    },
    {
     "name": "stdout",
     "output_type": "stream",
     "text": [
      "LR: I've changed card: Mini P.E.K.K.A by : Mini P.E.K.K.A\n",
      "XGB: I've changed card: Mini P.E.K.K.A by : Mini P.E.K.K.A\n"
     ]
    },
    {
     "name": "stderr",
     "output_type": "stream",
     "text": [
      "C:\\Users\\EQUIPO\\Anaconda3\\lib\\site-packages\\ipykernel_launcher.py:39: FutureWarning: \n",
      "The current behaviour of 'Series.argmax' is deprecated, use 'idxmax'\n",
      "instead.\n",
      "The behavior of 'argmax' will be corrected to return the positional\n",
      "maximum in the future. For now, use 'series.values.argmax' or\n",
      "'np.argmax(np.array(values))' to get the position of the maximum\n",
      "row.\n"
     ]
    },
    {
     "name": "stdout",
     "output_type": "stream",
     "text": [
      "LR: I've changed card: Giant by : Giant\n",
      "XGB: I've changed card: Poison by : Poison\n"
     ]
    },
    {
     "name": "stderr",
     "output_type": "stream",
     "text": [
      "C:\\Users\\EQUIPO\\Anaconda3\\lib\\site-packages\\ipykernel_launcher.py:39: FutureWarning: \n",
      "The current behaviour of 'Series.argmax' is deprecated, use 'idxmax'\n",
      "instead.\n",
      "The behavior of 'argmax' will be corrected to return the positional\n",
      "maximum in the future. For now, use 'series.values.argmax' or\n",
      "'np.argmax(np.array(values))' to get the position of the maximum\n",
      "row.\n"
     ]
    },
    {
     "name": "stdout",
     "output_type": "stream",
     "text": [
      "LR: I've changed card: The Log by : The Log\n",
      "XGB: I've changed card: The Log by : The Log\n"
     ]
    },
    {
     "name": "stderr",
     "output_type": "stream",
     "text": [
      "C:\\Users\\EQUIPO\\Anaconda3\\lib\\site-packages\\ipykernel_launcher.py:39: FutureWarning: \n",
      "The current behaviour of 'Series.argmax' is deprecated, use 'idxmax'\n",
      "instead.\n",
      "The behavior of 'argmax' will be corrected to return the positional\n",
      "maximum in the future. For now, use 'series.values.argmax' or\n",
      "'np.argmax(np.array(values))' to get the position of the maximum\n",
      "row.\n"
     ]
    },
    {
     "name": "stdout",
     "output_type": "stream",
     "text": [
      "LR: I've changed card: Zap by : Zap\n",
      "XGB: I've changed card: Zap by : Zap\n",
      "LR: proposed new deck: Ice Spirit|Barbarian Barrel|Mega Minion|Miner|Mini P.E.K.K.A|Giant|The Log|Zap\n",
      "XGB: proposed new deck: Inferno Dragon|Lightning|Mega Minion|Graveyard|Mini P.E.K.K.A|Poison|The Log|Zap\n"
     ]
    },
    {
     "name": "stderr",
     "output_type": "stream",
     "text": [
      "C:\\Users\\EQUIPO\\Anaconda3\\lib\\site-packages\\ipykernel_launcher.py:39: FutureWarning: \n",
      "The current behaviour of 'Series.argmax' is deprecated, use 'idxmax'\n",
      "instead.\n",
      "The behavior of 'argmax' will be corrected to return the positional\n",
      "maximum in the future. For now, use 'series.values.argmax' or\n",
      "'np.argmax(np.array(values))' to get the position of the maximum\n",
      "row.\n"
     ]
    },
    {
     "name": "stdout",
     "output_type": "stream",
     "text": [
      "LR: I've changed card: Ice Spirit by : Ice Spirit\n",
      "XGB: I've changed card: Inferno Dragon by : Inferno Dragon\n"
     ]
    },
    {
     "name": "stderr",
     "output_type": "stream",
     "text": [
      "C:\\Users\\EQUIPO\\Anaconda3\\lib\\site-packages\\ipykernel_launcher.py:39: FutureWarning: \n",
      "The current behaviour of 'Series.argmax' is deprecated, use 'idxmax'\n",
      "instead.\n",
      "The behavior of 'argmax' will be corrected to return the positional\n",
      "maximum in the future. For now, use 'series.values.argmax' or\n",
      "'np.argmax(np.array(values))' to get the position of the maximum\n",
      "row.\n"
     ]
    },
    {
     "name": "stdout",
     "output_type": "stream",
     "text": [
      "LR: I've changed card: Barbarian Barrel by : Barbarian Barrel\n",
      "XGB: I've changed card: Lightning by : Lightning\n"
     ]
    },
    {
     "name": "stderr",
     "output_type": "stream",
     "text": [
      "C:\\Users\\EQUIPO\\Anaconda3\\lib\\site-packages\\ipykernel_launcher.py:39: FutureWarning: \n",
      "The current behaviour of 'Series.argmax' is deprecated, use 'idxmax'\n",
      "instead.\n",
      "The behavior of 'argmax' will be corrected to return the positional\n",
      "maximum in the future. For now, use 'series.values.argmax' or\n",
      "'np.argmax(np.array(values))' to get the position of the maximum\n",
      "row.\n"
     ]
    },
    {
     "name": "stdout",
     "output_type": "stream",
     "text": [
      "LR: I've changed card: Mega Minion by : Mega Minion\n",
      "XGB: I've changed card: Mega Minion by : Mega Minion\n"
     ]
    },
    {
     "name": "stderr",
     "output_type": "stream",
     "text": [
      "C:\\Users\\EQUIPO\\Anaconda3\\lib\\site-packages\\ipykernel_launcher.py:39: FutureWarning: \n",
      "The current behaviour of 'Series.argmax' is deprecated, use 'idxmax'\n",
      "instead.\n",
      "The behavior of 'argmax' will be corrected to return the positional\n",
      "maximum in the future. For now, use 'series.values.argmax' or\n",
      "'np.argmax(np.array(values))' to get the position of the maximum\n",
      "row.\n"
     ]
    },
    {
     "name": "stdout",
     "output_type": "stream",
     "text": [
      "LR: I've changed card: Miner by : Miner\n",
      "XGB: I've changed card: Graveyard by : Graveyard\n"
     ]
    },
    {
     "name": "stderr",
     "output_type": "stream",
     "text": [
      "C:\\Users\\EQUIPO\\Anaconda3\\lib\\site-packages\\ipykernel_launcher.py:39: FutureWarning: \n",
      "The current behaviour of 'Series.argmax' is deprecated, use 'idxmax'\n",
      "instead.\n",
      "The behavior of 'argmax' will be corrected to return the positional\n",
      "maximum in the future. For now, use 'series.values.argmax' or\n",
      "'np.argmax(np.array(values))' to get the position of the maximum\n",
      "row.\n"
     ]
    },
    {
     "name": "stdout",
     "output_type": "stream",
     "text": [
      "LR: I've changed card: Mini P.E.K.K.A by : Mini P.E.K.K.A\n",
      "XGB: I've changed card: Mini P.E.K.K.A by : Mini P.E.K.K.A\n"
     ]
    },
    {
     "name": "stderr",
     "output_type": "stream",
     "text": [
      "C:\\Users\\EQUIPO\\Anaconda3\\lib\\site-packages\\ipykernel_launcher.py:39: FutureWarning: \n",
      "The current behaviour of 'Series.argmax' is deprecated, use 'idxmax'\n",
      "instead.\n",
      "The behavior of 'argmax' will be corrected to return the positional\n",
      "maximum in the future. For now, use 'series.values.argmax' or\n",
      "'np.argmax(np.array(values))' to get the position of the maximum\n",
      "row.\n"
     ]
    },
    {
     "name": "stdout",
     "output_type": "stream",
     "text": [
      "LR: I've changed card: Giant by : Giant\n",
      "XGB: I've changed card: Poison by : Poison\n"
     ]
    },
    {
     "name": "stderr",
     "output_type": "stream",
     "text": [
      "C:\\Users\\EQUIPO\\Anaconda3\\lib\\site-packages\\ipykernel_launcher.py:39: FutureWarning: \n",
      "The current behaviour of 'Series.argmax' is deprecated, use 'idxmax'\n",
      "instead.\n",
      "The behavior of 'argmax' will be corrected to return the positional\n",
      "maximum in the future. For now, use 'series.values.argmax' or\n",
      "'np.argmax(np.array(values))' to get the position of the maximum\n",
      "row.\n"
     ]
    },
    {
     "name": "stdout",
     "output_type": "stream",
     "text": [
      "LR: I've changed card: The Log by : The Log\n",
      "XGB: I've changed card: The Log by : The Log\n"
     ]
    },
    {
     "name": "stderr",
     "output_type": "stream",
     "text": [
      "C:\\Users\\EQUIPO\\Anaconda3\\lib\\site-packages\\ipykernel_launcher.py:39: FutureWarning: \n",
      "The current behaviour of 'Series.argmax' is deprecated, use 'idxmax'\n",
      "instead.\n",
      "The behavior of 'argmax' will be corrected to return the positional\n",
      "maximum in the future. For now, use 'series.values.argmax' or\n",
      "'np.argmax(np.array(values))' to get the position of the maximum\n",
      "row.\n"
     ]
    },
    {
     "name": "stdout",
     "output_type": "stream",
     "text": [
      "LR: I've changed card: Zap by : Zap\n",
      "XGB: I've changed card: Zap by : Zap\n",
      "LR: proposed new deck: Ice Spirit|Barbarian Barrel|Mega Minion|Miner|Mini P.E.K.K.A|Giant|The Log|Zap\n",
      "XGB: proposed new deck: Inferno Dragon|Lightning|Mega Minion|Graveyard|Mini P.E.K.K.A|Poison|The Log|Zap\n"
     ]
    },
    {
     "name": "stderr",
     "output_type": "stream",
     "text": [
      "C:\\Users\\EQUIPO\\Anaconda3\\lib\\site-packages\\ipykernel_launcher.py:39: FutureWarning: \n",
      "The current behaviour of 'Series.argmax' is deprecated, use 'idxmax'\n",
      "instead.\n",
      "The behavior of 'argmax' will be corrected to return the positional\n",
      "maximum in the future. For now, use 'series.values.argmax' or\n",
      "'np.argmax(np.array(values))' to get the position of the maximum\n",
      "row.\n"
     ]
    },
    {
     "name": "stdout",
     "output_type": "stream",
     "text": [
      "LR: I've changed card: Ice Spirit by : Ice Spirit\n",
      "XGB: I've changed card: Inferno Dragon by : Inferno Dragon\n"
     ]
    },
    {
     "name": "stderr",
     "output_type": "stream",
     "text": [
      "C:\\Users\\EQUIPO\\Anaconda3\\lib\\site-packages\\ipykernel_launcher.py:39: FutureWarning: \n",
      "The current behaviour of 'Series.argmax' is deprecated, use 'idxmax'\n",
      "instead.\n",
      "The behavior of 'argmax' will be corrected to return the positional\n",
      "maximum in the future. For now, use 'series.values.argmax' or\n",
      "'np.argmax(np.array(values))' to get the position of the maximum\n",
      "row.\n"
     ]
    },
    {
     "name": "stdout",
     "output_type": "stream",
     "text": [
      "LR: I've changed card: Barbarian Barrel by : Barbarian Barrel\n",
      "XGB: I've changed card: Lightning by : Lightning\n"
     ]
    },
    {
     "name": "stderr",
     "output_type": "stream",
     "text": [
      "C:\\Users\\EQUIPO\\Anaconda3\\lib\\site-packages\\ipykernel_launcher.py:39: FutureWarning: \n",
      "The current behaviour of 'Series.argmax' is deprecated, use 'idxmax'\n",
      "instead.\n",
      "The behavior of 'argmax' will be corrected to return the positional\n",
      "maximum in the future. For now, use 'series.values.argmax' or\n",
      "'np.argmax(np.array(values))' to get the position of the maximum\n",
      "row.\n"
     ]
    },
    {
     "name": "stdout",
     "output_type": "stream",
     "text": [
      "LR: I've changed card: Mega Minion by : Mega Minion\n",
      "XGB: I've changed card: Mega Minion by : Mega Minion\n"
     ]
    },
    {
     "name": "stderr",
     "output_type": "stream",
     "text": [
      "C:\\Users\\EQUIPO\\Anaconda3\\lib\\site-packages\\ipykernel_launcher.py:39: FutureWarning: \n",
      "The current behaviour of 'Series.argmax' is deprecated, use 'idxmax'\n",
      "instead.\n",
      "The behavior of 'argmax' will be corrected to return the positional\n",
      "maximum in the future. For now, use 'series.values.argmax' or\n",
      "'np.argmax(np.array(values))' to get the position of the maximum\n",
      "row.\n"
     ]
    },
    {
     "name": "stdout",
     "output_type": "stream",
     "text": [
      "LR: I've changed card: Miner by : Miner\n",
      "XGB: I've changed card: Graveyard by : Graveyard\n"
     ]
    },
    {
     "name": "stderr",
     "output_type": "stream",
     "text": [
      "C:\\Users\\EQUIPO\\Anaconda3\\lib\\site-packages\\ipykernel_launcher.py:39: FutureWarning: \n",
      "The current behaviour of 'Series.argmax' is deprecated, use 'idxmax'\n",
      "instead.\n",
      "The behavior of 'argmax' will be corrected to return the positional\n",
      "maximum in the future. For now, use 'series.values.argmax' or\n",
      "'np.argmax(np.array(values))' to get the position of the maximum\n",
      "row.\n"
     ]
    },
    {
     "name": "stdout",
     "output_type": "stream",
     "text": [
      "LR: I've changed card: Mini P.E.K.K.A by : Mini P.E.K.K.A\n",
      "XGB: I've changed card: Mini P.E.K.K.A by : Mini P.E.K.K.A\n"
     ]
    },
    {
     "name": "stderr",
     "output_type": "stream",
     "text": [
      "C:\\Users\\EQUIPO\\Anaconda3\\lib\\site-packages\\ipykernel_launcher.py:39: FutureWarning: \n",
      "The current behaviour of 'Series.argmax' is deprecated, use 'idxmax'\n",
      "instead.\n",
      "The behavior of 'argmax' will be corrected to return the positional\n",
      "maximum in the future. For now, use 'series.values.argmax' or\n",
      "'np.argmax(np.array(values))' to get the position of the maximum\n",
      "row.\n"
     ]
    },
    {
     "name": "stdout",
     "output_type": "stream",
     "text": [
      "LR: I've changed card: Giant by : Giant\n",
      "XGB: I've changed card: Poison by : Poison\n"
     ]
    },
    {
     "name": "stderr",
     "output_type": "stream",
     "text": [
      "C:\\Users\\EQUIPO\\Anaconda3\\lib\\site-packages\\ipykernel_launcher.py:39: FutureWarning: \n",
      "The current behaviour of 'Series.argmax' is deprecated, use 'idxmax'\n",
      "instead.\n",
      "The behavior of 'argmax' will be corrected to return the positional\n",
      "maximum in the future. For now, use 'series.values.argmax' or\n",
      "'np.argmax(np.array(values))' to get the position of the maximum\n",
      "row.\n"
     ]
    },
    {
     "name": "stdout",
     "output_type": "stream",
     "text": [
      "LR: I've changed card: The Log by : The Log\n",
      "XGB: I've changed card: The Log by : The Log\n"
     ]
    },
    {
     "name": "stderr",
     "output_type": "stream",
     "text": [
      "C:\\Users\\EQUIPO\\Anaconda3\\lib\\site-packages\\ipykernel_launcher.py:39: FutureWarning: \n",
      "The current behaviour of 'Series.argmax' is deprecated, use 'idxmax'\n",
      "instead.\n",
      "The behavior of 'argmax' will be corrected to return the positional\n",
      "maximum in the future. For now, use 'series.values.argmax' or\n",
      "'np.argmax(np.array(values))' to get the position of the maximum\n",
      "row.\n"
     ]
    },
    {
     "name": "stdout",
     "output_type": "stream",
     "text": [
      "LR: I've changed card: Zap by : Zap\n",
      "XGB: I've changed card: Zap by : Zap\n",
      "LR: proposed new deck: Ice Spirit|Barbarian Barrel|Mega Minion|Miner|Mini P.E.K.K.A|Giant|The Log|Zap\n",
      "XGB: proposed new deck: Inferno Dragon|Lightning|Mega Minion|Graveyard|Mini P.E.K.K.A|Poison|The Log|Zap\n"
     ]
    }
   ],
   "source": [
    "# number of sweeps applied to the whole deck\n",
    "N_SWEEPS = 5\n",
    "# initialize the new deck container\n",
    "newBattleDeckOrderedLR  = battleDeckOrdered.copy()\n",
    "newBattleDeckOrderedXGB = battleDeckOrdered.copy()\n",
    "# initialize the vector for the deck probability prediction\n",
    "newUsecase1LR = usecase1.copy()\n",
    "newUsecase1XGB = usecase1.copy()\n",
    "# deck container for every sweep.\n",
    "BattleDeckOrderedLRList  = [newBattleDeckOrderedLR.copy()]\n",
    "BattleDeckOrderedXGBList = [newBattleDeckOrderedXGB.copy()]\n",
    "# probability container in each proposed deck\n",
    "probBattleDeckOrderedLR  = [pd.DataFrame(lr.predict_proba(newUsecase1LR), columns=[\"prob0\",\"prob1\"])[\"prob1\"].max()]\n",
    "probBattleDeckOrderedXGB  = [bst.predict(xgb.DMatrix(newUsecase1XGB.values, feature_names=colListModel1)).max()]\n",
    "\n",
    "print(newBattleDeckOrderedLR)\n",
    "\n",
    "# for every sweep\n",
    "for sweepi in range(N_SWEEPS):\n",
    "# we fix one card that we want the change by another card with better winrate inside the deck\n",
    "    for pos in range(len(battleDeckOrdered)):\n",
    "        #### Logistic regression optimization based\n",
    "# recover the available cards (not in the deck, except the fixed card in this step)\n",
    "        availablePosLR = np.array(list(availableCards.keys()))[~np.isin(np.array(list(availableCards.keys())),\n",
    "                                         (np.array(newBattleDeckOrderedLR)[[z for z in range(len(newBattleDeckOrderedLR)) if z != pos]]))]\n",
    "# construct the pandas with all available cards, one row for each available card replacing the fixed card\n",
    "        matrixLR = newUsecase1LR.append([newUsecase1LR]*(len(availablePosLR)-1),ignore_index=True)\n",
    "        matrixLR[newBattleDeckOrderedLR[pos]] = 0\n",
    "        for cardi in range(len(availablePosLR)):\n",
    "            matrixLR.loc[cardi,availablePosLR[cardi]] = availableCards[availablePosLR[cardi]]\n",
    "        \n",
    "# initialize the next step with value 0 in the old fixed card position\n",
    "        newUsecase1LR[newBattleDeckOrderedLR[pos]]=0\n",
    "        \n",
    "        cardLROld = newBattleDeckOrderedLR[pos]\n",
    "        \n",
    "# select the best card that replaces the fixed based on logistic regression algorithm\n",
    "        probMatLR = pd.DataFrame(lr.predict_proba(matrixLR), columns=[\"prob0\",\"prob1\"])[\"prob1\"]\n",
    "        newBattleDeckOrderedLR[pos] = availablePosLR[probMatLR.argmax()].tolist()\n",
    "        cardLRNew = newBattleDeckOrderedLR[pos]\n",
    "        \n",
    "# initialize the next step with value 1 in the new selected card position\n",
    "\n",
    "        newUsecase1LR[newBattleDeckOrderedLR[pos]]=availableCards[newBattleDeckOrderedLR[pos]]\n",
    "\n",
    "        #### xgboost optimization based\n",
    "        availablePosXGB = np.array(list(availableCards.keys()))[~np.isin(np.array(list(availableCards.keys())),\n",
    "                                         (np.array(newBattleDeckOrderedXGB)[[z for z in range(len(newBattleDeckOrderedXGB)) if z != pos]]))]\n",
    "\n",
    "        matrixXGB = newUsecase1XGB.append([newUsecase1XGB]*(len(availablePosXGB)-1),ignore_index=True)\n",
    "        matrixXGB[newBattleDeckOrderedXGB[pos]] = 0\n",
    "        for cardi in range(len(availablePosXGB)):\n",
    "            matrixXGB.loc[cardi,availablePosXGB[cardi]] =  availableCards[availablePosXGB[cardi]]\n",
    "\n",
    "        dtest1 = xgb.DMatrix(matrixXGB.values, feature_names=colListModel1)\n",
    "        \n",
    "        newUsecase1XGB[newBattleDeckOrderedXGB[pos]]=0\n",
    "        \n",
    "        cardXGBOld = newBattleDeckOrderedXGB[pos]\n",
    "        \n",
    "        probMatXGB = bst.predict(dtest1)\n",
    "        newBattleDeckOrderedXGB[pos] = availablePosXGB[probMatXGB.argmax()].tolist()\n",
    "        cardXGBNew = newBattleDeckOrderedXGB[pos]\n",
    "        \n",
    "        newUsecase1XGB[newBattleDeckOrderedXGB[pos]]=availableCards[newBattleDeckOrderedXGB[pos]]\n",
    "        \n",
    "        print(\"LR: I've changed card: \"+cardLROld+\" by : \"+cardLRNew)\n",
    "        print(\"XGB: I've changed card: \"+cardXGBOld+\" by : \"+cardXGBNew)\n",
    "    \n",
    "# save the proposed deck in each sweep.\n",
    "    probBattleDeckOrderedLR.append(probMatLR.max())\n",
    "    probBattleDeckOrderedXGB.append(probMatXGB.max())\n",
    "\n",
    "    BattleDeckOrderedLRList.append(newBattleDeckOrderedLR.copy())\n",
    "    BattleDeckOrderedXGBList.append(newBattleDeckOrderedXGB.copy())\n",
    "    \n",
    "    print(\"LR: proposed new deck: \"+'|'.join(newBattleDeckOrderedLR) )\n",
    "    print(\"XGB: proposed new deck: \"+'|'.join(newBattleDeckOrderedXGB))\n",
    "\n",
    "    "
   ]
  },
  {
   "cell_type": "code",
   "execution_count": 200,
   "metadata": {},
   "outputs": [
    {
     "data": {
      "text/html": [
       "<div>\n",
       "<style scoped>\n",
       "    .dataframe tbody tr th:only-of-type {\n",
       "        vertical-align: middle;\n",
       "    }\n",
       "\n",
       "    .dataframe tbody tr th {\n",
       "        vertical-align: top;\n",
       "    }\n",
       "\n",
       "    .dataframe thead th {\n",
       "        text-align: right;\n",
       "    }\n",
       "</style>\n",
       "<table border=\"1\" class=\"dataframe\">\n",
       "  <thead>\n",
       "    <tr style=\"text-align: right;\">\n",
       "      <th></th>\n",
       "      <th>0</th>\n",
       "      <th>1</th>\n",
       "      <th>2</th>\n",
       "      <th>3</th>\n",
       "      <th>4</th>\n",
       "      <th>5</th>\n",
       "      <th>6</th>\n",
       "      <th>7</th>\n",
       "      <th>8</th>\n",
       "    </tr>\n",
       "  </thead>\n",
       "  <tbody>\n",
       "    <tr>\n",
       "      <th>0</th>\n",
       "      <td>Bats</td>\n",
       "      <td>Giant</td>\n",
       "      <td>Mega Minion</td>\n",
       "      <td>Miner</td>\n",
       "      <td>Mini P.E.K.K.A</td>\n",
       "      <td>Poison</td>\n",
       "      <td>The Log</td>\n",
       "      <td>Zap</td>\n",
       "      <td>0.534057</td>\n",
       "    </tr>\n",
       "    <tr>\n",
       "      <th>1</th>\n",
       "      <td>Ice Spirit</td>\n",
       "      <td>Barbarian Barrel</td>\n",
       "      <td>Mega Minion</td>\n",
       "      <td>Miner</td>\n",
       "      <td>Mini P.E.K.K.A</td>\n",
       "      <td>Giant</td>\n",
       "      <td>The Log</td>\n",
       "      <td>Zap</td>\n",
       "      <td>0.568943</td>\n",
       "    </tr>\n",
       "    <tr>\n",
       "      <th>2</th>\n",
       "      <td>Ice Spirit</td>\n",
       "      <td>Barbarian Barrel</td>\n",
       "      <td>Mega Minion</td>\n",
       "      <td>Miner</td>\n",
       "      <td>Mini P.E.K.K.A</td>\n",
       "      <td>Giant</td>\n",
       "      <td>The Log</td>\n",
       "      <td>Zap</td>\n",
       "      <td>0.568943</td>\n",
       "    </tr>\n",
       "    <tr>\n",
       "      <th>3</th>\n",
       "      <td>Ice Spirit</td>\n",
       "      <td>Barbarian Barrel</td>\n",
       "      <td>Mega Minion</td>\n",
       "      <td>Miner</td>\n",
       "      <td>Mini P.E.K.K.A</td>\n",
       "      <td>Giant</td>\n",
       "      <td>The Log</td>\n",
       "      <td>Zap</td>\n",
       "      <td>0.568943</td>\n",
       "    </tr>\n",
       "    <tr>\n",
       "      <th>4</th>\n",
       "      <td>Ice Spirit</td>\n",
       "      <td>Barbarian Barrel</td>\n",
       "      <td>Mega Minion</td>\n",
       "      <td>Miner</td>\n",
       "      <td>Mini P.E.K.K.A</td>\n",
       "      <td>Giant</td>\n",
       "      <td>The Log</td>\n",
       "      <td>Zap</td>\n",
       "      <td>0.568943</td>\n",
       "    </tr>\n",
       "    <tr>\n",
       "      <th>5</th>\n",
       "      <td>Ice Spirit</td>\n",
       "      <td>Barbarian Barrel</td>\n",
       "      <td>Mega Minion</td>\n",
       "      <td>Miner</td>\n",
       "      <td>Mini P.E.K.K.A</td>\n",
       "      <td>Giant</td>\n",
       "      <td>The Log</td>\n",
       "      <td>Zap</td>\n",
       "      <td>0.568943</td>\n",
       "    </tr>\n",
       "  </tbody>\n",
       "</table>\n",
       "</div>"
      ],
      "text/plain": [
       "            0                 1            2      3               4       5  \\\n",
       "0        Bats             Giant  Mega Minion  Miner  Mini P.E.K.K.A  Poison   \n",
       "1  Ice Spirit  Barbarian Barrel  Mega Minion  Miner  Mini P.E.K.K.A   Giant   \n",
       "2  Ice Spirit  Barbarian Barrel  Mega Minion  Miner  Mini P.E.K.K.A   Giant   \n",
       "3  Ice Spirit  Barbarian Barrel  Mega Minion  Miner  Mini P.E.K.K.A   Giant   \n",
       "4  Ice Spirit  Barbarian Barrel  Mega Minion  Miner  Mini P.E.K.K.A   Giant   \n",
       "5  Ice Spirit  Barbarian Barrel  Mega Minion  Miner  Mini P.E.K.K.A   Giant   \n",
       "\n",
       "         6    7         8  \n",
       "0  The Log  Zap  0.534057  \n",
       "1  The Log  Zap  0.568943  \n",
       "2  The Log  Zap  0.568943  \n",
       "3  The Log  Zap  0.568943  \n",
       "4  The Log  Zap  0.568943  \n",
       "5  The Log  Zap  0.568943  "
      ]
     },
     "execution_count": 200,
     "metadata": {},
     "output_type": "execute_result"
    }
   ],
   "source": [
    "### Results for logistic regression\n",
    "\n",
    "pd.concat([pd.DataFrame(BattleDeckOrderedLRList),pd.DataFrame(probBattleDeckOrderedLR)],axis=1,ignore_index=True)\n"
   ]
  },
  {
   "cell_type": "markdown",
   "metadata": {},
   "source": [
    "The Logistic regression model doesn't take into account the interactions between cards and their corresponding synergy. It only takes into account the individual values of the cards and therefore the final result has been a combination of 8 cards that aren’t realistic (given my knowledge in the game). Therefore, an aspect of improvement to this model would be to make it consider the interactions between cards and also add to the model a variable such as the elixir cost, which would then improve the result as we could set the fact of having a greater cost of elixir as a method of decreasing the probability of winning. However, the fact of being a linear model makes it difficult to consider interactions. Thus, we notice a clear disadvantage with respect to the XGBoost model, which does take into consideration this factor."
   ]
  },
  {
   "cell_type": "code",
   "execution_count": 201,
   "metadata": {},
   "outputs": [
    {
     "data": {
      "text/html": [
       "<div>\n",
       "<style scoped>\n",
       "    .dataframe tbody tr th:only-of-type {\n",
       "        vertical-align: middle;\n",
       "    }\n",
       "\n",
       "    .dataframe tbody tr th {\n",
       "        vertical-align: top;\n",
       "    }\n",
       "\n",
       "    .dataframe thead th {\n",
       "        text-align: right;\n",
       "    }\n",
       "</style>\n",
       "<table border=\"1\" class=\"dataframe\">\n",
       "  <thead>\n",
       "    <tr style=\"text-align: right;\">\n",
       "      <th></th>\n",
       "      <th>0</th>\n",
       "      <th>1</th>\n",
       "      <th>2</th>\n",
       "      <th>3</th>\n",
       "      <th>4</th>\n",
       "      <th>5</th>\n",
       "      <th>6</th>\n",
       "      <th>7</th>\n",
       "      <th>8</th>\n",
       "    </tr>\n",
       "  </thead>\n",
       "  <tbody>\n",
       "    <tr>\n",
       "      <th>0</th>\n",
       "      <td>Bats</td>\n",
       "      <td>Giant</td>\n",
       "      <td>Mega Minion</td>\n",
       "      <td>Miner</td>\n",
       "      <td>Mini P.E.K.K.A</td>\n",
       "      <td>Poison</td>\n",
       "      <td>The Log</td>\n",
       "      <td>Zap</td>\n",
       "      <td>0.575267</td>\n",
       "    </tr>\n",
       "    <tr>\n",
       "      <th>1</th>\n",
       "      <td>Inferno Dragon</td>\n",
       "      <td>Lightning</td>\n",
       "      <td>Mega Minion</td>\n",
       "      <td>Graveyard</td>\n",
       "      <td>Mini P.E.K.K.A</td>\n",
       "      <td>Poison</td>\n",
       "      <td>The Log</td>\n",
       "      <td>Zap</td>\n",
       "      <td>0.713631</td>\n",
       "    </tr>\n",
       "    <tr>\n",
       "      <th>2</th>\n",
       "      <td>Inferno Dragon</td>\n",
       "      <td>Lightning</td>\n",
       "      <td>Mega Minion</td>\n",
       "      <td>Graveyard</td>\n",
       "      <td>Mini P.E.K.K.A</td>\n",
       "      <td>Poison</td>\n",
       "      <td>The Log</td>\n",
       "      <td>Zap</td>\n",
       "      <td>0.713631</td>\n",
       "    </tr>\n",
       "    <tr>\n",
       "      <th>3</th>\n",
       "      <td>Inferno Dragon</td>\n",
       "      <td>Lightning</td>\n",
       "      <td>Mega Minion</td>\n",
       "      <td>Graveyard</td>\n",
       "      <td>Mini P.E.K.K.A</td>\n",
       "      <td>Poison</td>\n",
       "      <td>The Log</td>\n",
       "      <td>Zap</td>\n",
       "      <td>0.713631</td>\n",
       "    </tr>\n",
       "    <tr>\n",
       "      <th>4</th>\n",
       "      <td>Inferno Dragon</td>\n",
       "      <td>Lightning</td>\n",
       "      <td>Mega Minion</td>\n",
       "      <td>Graveyard</td>\n",
       "      <td>Mini P.E.K.K.A</td>\n",
       "      <td>Poison</td>\n",
       "      <td>The Log</td>\n",
       "      <td>Zap</td>\n",
       "      <td>0.713631</td>\n",
       "    </tr>\n",
       "    <tr>\n",
       "      <th>5</th>\n",
       "      <td>Inferno Dragon</td>\n",
       "      <td>Lightning</td>\n",
       "      <td>Mega Minion</td>\n",
       "      <td>Graveyard</td>\n",
       "      <td>Mini P.E.K.K.A</td>\n",
       "      <td>Poison</td>\n",
       "      <td>The Log</td>\n",
       "      <td>Zap</td>\n",
       "      <td>0.713631</td>\n",
       "    </tr>\n",
       "  </tbody>\n",
       "</table>\n",
       "</div>"
      ],
      "text/plain": [
       "                0          1            2          3               4       5  \\\n",
       "0            Bats      Giant  Mega Minion      Miner  Mini P.E.K.K.A  Poison   \n",
       "1  Inferno Dragon  Lightning  Mega Minion  Graveyard  Mini P.E.K.K.A  Poison   \n",
       "2  Inferno Dragon  Lightning  Mega Minion  Graveyard  Mini P.E.K.K.A  Poison   \n",
       "3  Inferno Dragon  Lightning  Mega Minion  Graveyard  Mini P.E.K.K.A  Poison   \n",
       "4  Inferno Dragon  Lightning  Mega Minion  Graveyard  Mini P.E.K.K.A  Poison   \n",
       "5  Inferno Dragon  Lightning  Mega Minion  Graveyard  Mini P.E.K.K.A  Poison   \n",
       "\n",
       "         6    7         8  \n",
       "0  The Log  Zap  0.575267  \n",
       "1  The Log  Zap  0.713631  \n",
       "2  The Log  Zap  0.713631  \n",
       "3  The Log  Zap  0.713631  \n",
       "4  The Log  Zap  0.713631  \n",
       "5  The Log  Zap  0.713631  "
      ]
     },
     "execution_count": 201,
     "metadata": {},
     "output_type": "execute_result"
    }
   ],
   "source": [
    "### Results for xgboost\n",
    "\n",
    "pd.concat([pd.DataFrame(BattleDeckOrderedXGBList),pd.DataFrame(probBattleDeckOrderedXGB)],axis=1,ignore_index=True)\n"
   ]
  },
  {
   "cell_type": "markdown",
   "metadata": {},
   "source": [
    "The XGBoost model shows a better performance by considering some interactions between cards (given my experience in the game). For example, it has a win condition (when a deck is based on supporting a specific card that will be the one defeating the enemy tower) such as the “Graveyard” and many cards that synergize with it like the “Poison” and the “Mega Minion”. It also has defensive cards like the Inferno Dragon and the “Mini PEKKA”. Overall, the XGBoost shows a great performance in analyzing and predicting a good deck combination. However, one aspect of improvement could be the elixir cost, because as mentioned above; it could make the model to predict even better another efficient combination. As an example of this, the model would probably not consider having both the “Lightning” and the “Poison” on the same deck because they make to deck too expensive. Therefore, there is still a need of improving the model in the pursuit of the best deck."
   ]
  }
 ],
 "metadata": {
  "kernelspec": {
   "display_name": "Python 3",
   "language": "python",
   "name": "python3"
  },
  "language_info": {
   "codemirror_mode": {
    "name": "ipython",
    "version": 3
   },
   "file_extension": ".py",
   "mimetype": "text/x-python",
   "name": "python",
   "nbconvert_exporter": "python",
   "pygments_lexer": "ipython3",
   "version": "3.7.3"
  }
 },
 "nbformat": 4,
 "nbformat_minor": 2
}
